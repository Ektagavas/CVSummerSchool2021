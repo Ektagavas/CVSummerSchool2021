{
  "nbformat": 4,
  "nbformat_minor": 0,
  "metadata": {
    "kernelspec": {
      "display_name": "Python 3",
      "language": "python",
      "name": "python3"
    },
    "language_info": {
      "codemirror_mode": {
        "name": "ipython",
        "version": 3
      },
      "file_extension": ".py",
      "mimetype": "text/x-python",
      "name": "python",
      "nbconvert_exporter": "python",
      "pygments_lexer": "ipython3",
      "version": "3.8.5"
    },
    "colab": {
      "name": "01_FaceRecognition.ipynb",
      "provenance": [],
      "include_colab_link": true
    },
    "accelerator": "GPU"
  },
  "cells": [
    {
      "cell_type": "markdown",
      "metadata": {
        "id": "view-in-github",
        "colab_type": "text"
      },
      "source": [
        "<a href=\"https://colab.research.google.com/github/Ektagavas/CVSummerSchool2021/blob/main/Biometrics/01_FaceRecognition.ipynb\" target=\"_parent\"><img src=\"https://colab.research.google.com/assets/colab-badge.svg\" alt=\"Open In Colab\"/></a>"
      ]
    },
    {
      "cell_type": "markdown",
      "metadata": {
        "id": "xfyuh7lkdJl5"
      },
      "source": [
        "## Face Recognition\n",
        "\n",
        "In this tutorial, we are going to use the pre-trained VGG-Face network [1] to recognize faces of celebrities. The VGG-Face is a deep-CNN which has been trained using Softmax loss to recognize faces of 2,622 celebrity identities. We will use face images (that have been downloaded from the internet) of a random subset of 10  celebrities, out of the 2,622."
      ]
    },
    {
      "cell_type": "code",
      "metadata": {
        "execution": {
          "iopub.execute_input": "2021-08-20T07:13:26.434028Z",
          "iopub.status.busy": "2021-08-20T07:13:26.433639Z",
          "iopub.status.idle": "2021-08-20T07:13:27.233159Z",
          "shell.execute_reply": "2021-08-20T07:13:27.232663Z",
          "shell.execute_reply.started": "2021-08-20T07:13:26.434006Z"
        },
        "tags": [],
        "id": "a-9L0l08dJl-"
      },
      "source": [
        "import math\n",
        "import cv2\n",
        "import numpy as np\n",
        "import glob\n",
        "import torch\n",
        "import os\n",
        "import torchvision.models\n",
        "import matplotlib.pyplot as plt\n",
        "import matplotlib.image as mpimg\n",
        "%matplotlib inline \n",
        "plt.ion()"
      ],
      "execution_count": 1,
      "outputs": []
    },
    {
      "cell_type": "code",
      "metadata": {
        "collapsed": true,
        "id": "XldHDo_Pd0p2",
        "outputId": "c29b0b18-4f47-475a-dd92-7b5424ba9067",
        "colab": {
          "base_uri": "https://localhost:8080/"
        }
      },
      "source": [
        "# download all the data for this notebook.\n",
        "# Warning! This data is hosted on a personal Google drive and may be taken off at any time. \n",
        "#Also, the file is quite big, so please have patience!\n",
        "\n",
        "!wget --load-cookies /tmp/cookies.txt \"https://docs.google.com/uc?export=download&confirm=$(wget --quiet --save-cookies /tmp/cookies.txt --keep-session-cookies --no-check-certificate 'https://docs.google.com/uc?export=download&id=16O8OmhRn76m8SlIjPNhnwVnWk2djKhak' -O- | sed -rn 's/.*confirm=([0-9A-Za-z_]+).*/\\1\\n/p')&id=16O8OmhRn76m8SlIjPNhnwVnWk2djKhak\" -O data.zip && rm -rf /tmp/cookies.txt\n",
        "!unzip data.zip"
      ],
      "execution_count": 2,
      "outputs": [
        {
          "output_type": "stream",
          "text": [
            "--2021-08-22 01:33:00--  https://docs.google.com/uc?export=download&confirm=hsDQ&id=16O8OmhRn76m8SlIjPNhnwVnWk2djKhak\n",
            "Resolving docs.google.com (docs.google.com)... 142.251.8.139, 142.251.8.138, 142.251.8.102, ...\n",
            "Connecting to docs.google.com (docs.google.com)|142.251.8.139|:443... connected.\n",
            "HTTP request sent, awaiting response... 302 Moved Temporarily\n",
            "Location: https://doc-0c-48-docs.googleusercontent.com/docs/securesc/g9veqp9t3bis28083qjm4vfvbkk935sj/6vbp35to1plomd0tduk0ibikrmveu4v7/1629595950000/01684292996733358595/09014326189046262597Z/16O8OmhRn76m8SlIjPNhnwVnWk2djKhak?e=download [following]\n",
            "--2021-08-22 01:33:00--  https://doc-0c-48-docs.googleusercontent.com/docs/securesc/g9veqp9t3bis28083qjm4vfvbkk935sj/6vbp35to1plomd0tduk0ibikrmveu4v7/1629595950000/01684292996733358595/09014326189046262597Z/16O8OmhRn76m8SlIjPNhnwVnWk2djKhak?e=download\n",
            "Resolving doc-0c-48-docs.googleusercontent.com (doc-0c-48-docs.googleusercontent.com)... 74.125.204.132, 2404:6800:4008:c04::84\n",
            "Connecting to doc-0c-48-docs.googleusercontent.com (doc-0c-48-docs.googleusercontent.com)|74.125.204.132|:443... connected.\n",
            "HTTP request sent, awaiting response... 302 Found\n",
            "Location: https://docs.google.com/nonceSigner?nonce=a7p2nbv26r33c&continue=https://doc-0c-48-docs.googleusercontent.com/docs/securesc/g9veqp9t3bis28083qjm4vfvbkk935sj/6vbp35to1plomd0tduk0ibikrmveu4v7/1629595950000/01684292996733358595/09014326189046262597Z/16O8OmhRn76m8SlIjPNhnwVnWk2djKhak?e%3Ddownload&hash=k4fcrg12sol6tup5f03r68kgh6f128ks [following]\n",
            "--2021-08-22 01:33:00--  https://docs.google.com/nonceSigner?nonce=a7p2nbv26r33c&continue=https://doc-0c-48-docs.googleusercontent.com/docs/securesc/g9veqp9t3bis28083qjm4vfvbkk935sj/6vbp35to1plomd0tduk0ibikrmveu4v7/1629595950000/01684292996733358595/09014326189046262597Z/16O8OmhRn76m8SlIjPNhnwVnWk2djKhak?e%3Ddownload&hash=k4fcrg12sol6tup5f03r68kgh6f128ks\n",
            "Connecting to docs.google.com (docs.google.com)|142.251.8.139|:443... connected.\n",
            "HTTP request sent, awaiting response... 302 Found\n",
            "Location: https://doc-0c-48-docs.googleusercontent.com/docs/securesc/g9veqp9t3bis28083qjm4vfvbkk935sj/6vbp35to1plomd0tduk0ibikrmveu4v7/1629595950000/01684292996733358595/09014326189046262597Z/16O8OmhRn76m8SlIjPNhnwVnWk2djKhak?e=download&nonce=a7p2nbv26r33c&user=09014326189046262597Z&hash=ia53dt75382d7jlq47f93gvejdruh4md [following]\n",
            "--2021-08-22 01:33:01--  https://doc-0c-48-docs.googleusercontent.com/docs/securesc/g9veqp9t3bis28083qjm4vfvbkk935sj/6vbp35to1plomd0tduk0ibikrmveu4v7/1629595950000/01684292996733358595/09014326189046262597Z/16O8OmhRn76m8SlIjPNhnwVnWk2djKhak?e=download&nonce=a7p2nbv26r33c&user=09014326189046262597Z&hash=ia53dt75382d7jlq47f93gvejdruh4md\n",
            "Connecting to doc-0c-48-docs.googleusercontent.com (doc-0c-48-docs.googleusercontent.com)|74.125.204.132|:443... connected.\n",
            "HTTP request sent, awaiting response... 200 OK\n",
            "Length: unspecified [application/x-zip-compressed]\n",
            "Saving to: ‘data.zip’\n",
            "\n",
            "data.zip                [                <=> ] 521.45M   144MB/s    in 3.8s    \n",
            "\n",
            "2021-08-22 01:33:06 (138 MB/s) - ‘data.zip’ saved [546782635]\n",
            "\n",
            "Archive:  data.zip\n",
            "   creating: data/\n",
            "   creating: data/Experiment_1/\n",
            "  inflating: data/Experiment_1/A.R._Rahman.jpg  \n",
            " extracting: data/Experiment_1/Aamir_Khan.png  \n",
            "  inflating: data/Experiment_1/Amy_Schumer.jpg  \n",
            "  inflating: data/Experiment_1/Anne_Hathaway.jpg  \n",
            "  inflating: data/Experiment_1/A_P_J_Abdul_Kalam.jpg  \n",
            "  inflating: data/Experiment_1/Julia_Roberts.jpg  \n",
            "  inflating: data/Experiment_1/Kangana_Ranaut.jpg  \n",
            "  inflating: data/Experiment_1/Kit_Harington.jpg  \n",
            "  inflating: data/Experiment_1/Louis_CK.jpg  \n",
            "  inflating: data/Experiment_1/Madhuri_Dixit.jpg  \n",
            "   creating: data/Experiment_2/\n",
            "  inflating: data/Experiment_2/celeba-gender-dataset.json  \n",
            "   creating: data/Experiment_2/female/\n",
            "  inflating: data/Experiment_2/female/101.jpg  \n",
            "  inflating: data/Experiment_2/female/102.jpg  \n",
            "  inflating: data/Experiment_2/female/103.jpg  \n",
            "  inflating: data/Experiment_2/female/104.jpg  \n",
            "  inflating: data/Experiment_2/female/105.jpg  \n",
            "  inflating: data/Experiment_2/female/106.jpg  \n",
            "  inflating: data/Experiment_2/female/107.jpg  \n",
            "  inflating: data/Experiment_2/female/108.jpg  \n",
            "  inflating: data/Experiment_2/female/109.jpg  \n",
            "  inflating: data/Experiment_2/female/110.jpg  \n",
            "  inflating: data/Experiment_2/female/111.jpg  \n",
            "  inflating: data/Experiment_2/female/112.jpg  \n",
            "  inflating: data/Experiment_2/female/113.jpg  \n",
            "  inflating: data/Experiment_2/female/114.jpg  \n",
            "  inflating: data/Experiment_2/female/115.jpg  \n",
            "  inflating: data/Experiment_2/female/116.jpg  \n",
            "  inflating: data/Experiment_2/female/117.jpg  \n",
            "  inflating: data/Experiment_2/female/118.jpg  \n",
            "  inflating: data/Experiment_2/female/119.jpg  \n",
            "  inflating: data/Experiment_2/female/120.jpg  \n",
            "  inflating: data/Experiment_2/female/121.jpg  \n",
            "  inflating: data/Experiment_2/female/122.jpg  \n",
            "  inflating: data/Experiment_2/female/123.jpg  \n",
            "  inflating: data/Experiment_2/female/124.jpg  \n",
            "  inflating: data/Experiment_2/female/125.jpg  \n",
            "  inflating: data/Experiment_2/female/126.jpg  \n",
            "  inflating: data/Experiment_2/female/127.jpg  \n",
            "  inflating: data/Experiment_2/female/128.jpg  \n",
            "  inflating: data/Experiment_2/female/129.jpg  \n",
            "  inflating: data/Experiment_2/female/130.jpg  \n",
            "  inflating: data/Experiment_2/female/131.jpg  \n",
            "  inflating: data/Experiment_2/female/132.jpg  \n",
            "  inflating: data/Experiment_2/female/133.jpg  \n",
            "  inflating: data/Experiment_2/female/134.jpg  \n",
            "  inflating: data/Experiment_2/female/135.jpg  \n",
            "  inflating: data/Experiment_2/female/136.jpg  \n",
            "  inflating: data/Experiment_2/female/137.jpg  \n",
            "  inflating: data/Experiment_2/female/138.jpg  \n",
            "  inflating: data/Experiment_2/female/139.jpg  \n",
            "  inflating: data/Experiment_2/female/140.jpg  \n",
            "  inflating: data/Experiment_2/female/141.jpg  \n",
            "  inflating: data/Experiment_2/female/142.jpg  \n",
            "  inflating: data/Experiment_2/female/143.jpg  \n",
            "  inflating: data/Experiment_2/female/144.jpg  \n",
            "  inflating: data/Experiment_2/female/145.jpg  \n",
            "  inflating: data/Experiment_2/female/146.jpg  \n",
            "  inflating: data/Experiment_2/female/147.jpg  \n",
            "  inflating: data/Experiment_2/female/148.jpg  \n",
            "  inflating: data/Experiment_2/female/149.jpg  \n",
            "  inflating: data/Experiment_2/female/150.jpg  \n",
            "  inflating: data/Experiment_2/female/151.jpg  \n",
            "  inflating: data/Experiment_2/female/152.jpg  \n",
            "  inflating: data/Experiment_2/female/153.jpg  \n",
            "  inflating: data/Experiment_2/female/154.jpg  \n",
            "  inflating: data/Experiment_2/female/155.jpg  \n",
            "  inflating: data/Experiment_2/female/156.jpg  \n",
            "  inflating: data/Experiment_2/female/157.jpg  \n",
            "  inflating: data/Experiment_2/female/158.jpg  \n",
            "  inflating: data/Experiment_2/female/159.jpg  \n",
            "  inflating: data/Experiment_2/female/160.jpg  \n",
            "  inflating: data/Experiment_2/female/161.jpg  \n",
            "  inflating: data/Experiment_2/female/162.jpg  \n",
            "  inflating: data/Experiment_2/female/163.jpg  \n",
            "  inflating: data/Experiment_2/female/164.jpg  \n",
            "  inflating: data/Experiment_2/female/165.jpg  \n",
            "  inflating: data/Experiment_2/female/166.jpg  \n",
            "  inflating: data/Experiment_2/female/167.jpg  \n",
            "  inflating: data/Experiment_2/female/168.jpg  \n",
            "  inflating: data/Experiment_2/female/169.jpg  \n",
            "  inflating: data/Experiment_2/female/170.jpg  \n",
            "  inflating: data/Experiment_2/female/171.jpg  \n",
            "  inflating: data/Experiment_2/female/172.jpg  \n",
            "  inflating: data/Experiment_2/female/173.jpg  \n",
            "  inflating: data/Experiment_2/female/174.jpg  \n",
            "  inflating: data/Experiment_2/female/175.jpg  \n",
            "  inflating: data/Experiment_2/female/176.jpg  \n",
            "  inflating: data/Experiment_2/female/177.jpg  \n",
            "  inflating: data/Experiment_2/female/178.jpg  \n",
            "  inflating: data/Experiment_2/female/179.jpg  \n",
            "  inflating: data/Experiment_2/female/180.jpg  \n",
            "  inflating: data/Experiment_2/female/181.jpg  \n",
            "  inflating: data/Experiment_2/female/182.jpg  \n",
            "  inflating: data/Experiment_2/female/183.jpg  \n",
            "  inflating: data/Experiment_2/female/184.jpg  \n",
            "  inflating: data/Experiment_2/female/185.jpg  \n",
            "  inflating: data/Experiment_2/female/186.jpg  \n",
            "  inflating: data/Experiment_2/female/187.jpg  \n",
            "  inflating: data/Experiment_2/female/188.jpg  \n",
            "  inflating: data/Experiment_2/female/189.jpg  \n",
            "  inflating: data/Experiment_2/female/190.jpg  \n",
            "  inflating: data/Experiment_2/female/191.jpg  \n",
            "  inflating: data/Experiment_2/female/192.jpg  \n",
            "  inflating: data/Experiment_2/female/193.jpg  \n",
            "  inflating: data/Experiment_2/female/194.jpg  \n",
            "  inflating: data/Experiment_2/female/195.jpg  \n",
            "  inflating: data/Experiment_2/female/196.jpg  \n",
            "  inflating: data/Experiment_2/female/197.jpg  \n",
            "  inflating: data/Experiment_2/female/198.jpg  \n",
            "  inflating: data/Experiment_2/female/199.jpg  \n",
            "  inflating: data/Experiment_2/female/200.jpg  \n",
            "   creating: data/Experiment_2/male/\n",
            "  inflating: data/Experiment_2/male/001.jpg  \n",
            "  inflating: data/Experiment_2/male/002.jpg  \n",
            "  inflating: data/Experiment_2/male/003.jpg  \n",
            "  inflating: data/Experiment_2/male/004.jpg  \n",
            "  inflating: data/Experiment_2/male/005.jpg  \n",
            "  inflating: data/Experiment_2/male/006.jpg  \n",
            "  inflating: data/Experiment_2/male/007.jpg  \n",
            "  inflating: data/Experiment_2/male/008.jpg  \n",
            "  inflating: data/Experiment_2/male/009.jpg  \n",
            "  inflating: data/Experiment_2/male/010.jpg  \n",
            "  inflating: data/Experiment_2/male/011.jpg  \n",
            "  inflating: data/Experiment_2/male/012.jpg  \n",
            "  inflating: data/Experiment_2/male/013.jpg  \n",
            "  inflating: data/Experiment_2/male/014.jpg  \n",
            "  inflating: data/Experiment_2/male/015.jpg  \n",
            "  inflating: data/Experiment_2/male/016.jpg  \n",
            "  inflating: data/Experiment_2/male/017.jpg  \n",
            "  inflating: data/Experiment_2/male/018.jpg  \n",
            "  inflating: data/Experiment_2/male/019.jpg  \n",
            "  inflating: data/Experiment_2/male/020.jpg  \n",
            "  inflating: data/Experiment_2/male/021.jpg  \n",
            "  inflating: data/Experiment_2/male/022.jpg  \n",
            "  inflating: data/Experiment_2/male/023.jpg  \n",
            "  inflating: data/Experiment_2/male/024.jpg  \n",
            "  inflating: data/Experiment_2/male/025.jpg  \n",
            "  inflating: data/Experiment_2/male/026.jpg  \n",
            "  inflating: data/Experiment_2/male/027.jpg  \n",
            "  inflating: data/Experiment_2/male/028.jpg  \n",
            "  inflating: data/Experiment_2/male/029.jpg  \n",
            "  inflating: data/Experiment_2/male/030.jpg  \n",
            "  inflating: data/Experiment_2/male/031.jpg  \n",
            "  inflating: data/Experiment_2/male/032.jpg  \n",
            "  inflating: data/Experiment_2/male/033.jpg  \n",
            "  inflating: data/Experiment_2/male/034.jpg  \n",
            "  inflating: data/Experiment_2/male/035.jpg  \n",
            "  inflating: data/Experiment_2/male/036.jpg  \n",
            "  inflating: data/Experiment_2/male/037.jpg  \n",
            "  inflating: data/Experiment_2/male/038.jpg  \n",
            "  inflating: data/Experiment_2/male/039.jpg  \n",
            "  inflating: data/Experiment_2/male/040.jpg  \n",
            "  inflating: data/Experiment_2/male/041.jpg  \n",
            "  inflating: data/Experiment_2/male/042.jpg  \n",
            "  inflating: data/Experiment_2/male/043.jpg  \n",
            "  inflating: data/Experiment_2/male/044.jpg  \n",
            "  inflating: data/Experiment_2/male/045.jpg  \n",
            "  inflating: data/Experiment_2/male/046.jpg  \n",
            "  inflating: data/Experiment_2/male/047.jpg  \n",
            "  inflating: data/Experiment_2/male/048.jpg  \n",
            "  inflating: data/Experiment_2/male/049.jpg  \n",
            "  inflating: data/Experiment_2/male/050.jpg  \n",
            "  inflating: data/Experiment_2/male/051.jpg  \n",
            "  inflating: data/Experiment_2/male/052.jpg  \n",
            "  inflating: data/Experiment_2/male/053.jpg  \n",
            "  inflating: data/Experiment_2/male/054.jpg  \n",
            "  inflating: data/Experiment_2/male/055.jpg  \n",
            "  inflating: data/Experiment_2/male/056.jpg  \n",
            "  inflating: data/Experiment_2/male/057.jpg  \n",
            "  inflating: data/Experiment_2/male/058.jpg  \n",
            "  inflating: data/Experiment_2/male/059.jpg  \n",
            "  inflating: data/Experiment_2/male/060.jpg  \n",
            "  inflating: data/Experiment_2/male/061.jpg  \n",
            "  inflating: data/Experiment_2/male/062.jpg  \n",
            "  inflating: data/Experiment_2/male/063.jpg  \n",
            "  inflating: data/Experiment_2/male/064.jpg  \n",
            "  inflating: data/Experiment_2/male/065.jpg  \n",
            "  inflating: data/Experiment_2/male/066.jpg  \n",
            "  inflating: data/Experiment_2/male/067.jpg  \n",
            "  inflating: data/Experiment_2/male/068.jpg  \n",
            "  inflating: data/Experiment_2/male/069.jpg  \n",
            "  inflating: data/Experiment_2/male/070.jpg  \n",
            "  inflating: data/Experiment_2/male/071.jpg  \n",
            "  inflating: data/Experiment_2/male/072.jpg  \n",
            "  inflating: data/Experiment_2/male/073.jpg  \n",
            "  inflating: data/Experiment_2/male/074.jpg  \n",
            "  inflating: data/Experiment_2/male/075.jpg  \n",
            "  inflating: data/Experiment_2/male/076.jpg  \n",
            "  inflating: data/Experiment_2/male/077.jpg  \n",
            "  inflating: data/Experiment_2/male/078.jpg  \n",
            "  inflating: data/Experiment_2/male/079.jpg  \n",
            "  inflating: data/Experiment_2/male/080.jpg  \n",
            "  inflating: data/Experiment_2/male/081.jpg  \n",
            "  inflating: data/Experiment_2/male/082.jpg  \n",
            "  inflating: data/Experiment_2/male/083.jpg  \n",
            "  inflating: data/Experiment_2/male/084.jpg  \n",
            "  inflating: data/Experiment_2/male/085.jpg  \n",
            "  inflating: data/Experiment_2/male/086.jpg  \n",
            "  inflating: data/Experiment_2/male/087.jpg  \n",
            "  inflating: data/Experiment_2/male/088.jpg  \n",
            "  inflating: data/Experiment_2/male/089.jpg  \n",
            "  inflating: data/Experiment_2/male/090.jpg  \n",
            "  inflating: data/Experiment_2/male/091.jpg  \n",
            "  inflating: data/Experiment_2/male/092.jpg  \n",
            "  inflating: data/Experiment_2/male/093.jpg  \n",
            "  inflating: data/Experiment_2/male/094.jpg  \n",
            "  inflating: data/Experiment_2/male/095.jpg  \n",
            "  inflating: data/Experiment_2/male/096.jpg  \n",
            "  inflating: data/Experiment_2/male/097.jpg  \n",
            "  inflating: data/Experiment_2/male/098.jpg  \n",
            "  inflating: data/Experiment_2/male/099.jpg  \n",
            "  inflating: data/Experiment_2/male/100.jpg  \n",
            "   creating: data/Experiment_3/\n",
            "  inflating: data/Experiment_3/cfpw-pairs-dataset.npy  \n",
            "   creating: data/Experiment_3/dissimilar/\n",
            "  inflating: data/Experiment_3/dissimilar/501_1.jpg  \n",
            "  inflating: data/Experiment_3/dissimilar/501_2.jpg  \n",
            "  inflating: data/Experiment_3/dissimilar/502_1.jpg  \n",
            "  inflating: data/Experiment_3/dissimilar/502_2.jpg  \n",
            "  inflating: data/Experiment_3/dissimilar/503_1.jpg  \n",
            "  inflating: data/Experiment_3/dissimilar/503_2.jpg  \n",
            "  inflating: data/Experiment_3/dissimilar/504_1.jpg  \n",
            "  inflating: data/Experiment_3/dissimilar/504_2.jpg  \n",
            "  inflating: data/Experiment_3/dissimilar/505_1.jpg  \n",
            "  inflating: data/Experiment_3/dissimilar/505_2.jpg  \n",
            "  inflating: data/Experiment_3/dissimilar/506_1.jpg  \n",
            "  inflating: data/Experiment_3/dissimilar/506_2.jpg  \n",
            "  inflating: data/Experiment_3/dissimilar/507_1.jpg  \n",
            "  inflating: data/Experiment_3/dissimilar/507_2.jpg  \n",
            "  inflating: data/Experiment_3/dissimilar/508_1.jpg  \n",
            "  inflating: data/Experiment_3/dissimilar/508_2.jpg  \n",
            "  inflating: data/Experiment_3/dissimilar/509_1.jpg  \n",
            "  inflating: data/Experiment_3/dissimilar/509_2.jpg  \n",
            "  inflating: data/Experiment_3/dissimilar/510_1.jpg  \n",
            "  inflating: data/Experiment_3/dissimilar/510_2.jpg  \n",
            "  inflating: data/Experiment_3/dissimilar/511_1.jpg  \n",
            "  inflating: data/Experiment_3/dissimilar/511_2.jpg  \n",
            "  inflating: data/Experiment_3/dissimilar/512_1.jpg  \n",
            "  inflating: data/Experiment_3/dissimilar/512_2.jpg  \n",
            "  inflating: data/Experiment_3/dissimilar/513_1.jpg  \n",
            "  inflating: data/Experiment_3/dissimilar/513_2.jpg  \n",
            "  inflating: data/Experiment_3/dissimilar/514_1.jpg  \n",
            "  inflating: data/Experiment_3/dissimilar/514_2.jpg  \n",
            "  inflating: data/Experiment_3/dissimilar/515_1.jpg  \n",
            "  inflating: data/Experiment_3/dissimilar/515_2.jpg  \n",
            "  inflating: data/Experiment_3/dissimilar/516_1.jpg  \n",
            "  inflating: data/Experiment_3/dissimilar/516_2.jpg  \n",
            "  inflating: data/Experiment_3/dissimilar/517_1.jpg  \n",
            "  inflating: data/Experiment_3/dissimilar/517_2.jpg  \n",
            "  inflating: data/Experiment_3/dissimilar/518_1.jpg  \n",
            "  inflating: data/Experiment_3/dissimilar/518_2.jpg  \n",
            "  inflating: data/Experiment_3/dissimilar/519_1.jpg  \n",
            "  inflating: data/Experiment_3/dissimilar/519_2.jpg  \n",
            "  inflating: data/Experiment_3/dissimilar/520_1.jpg  \n",
            "  inflating: data/Experiment_3/dissimilar/520_2.jpg  \n",
            "  inflating: data/Experiment_3/dissimilar/521_1.jpg  \n",
            "  inflating: data/Experiment_3/dissimilar/521_2.jpg  \n",
            "  inflating: data/Experiment_3/dissimilar/522_1.jpg  \n",
            "  inflating: data/Experiment_3/dissimilar/522_2.jpg  \n",
            "  inflating: data/Experiment_3/dissimilar/523_1.jpg  \n",
            "  inflating: data/Experiment_3/dissimilar/523_2.jpg  \n",
            "  inflating: data/Experiment_3/dissimilar/524_1.jpg  \n",
            "  inflating: data/Experiment_3/dissimilar/524_2.jpg  \n",
            "  inflating: data/Experiment_3/dissimilar/525_1.jpg  \n",
            "  inflating: data/Experiment_3/dissimilar/525_2.jpg  \n",
            "  inflating: data/Experiment_3/dissimilar/526_1.jpg  \n",
            "  inflating: data/Experiment_3/dissimilar/526_2.jpg  \n",
            "  inflating: data/Experiment_3/dissimilar/527_1.jpg  \n",
            "  inflating: data/Experiment_3/dissimilar/527_2.jpg  \n",
            "  inflating: data/Experiment_3/dissimilar/528_1.jpg  \n",
            "  inflating: data/Experiment_3/dissimilar/528_2.jpg  \n",
            "  inflating: data/Experiment_3/dissimilar/529_1.jpg  \n",
            "  inflating: data/Experiment_3/dissimilar/529_2.jpg  \n",
            "  inflating: data/Experiment_3/dissimilar/530_1.jpg  \n",
            "  inflating: data/Experiment_3/dissimilar/530_2.jpg  \n",
            "  inflating: data/Experiment_3/dissimilar/531_1.jpg  \n",
            "  inflating: data/Experiment_3/dissimilar/531_2.jpg  \n",
            "  inflating: data/Experiment_3/dissimilar/532_1.jpg  \n",
            "  inflating: data/Experiment_3/dissimilar/532_2.jpg  \n",
            "  inflating: data/Experiment_3/dissimilar/533_1.jpg  \n",
            "  inflating: data/Experiment_3/dissimilar/533_2.jpg  \n",
            "  inflating: data/Experiment_3/dissimilar/534_1.jpg  \n",
            "  inflating: data/Experiment_3/dissimilar/534_2.jpg  \n",
            "  inflating: data/Experiment_3/dissimilar/535_1.jpg  \n",
            "  inflating: data/Experiment_3/dissimilar/535_2.jpg  \n",
            "  inflating: data/Experiment_3/dissimilar/536_1.jpg  \n",
            "  inflating: data/Experiment_3/dissimilar/536_2.jpg  \n",
            "  inflating: data/Experiment_3/dissimilar/537_1.jpg  \n",
            "  inflating: data/Experiment_3/dissimilar/537_2.jpg  \n",
            "  inflating: data/Experiment_3/dissimilar/538_1.jpg  \n",
            "  inflating: data/Experiment_3/dissimilar/538_2.jpg  \n",
            "  inflating: data/Experiment_3/dissimilar/539_1.jpg  \n",
            "  inflating: data/Experiment_3/dissimilar/539_2.jpg  \n",
            "  inflating: data/Experiment_3/dissimilar/540_1.jpg  \n",
            "  inflating: data/Experiment_3/dissimilar/540_2.jpg  \n",
            "  inflating: data/Experiment_3/dissimilar/541_1.jpg  \n",
            "  inflating: data/Experiment_3/dissimilar/541_2.jpg  \n",
            "  inflating: data/Experiment_3/dissimilar/542_1.jpg  \n",
            "  inflating: data/Experiment_3/dissimilar/542_2.jpg  \n",
            "  inflating: data/Experiment_3/dissimilar/543_1.jpg  \n",
            "  inflating: data/Experiment_3/dissimilar/543_2.jpg  \n",
            "  inflating: data/Experiment_3/dissimilar/544_1.jpg  \n",
            "  inflating: data/Experiment_3/dissimilar/544_2.jpg  \n",
            "  inflating: data/Experiment_3/dissimilar/545_1.jpg  \n",
            "  inflating: data/Experiment_3/dissimilar/545_2.jpg  \n",
            "  inflating: data/Experiment_3/dissimilar/546_1.jpg  \n",
            "  inflating: data/Experiment_3/dissimilar/546_2.jpg  \n",
            "  inflating: data/Experiment_3/dissimilar/547_1.jpg  \n",
            "  inflating: data/Experiment_3/dissimilar/547_2.jpg  \n",
            "  inflating: data/Experiment_3/dissimilar/548_1.jpg  \n",
            "  inflating: data/Experiment_3/dissimilar/548_2.jpg  \n",
            "  inflating: data/Experiment_3/dissimilar/549_1.jpg  \n",
            "  inflating: data/Experiment_3/dissimilar/549_2.jpg  \n",
            "  inflating: data/Experiment_3/dissimilar/550_1.jpg  \n",
            "  inflating: data/Experiment_3/dissimilar/550_2.jpg  \n",
            "  inflating: data/Experiment_3/dissimilar/lfw_301_1.jpg  \n",
            "  inflating: data/Experiment_3/dissimilar/lfw_301_2.jpg  \n",
            "  inflating: data/Experiment_3/dissimilar/lfw_302_1.jpg  \n",
            "  inflating: data/Experiment_3/dissimilar/lfw_302_2.jpg  \n",
            "  inflating: data/Experiment_3/dissimilar/lfw_303_1.jpg  \n",
            "  inflating: data/Experiment_3/dissimilar/lfw_303_2.jpg  \n",
            "  inflating: data/Experiment_3/dissimilar/lfw_304_1.jpg  \n",
            "  inflating: data/Experiment_3/dissimilar/lfw_304_2.jpg  \n",
            "  inflating: data/Experiment_3/dissimilar/lfw_305_1.jpg  \n",
            "  inflating: data/Experiment_3/dissimilar/lfw_305_2.jpg  \n",
            "  inflating: data/Experiment_3/dissimilar/lfw_306_1.jpg  \n",
            "  inflating: data/Experiment_3/dissimilar/lfw_306_2.jpg  \n",
            "  inflating: data/Experiment_3/dissimilar/lfw_307_1.jpg  \n",
            "  inflating: data/Experiment_3/dissimilar/lfw_307_2.jpg  \n",
            "  inflating: data/Experiment_3/dissimilar/lfw_308_1.jpg  \n",
            "  inflating: data/Experiment_3/dissimilar/lfw_308_2.jpg  \n",
            "  inflating: data/Experiment_3/dissimilar/lfw_309_1.jpg  \n",
            "  inflating: data/Experiment_3/dissimilar/lfw_309_2.jpg  \n",
            "  inflating: data/Experiment_3/dissimilar/lfw_310_1.jpg  \n",
            "  inflating: data/Experiment_3/dissimilar/lfw_310_2.jpg  \n",
            "  inflating: data/Experiment_3/dissimilar/lfw_311_1.jpg  \n",
            "  inflating: data/Experiment_3/dissimilar/lfw_311_2.jpg  \n",
            "  inflating: data/Experiment_3/dissimilar/lfw_312_1.jpg  \n",
            "  inflating: data/Experiment_3/dissimilar/lfw_312_2.jpg  \n",
            "  inflating: data/Experiment_3/dissimilar/lfw_313_1.jpg  \n",
            "  inflating: data/Experiment_3/dissimilar/lfw_313_2.jpg  \n",
            "  inflating: data/Experiment_3/dissimilar/lfw_314_1.jpg  \n",
            "  inflating: data/Experiment_3/dissimilar/lfw_314_2.jpg  \n",
            "  inflating: data/Experiment_3/dissimilar/lfw_315_1.jpg  \n",
            "  inflating: data/Experiment_3/dissimilar/lfw_315_2.jpg  \n",
            "  inflating: data/Experiment_3/dissimilar/lfw_316_1.jpg  \n",
            "  inflating: data/Experiment_3/dissimilar/lfw_316_2.jpg  \n",
            "  inflating: data/Experiment_3/dissimilar/lfw_317_1.jpg  \n",
            "  inflating: data/Experiment_3/dissimilar/lfw_317_2.jpg  \n",
            "  inflating: data/Experiment_3/dissimilar/lfw_318_1.jpg  \n",
            "  inflating: data/Experiment_3/dissimilar/lfw_318_2.jpg  \n",
            "  inflating: data/Experiment_3/dissimilar/lfw_319_1.jpg  \n",
            "  inflating: data/Experiment_3/dissimilar/lfw_319_2.jpg  \n",
            "  inflating: data/Experiment_3/dissimilar/lfw_320_1.jpg  \n",
            "  inflating: data/Experiment_3/dissimilar/lfw_320_2.jpg  \n",
            "  inflating: data/Experiment_3/dissimilar/lfw_321_1.jpg  \n",
            "  inflating: data/Experiment_3/dissimilar/lfw_321_2.jpg  \n",
            "  inflating: data/Experiment_3/dissimilar/lfw_322_1.jpg  \n",
            "  inflating: data/Experiment_3/dissimilar/lfw_322_2.jpg  \n",
            "  inflating: data/Experiment_3/dissimilar/lfw_323_1.jpg  \n",
            "  inflating: data/Experiment_3/dissimilar/lfw_323_2.jpg  \n",
            "  inflating: data/Experiment_3/dissimilar/lfw_324_1.jpg  \n",
            "  inflating: data/Experiment_3/dissimilar/lfw_324_2.jpg  \n",
            "  inflating: data/Experiment_3/dissimilar/lfw_325_1.jpg  \n",
            "  inflating: data/Experiment_3/dissimilar/lfw_325_2.jpg  \n",
            "  inflating: data/Experiment_3/dissimilar/lfw_326_1.jpg  \n",
            "  inflating: data/Experiment_3/dissimilar/lfw_326_2.jpg  \n",
            "  inflating: data/Experiment_3/dissimilar/lfw_327_1.jpg  \n",
            "  inflating: data/Experiment_3/dissimilar/lfw_327_2.jpg  \n",
            "  inflating: data/Experiment_3/dissimilar/lfw_328_1.jpg  \n",
            "  inflating: data/Experiment_3/dissimilar/lfw_328_2.jpg  \n",
            "  inflating: data/Experiment_3/dissimilar/lfw_329_1.jpg  \n",
            "  inflating: data/Experiment_3/dissimilar/lfw_329_2.jpg  \n",
            "  inflating: data/Experiment_3/dissimilar/lfw_330_1.jpg  \n",
            "  inflating: data/Experiment_3/dissimilar/lfw_330_2.jpg  \n",
            "  inflating: data/Experiment_3/dissimilar/lfw_331_1.jpg  \n",
            "  inflating: data/Experiment_3/dissimilar/lfw_331_2.jpg  \n",
            "  inflating: data/Experiment_3/dissimilar/lfw_332_1.jpg  \n",
            "  inflating: data/Experiment_3/dissimilar/lfw_332_2.jpg  \n",
            "  inflating: data/Experiment_3/dissimilar/lfw_333_1.jpg  \n",
            "  inflating: data/Experiment_3/dissimilar/lfw_333_2.jpg  \n",
            "  inflating: data/Experiment_3/dissimilar/lfw_334_1.jpg  \n",
            "  inflating: data/Experiment_3/dissimilar/lfw_334_2.jpg  \n",
            "  inflating: data/Experiment_3/dissimilar/lfw_335_1.jpg  \n",
            "  inflating: data/Experiment_3/dissimilar/lfw_335_2.jpg  \n",
            "  inflating: data/Experiment_3/dissimilar/lfw_336_1.jpg  \n",
            "  inflating: data/Experiment_3/dissimilar/lfw_336_2.jpg  \n",
            "  inflating: data/Experiment_3/dissimilar/lfw_337_1.jpg  \n",
            "  inflating: data/Experiment_3/dissimilar/lfw_337_2.jpg  \n",
            "  inflating: data/Experiment_3/dissimilar/lfw_338_1.jpg  \n",
            "  inflating: data/Experiment_3/dissimilar/lfw_338_2.jpg  \n",
            "  inflating: data/Experiment_3/dissimilar/lfw_339_1.jpg  \n",
            "  inflating: data/Experiment_3/dissimilar/lfw_339_2.jpg  \n",
            "  inflating: data/Experiment_3/dissimilar/lfw_340_1.jpg  \n",
            "  inflating: data/Experiment_3/dissimilar/lfw_340_2.jpg  \n",
            "  inflating: data/Experiment_3/dissimilar/lfw_341_1.jpg  \n",
            "  inflating: data/Experiment_3/dissimilar/lfw_341_2.jpg  \n",
            "  inflating: data/Experiment_3/dissimilar/lfw_342_1.jpg  \n",
            "  inflating: data/Experiment_3/dissimilar/lfw_342_2.jpg  \n",
            "  inflating: data/Experiment_3/dissimilar/lfw_343_1.jpg  \n",
            "  inflating: data/Experiment_3/dissimilar/lfw_343_2.jpg  \n",
            "  inflating: data/Experiment_3/dissimilar/lfw_344_1.jpg  \n",
            "  inflating: data/Experiment_3/dissimilar/lfw_344_2.jpg  \n",
            "  inflating: data/Experiment_3/dissimilar/lfw_345_1.jpg  \n",
            "  inflating: data/Experiment_3/dissimilar/lfw_345_2.jpg  \n",
            "  inflating: data/Experiment_3/dissimilar/lfw_346_1.jpg  \n",
            "  inflating: data/Experiment_3/dissimilar/lfw_346_2.jpg  \n",
            "  inflating: data/Experiment_3/dissimilar/lfw_347_1.jpg  \n",
            "  inflating: data/Experiment_3/dissimilar/lfw_347_2.jpg  \n",
            "  inflating: data/Experiment_3/dissimilar/lfw_348_1.jpg  \n",
            "  inflating: data/Experiment_3/dissimilar/lfw_348_2.jpg  \n",
            "  inflating: data/Experiment_3/dissimilar/lfw_349_1.jpg  \n",
            "  inflating: data/Experiment_3/dissimilar/lfw_349_2.jpg  \n",
            "  inflating: data/Experiment_3/dissimilar/lfw_350_1.jpg  \n",
            "  inflating: data/Experiment_3/dissimilar/lfw_350_2.jpg  \n",
            "  inflating: data/Experiment_3/lfw-facePairs-dataset.t7  \n",
            "  inflating: data/Experiment_3/lfw-pairs-dataset.npy  \n",
            "   creating: data/Experiment_3/similar/\n",
            "  inflating: data/Experiment_3/similar/001_1.jpg  \n",
            "  inflating: data/Experiment_3/similar/001_2.jpg  \n",
            "  inflating: data/Experiment_3/similar/002_1.jpg  \n",
            "  inflating: data/Experiment_3/similar/002_2.jpg  \n",
            "  inflating: data/Experiment_3/similar/003_1.jpg  \n",
            "  inflating: data/Experiment_3/similar/003_2.jpg  \n",
            "  inflating: data/Experiment_3/similar/004_1.jpg  \n",
            "  inflating: data/Experiment_3/similar/004_2.jpg  \n",
            "  inflating: data/Experiment_3/similar/005_1.jpg  \n",
            "  inflating: data/Experiment_3/similar/005_2.jpg  \n",
            "  inflating: data/Experiment_3/similar/006_1.jpg  \n",
            "  inflating: data/Experiment_3/similar/006_2.jpg  \n",
            "  inflating: data/Experiment_3/similar/007_1.jpg  \n",
            "  inflating: data/Experiment_3/similar/007_2.jpg  \n",
            "  inflating: data/Experiment_3/similar/008_1.jpg  \n",
            "  inflating: data/Experiment_3/similar/008_2.jpg  \n",
            "  inflating: data/Experiment_3/similar/009_1.jpg  \n",
            "  inflating: data/Experiment_3/similar/009_2.jpg  \n",
            "  inflating: data/Experiment_3/similar/010_1.jpg  \n",
            "  inflating: data/Experiment_3/similar/010_2.jpg  \n",
            "  inflating: data/Experiment_3/similar/011_1.jpg  \n",
            "  inflating: data/Experiment_3/similar/011_2.jpg  \n",
            "  inflating: data/Experiment_3/similar/012_1.jpg  \n",
            "  inflating: data/Experiment_3/similar/012_2.jpg  \n",
            "  inflating: data/Experiment_3/similar/013_1.jpg  \n",
            "  inflating: data/Experiment_3/similar/013_2.jpg  \n",
            "  inflating: data/Experiment_3/similar/014_1.jpg  \n",
            "  inflating: data/Experiment_3/similar/014_2.jpg  \n",
            "  inflating: data/Experiment_3/similar/015_1.jpg  \n",
            "  inflating: data/Experiment_3/similar/015_2.jpg  \n",
            "  inflating: data/Experiment_3/similar/016_1.jpg  \n",
            "  inflating: data/Experiment_3/similar/016_2.jpg  \n",
            "  inflating: data/Experiment_3/similar/017_1.jpg  \n",
            "  inflating: data/Experiment_3/similar/017_2.jpg  \n",
            "  inflating: data/Experiment_3/similar/018_1.jpg  \n",
            "  inflating: data/Experiment_3/similar/018_2.jpg  \n",
            "  inflating: data/Experiment_3/similar/019_1.jpg  \n",
            "  inflating: data/Experiment_3/similar/019_2.jpg  \n",
            "  inflating: data/Experiment_3/similar/020_1.jpg  \n",
            "  inflating: data/Experiment_3/similar/020_2.jpg  \n",
            "  inflating: data/Experiment_3/similar/021_1.jpg  \n",
            "  inflating: data/Experiment_3/similar/021_2.jpg  \n",
            "  inflating: data/Experiment_3/similar/022_1.jpg  \n",
            "  inflating: data/Experiment_3/similar/022_2.jpg  \n",
            "  inflating: data/Experiment_3/similar/023_1.jpg  \n",
            "  inflating: data/Experiment_3/similar/023_2.jpg  \n",
            "  inflating: data/Experiment_3/similar/024_1.jpg  \n",
            "  inflating: data/Experiment_3/similar/024_2.jpg  \n",
            "  inflating: data/Experiment_3/similar/025_1.jpg  \n",
            "  inflating: data/Experiment_3/similar/025_2.jpg  \n",
            "  inflating: data/Experiment_3/similar/026_1.jpg  \n",
            "  inflating: data/Experiment_3/similar/026_2.jpg  \n",
            "  inflating: data/Experiment_3/similar/027_1.jpg  \n",
            "  inflating: data/Experiment_3/similar/027_2.jpg  \n",
            "  inflating: data/Experiment_3/similar/028_1.jpg  \n",
            "  inflating: data/Experiment_3/similar/028_2.jpg  \n",
            "  inflating: data/Experiment_3/similar/029_1.jpg  \n",
            "  inflating: data/Experiment_3/similar/029_2.jpg  \n",
            "  inflating: data/Experiment_3/similar/030_1.jpg  \n",
            "  inflating: data/Experiment_3/similar/030_2.jpg  \n",
            "  inflating: data/Experiment_3/similar/031_1.jpg  \n",
            "  inflating: data/Experiment_3/similar/031_2.jpg  \n",
            "  inflating: data/Experiment_3/similar/032_1.jpg  \n",
            "  inflating: data/Experiment_3/similar/032_2.jpg  \n",
            "  inflating: data/Experiment_3/similar/033_1.jpg  \n",
            "  inflating: data/Experiment_3/similar/033_2.jpg  \n",
            "  inflating: data/Experiment_3/similar/034_1.jpg  \n",
            "  inflating: data/Experiment_3/similar/034_2.jpg  \n",
            "  inflating: data/Experiment_3/similar/035_1.jpg  \n",
            "  inflating: data/Experiment_3/similar/035_2.jpg  \n",
            "  inflating: data/Experiment_3/similar/036_1.jpg  \n",
            "  inflating: data/Experiment_3/similar/036_2.jpg  \n",
            "  inflating: data/Experiment_3/similar/037_1.jpg  \n",
            "  inflating: data/Experiment_3/similar/037_2.jpg  \n",
            "  inflating: data/Experiment_3/similar/038_1.jpg  \n",
            "  inflating: data/Experiment_3/similar/038_2.jpg  \n",
            "  inflating: data/Experiment_3/similar/039_1.jpg  \n",
            "  inflating: data/Experiment_3/similar/039_2.jpg  \n",
            "  inflating: data/Experiment_3/similar/040_1.jpg  \n",
            "  inflating: data/Experiment_3/similar/040_2.jpg  \n",
            "  inflating: data/Experiment_3/similar/041_1.jpg  \n",
            "  inflating: data/Experiment_3/similar/041_2.jpg  \n",
            "  inflating: data/Experiment_3/similar/042_1.jpg  \n",
            "  inflating: data/Experiment_3/similar/042_2.jpg  \n",
            "  inflating: data/Experiment_3/similar/043_1.jpg  \n",
            "  inflating: data/Experiment_3/similar/043_2.jpg  \n",
            "  inflating: data/Experiment_3/similar/044_1.jpg  \n",
            "  inflating: data/Experiment_3/similar/044_2.jpg  \n",
            "  inflating: data/Experiment_3/similar/045_1.jpg  \n",
            "  inflating: data/Experiment_3/similar/045_2.jpg  \n",
            "  inflating: data/Experiment_3/similar/046_1.jpg  \n",
            "  inflating: data/Experiment_3/similar/046_2.jpg  \n",
            "  inflating: data/Experiment_3/similar/047_1.jpg  \n",
            "  inflating: data/Experiment_3/similar/047_2.jpg  \n",
            "  inflating: data/Experiment_3/similar/048_1.jpg  \n",
            "  inflating: data/Experiment_3/similar/048_2.jpg  \n",
            "  inflating: data/Experiment_3/similar/049_1.jpg  \n",
            "  inflating: data/Experiment_3/similar/049_2.jpg  \n",
            "  inflating: data/Experiment_3/similar/050_1.jpg  \n",
            "  inflating: data/Experiment_3/similar/050_2.jpg  \n",
            "  inflating: data/Experiment_3/similar/lfw_001_1.jpg  \n",
            "  inflating: data/Experiment_3/similar/lfw_001_2.jpg  \n",
            "  inflating: data/Experiment_3/similar/lfw_002_1.jpg  \n",
            "  inflating: data/Experiment_3/similar/lfw_002_2.jpg  \n",
            "  inflating: data/Experiment_3/similar/lfw_003_1.jpg  \n",
            "  inflating: data/Experiment_3/similar/lfw_003_2.jpg  \n",
            "  inflating: data/Experiment_3/similar/lfw_004_1.jpg  \n",
            "  inflating: data/Experiment_3/similar/lfw_004_2.jpg  \n",
            "  inflating: data/Experiment_3/similar/lfw_005_1.jpg  \n",
            "  inflating: data/Experiment_3/similar/lfw_005_2.jpg  \n",
            "  inflating: data/Experiment_3/similar/lfw_006_1.jpg  \n",
            "  inflating: data/Experiment_3/similar/lfw_006_2.jpg  \n",
            "  inflating: data/Experiment_3/similar/lfw_007_1.jpg  \n",
            "  inflating: data/Experiment_3/similar/lfw_007_2.jpg  \n",
            "  inflating: data/Experiment_3/similar/lfw_008_1.jpg  \n",
            "  inflating: data/Experiment_3/similar/lfw_008_2.jpg  \n",
            "  inflating: data/Experiment_3/similar/lfw_009_1.jpg  \n",
            "  inflating: data/Experiment_3/similar/lfw_009_2.jpg  \n",
            "  inflating: data/Experiment_3/similar/lfw_010_1.jpg  \n",
            "  inflating: data/Experiment_3/similar/lfw_010_2.jpg  \n",
            "  inflating: data/Experiment_3/similar/lfw_011_1.jpg  \n",
            "  inflating: data/Experiment_3/similar/lfw_011_2.jpg  \n",
            "  inflating: data/Experiment_3/similar/lfw_012_1.jpg  \n",
            "  inflating: data/Experiment_3/similar/lfw_012_2.jpg  \n",
            "  inflating: data/Experiment_3/similar/lfw_013_1.jpg  \n",
            "  inflating: data/Experiment_3/similar/lfw_013_2.jpg  \n",
            "  inflating: data/Experiment_3/similar/lfw_014_1.jpg  \n",
            "  inflating: data/Experiment_3/similar/lfw_014_2.jpg  \n",
            "  inflating: data/Experiment_3/similar/lfw_015_1.jpg  \n",
            "  inflating: data/Experiment_3/similar/lfw_015_2.jpg  \n",
            "  inflating: data/Experiment_3/similar/lfw_016_1.jpg  \n",
            "  inflating: data/Experiment_3/similar/lfw_016_2.jpg  \n",
            "  inflating: data/Experiment_3/similar/lfw_017_1.jpg  \n",
            "  inflating: data/Experiment_3/similar/lfw_017_2.jpg  \n",
            "  inflating: data/Experiment_3/similar/lfw_018_1.jpg  \n",
            "  inflating: data/Experiment_3/similar/lfw_018_2.jpg  \n",
            "  inflating: data/Experiment_3/similar/lfw_019_1.jpg  \n",
            "  inflating: data/Experiment_3/similar/lfw_019_2.jpg  \n",
            "  inflating: data/Experiment_3/similar/lfw_020_1.jpg  \n",
            "  inflating: data/Experiment_3/similar/lfw_020_2.jpg  \n",
            "  inflating: data/Experiment_3/similar/lfw_021_1.jpg  \n",
            "  inflating: data/Experiment_3/similar/lfw_021_2.jpg  \n",
            "  inflating: data/Experiment_3/similar/lfw_022_1.jpg  \n",
            "  inflating: data/Experiment_3/similar/lfw_022_2.jpg  \n",
            "  inflating: data/Experiment_3/similar/lfw_023_1.jpg  \n",
            "  inflating: data/Experiment_3/similar/lfw_023_2.jpg  \n",
            "  inflating: data/Experiment_3/similar/lfw_024_1.jpg  \n",
            "  inflating: data/Experiment_3/similar/lfw_024_2.jpg  \n",
            "  inflating: data/Experiment_3/similar/lfw_025_1.jpg  \n",
            "  inflating: data/Experiment_3/similar/lfw_025_2.jpg  \n",
            "  inflating: data/Experiment_3/similar/lfw_026_1.jpg  \n",
            "  inflating: data/Experiment_3/similar/lfw_026_2.jpg  \n",
            "  inflating: data/Experiment_3/similar/lfw_027_1.jpg  \n",
            "  inflating: data/Experiment_3/similar/lfw_027_2.jpg  \n",
            "  inflating: data/Experiment_3/similar/lfw_028_1.jpg  \n",
            "  inflating: data/Experiment_3/similar/lfw_028_2.jpg  \n",
            "  inflating: data/Experiment_3/similar/lfw_029_1.jpg  \n",
            "  inflating: data/Experiment_3/similar/lfw_029_2.jpg  \n",
            "  inflating: data/Experiment_3/similar/lfw_030_1.jpg  \n",
            "  inflating: data/Experiment_3/similar/lfw_030_2.jpg  \n",
            "  inflating: data/Experiment_3/similar/lfw_031_1.jpg  \n",
            "  inflating: data/Experiment_3/similar/lfw_031_2.jpg  \n",
            "  inflating: data/Experiment_3/similar/lfw_032_1.jpg  \n",
            "  inflating: data/Experiment_3/similar/lfw_032_2.jpg  \n",
            "  inflating: data/Experiment_3/similar/lfw_033_1.jpg  \n",
            "  inflating: data/Experiment_3/similar/lfw_033_2.jpg  \n",
            "  inflating: data/Experiment_3/similar/lfw_034_1.jpg  \n",
            "  inflating: data/Experiment_3/similar/lfw_034_2.jpg  \n",
            "  inflating: data/Experiment_3/similar/lfw_035_1.jpg  \n",
            "  inflating: data/Experiment_3/similar/lfw_035_2.jpg  \n",
            "  inflating: data/Experiment_3/similar/lfw_036_1.jpg  \n",
            "  inflating: data/Experiment_3/similar/lfw_036_2.jpg  \n",
            "  inflating: data/Experiment_3/similar/lfw_037_1.jpg  \n",
            "  inflating: data/Experiment_3/similar/lfw_037_2.jpg  \n",
            "  inflating: data/Experiment_3/similar/lfw_038_1.jpg  \n",
            "  inflating: data/Experiment_3/similar/lfw_038_2.jpg  \n",
            "  inflating: data/Experiment_3/similar/lfw_039_1.jpg  \n",
            "  inflating: data/Experiment_3/similar/lfw_039_2.jpg  \n",
            "  inflating: data/Experiment_3/similar/lfw_040_1.jpg  \n",
            "  inflating: data/Experiment_3/similar/lfw_040_2.jpg  \n",
            "  inflating: data/Experiment_3/similar/lfw_041_1.jpg  \n",
            "  inflating: data/Experiment_3/similar/lfw_041_2.jpg  \n",
            "  inflating: data/Experiment_3/similar/lfw_042_1.jpg  \n",
            "  inflating: data/Experiment_3/similar/lfw_042_2.jpg  \n",
            "  inflating: data/Experiment_3/similar/lfw_043_1.jpg  \n",
            "  inflating: data/Experiment_3/similar/lfw_043_2.jpg  \n",
            "  inflating: data/Experiment_3/similar/lfw_044_1.jpg  \n",
            "  inflating: data/Experiment_3/similar/lfw_044_2.jpg  \n",
            "  inflating: data/Experiment_3/similar/lfw_045_1.jpg  \n",
            "  inflating: data/Experiment_3/similar/lfw_045_2.jpg  \n",
            "  inflating: data/Experiment_3/similar/lfw_046_1.jpg  \n",
            "  inflating: data/Experiment_3/similar/lfw_046_2.jpg  \n",
            "  inflating: data/Experiment_3/similar/lfw_047_1.jpg  \n",
            "  inflating: data/Experiment_3/similar/lfw_047_2.jpg  \n",
            "  inflating: data/Experiment_3/similar/lfw_048_1.jpg  \n",
            "  inflating: data/Experiment_3/similar/lfw_048_2.jpg  \n",
            "  inflating: data/Experiment_3/similar/lfw_049_1.jpg  \n",
            "  inflating: data/Experiment_3/similar/lfw_049_2.jpg  \n",
            "  inflating: data/Experiment_3/similar/lfw_050_1.jpg  \n",
            "  inflating: data/Experiment_3/similar/lfw_050_2.jpg  \n",
            "  inflating: data/names.txt          \n",
            "  inflating: data/VGGFace16.pth      \n"
          ],
          "name": "stdout"
        }
      ]
    },
    {
      "cell_type": "code",
      "metadata": {
        "id": "aReZgWlWfJef",
        "outputId": "edf0b308-a522-4a29-e537-54a223cac783",
        "colab": {
          "base_uri": "https://localhost:8080/"
        }
      },
      "source": [
        "! ls"
      ],
      "execution_count": 3,
      "outputs": [
        {
          "output_type": "stream",
          "text": [
            "data  data.zip\tsample_data\n"
          ],
          "name": "stdout"
        }
      ]
    },
    {
      "cell_type": "code",
      "metadata": {
        "execution": {
          "iopub.execute_input": "2021-08-20T07:30:13.239776Z",
          "iopub.status.busy": "2021-08-20T07:30:13.239574Z",
          "iopub.status.idle": "2021-08-20T07:30:13.243094Z",
          "shell.execute_reply": "2021-08-20T07:30:13.242603Z",
          "shell.execute_reply.started": "2021-08-20T07:30:13.239754Z"
        },
        "tags": [],
        "id": "mwCl5RhCdJmA",
        "outputId": "eed4e7c7-4d8e-4cc6-db71-ec46dffae522",
        "colab": {
          "base_uri": "https://localhost:8080/"
        }
      },
      "source": [
        "root = 'data'\n",
        "eroot = os.path.join(root, 'Experiment_1')\n",
        "device = \"cuda\" if torch.cuda.is_available() else \"cpu\"\n",
        "print(f\"Using {device} device\")"
      ],
      "execution_count": 4,
      "outputs": [
        {
          "output_type": "stream",
          "text": [
            "Using cuda device\n"
          ],
          "name": "stdout"
        }
      ]
    },
    {
      "cell_type": "code",
      "metadata": {
        "execution": {
          "iopub.execute_input": "2021-08-20T06:38:52.402026Z",
          "iopub.status.busy": "2021-08-20T06:38:52.401800Z",
          "iopub.status.idle": "2021-08-20T06:38:52.406792Z",
          "shell.execute_reply": "2021-08-20T06:38:52.406313Z",
          "shell.execute_reply.started": "2021-08-20T06:38:52.402001Z"
        },
        "jupyter": {
          "outputs_hidden": false
        },
        "tags": [],
        "id": "ETaygI-QdJmC",
        "outputId": "af9b70ae-8517-43ad-a52a-e1a3961bd14e",
        "colab": {
          "base_uri": "https://localhost:8080/"
        }
      },
      "source": [
        "def getNameList(filePath):\n",
        "    names = []\n",
        "    with open(filePath) as f:\n",
        "        names = [ line.strip() for line in f ]\n",
        "    return names\n",
        "\n",
        "idNames = getNameList(os.path.join(root, \"names.txt\"))\n",
        "print(\"Number of identities = \", len(idNames))\n",
        "print (\"List of the first 5 identities = \", idNames[:5])"
      ],
      "execution_count": 5,
      "outputs": [
        {
          "output_type": "stream",
          "text": [
            "Number of identities =  2622\n",
            "List of the first 5 identities =  ['A.J._Buckley', 'A.R._Rahman', 'Aamir_Khan', 'Aaron_Staton', 'Aaron_Tveit']\n"
          ],
          "name": "stdout"
        }
      ]
    },
    {
      "cell_type": "markdown",
      "metadata": {
        "id": "Bsa-90s8dJmE"
      },
      "source": [
        "Now, let us take a quick look at some of the face images in our dataset. For the convenience of the participants, we have packaged the image names of all the 10 face images in the form of a .t7 data file that can be loaded onto our PyTorch scripts."
      ]
    },
    {
      "cell_type": "code",
      "metadata": {
        "execution": {
          "iopub.execute_input": "2021-08-20T07:18:10.160855Z",
          "iopub.status.busy": "2021-08-20T07:18:10.160656Z",
          "iopub.status.idle": "2021-08-20T07:18:10.164496Z",
          "shell.execute_reply": "2021-08-20T07:18:10.164016Z",
          "shell.execute_reply.started": "2021-08-20T07:18:10.160833Z"
        },
        "tags": [],
        "id": "8_RnZonFdJmE",
        "outputId": "67644dba-706d-4624-edef-3352880937be",
        "colab": {
          "base_uri": "https://localhost:8080/"
        }
      },
      "source": [
        "dataset = glob.glob(os.path.join(eroot, '*.*'))\n",
        "for ii in dataset:\n",
        "\tprint(ii)"
      ],
      "execution_count": 6,
      "outputs": [
        {
          "output_type": "stream",
          "text": [
            "data/Experiment_1/Kit_Harington.jpg\n",
            "data/Experiment_1/Madhuri_Dixit.jpg\n",
            "data/Experiment_1/Amy_Schumer.jpg\n",
            "data/Experiment_1/Louis_CK.jpg\n",
            "data/Experiment_1/Aamir_Khan.png\n",
            "data/Experiment_1/Anne_Hathaway.jpg\n",
            "data/Experiment_1/Kangana_Ranaut.jpg\n",
            "data/Experiment_1/A.R._Rahman.jpg\n",
            "data/Experiment_1/A_P_J_Abdul_Kalam.jpg\n",
            "data/Experiment_1/Julia_Roberts.jpg\n"
          ],
          "name": "stdout"
        }
      ]
    },
    {
      "cell_type": "markdown",
      "metadata": {
        "id": "zELnWxCadJmF"
      },
      "source": [
        "Let us take the first image in our dataset and visualize what it looks like. Feel free to modify the code if you wish to look at more face images from the dataset!"
      ]
    },
    {
      "cell_type": "code",
      "metadata": {
        "execution": {
          "iopub.execute_input": "2021-08-20T07:05:21.835541Z",
          "iopub.status.busy": "2021-08-20T07:05:21.835339Z",
          "iopub.status.idle": "2021-08-20T07:05:22.139737Z",
          "shell.execute_reply": "2021-08-20T07:05:22.129062Z",
          "shell.execute_reply.started": "2021-08-20T07:05:21.835519Z"
        },
        "jupyter": {
          "outputs_hidden": false
        },
        "id": "6LopvVSfdJmH",
        "outputId": "73244d19-8ccd-4a9a-9986-52313b04280f",
        "colab": {
          "base_uri": "https://localhost:8080/",
          "height": 269
        }
      },
      "source": [
        "dispImg = mpimg.imread(dataset[0])\n",
        "imgplot = plt.imshow(dispImg)"
      ],
      "execution_count": 7,
      "outputs": [
        {
          "output_type": "display_data",
          "data": {
            "image/png": "[encoded data removed]",
            "text/plain": [
              "<Figure size 432x288 with 1 Axes>"
            ]
          },
          "metadata": {
            "needs_background": "light"
          }
        }
      ]
    },
    {
      "cell_type": "markdown",
      "metadata": {
        "id": "H0xhHUxJdJmI"
      },
      "source": [
        "Before sending the images through the network, we have to perform certain pre-processing steps to make our input image \"suitable\" for the network. Each CNN has a fixed size of input images that it can accept. The VGG-Face netowrk architecture has been trained on 224 $\\times$ 224 RGB images. Therefore, any image that we send as an input must be of 224 $\\times$ 224 size.\n",
        "\n",
        "So, can we simply perform a resize operation on our input image and convert it to the appropriate size? Performing a simple resize operation on arbitrary sized input images may result in a change in the aspect ratio, thereby making the face image look distorted. To avoid that, we perform the following sequence of operations -- \n",
        "\n",
        "1. Resize the image such that the smaller dimension (out of height and width) is 256 and the aspect ratio remains the same.\n",
        "2. Crop a 224 $\\times$ 224 region from the center of the resized image.\n",
        "\n",
        "We will perform the above steps using OpenCV."
      ]
    },
    {
      "cell_type": "code",
      "metadata": {
        "execution": {
          "iopub.execute_input": "2021-08-20T07:07:38.923238Z",
          "iopub.status.busy": "2021-08-20T07:07:38.922859Z",
          "iopub.status.idle": "2021-08-20T07:07:38.933157Z",
          "shell.execute_reply": "2021-08-20T07:07:38.932707Z",
          "shell.execute_reply.started": "2021-08-20T07:07:38.923214Z"
        },
        "jupyter": {
          "outputs_hidden": false
        },
        "tags": [],
        "id": "IWKzt04adJmJ",
        "outputId": "97fc9849-ca39-40a8-ac51-0265a52f35cf",
        "colab": {
          "base_uri": "https://localhost:8080/"
        }
      },
      "source": [
        "# load the image using OpenCV\n",
        "inputImg = cv2.imread(dataset[0])\n",
        "\n",
        "# re-scale the smaller dim (among width, height) to refSize\n",
        "refSize, targetSize = 256, 224\n",
        "imgRows, imgCols = inputImg.shape[0], inputImg.shape[1]\n",
        "if imgCols < imgRows: resizedImg = cv2.resize(inputImg, (refSize, int(refSize * imgRows / imgCols)))\n",
        "else: resizedImg = cv2.resize(inputImg, (int(refSize * imgCols / imgRows), refSize))\n",
        "    \n",
        "# center-crop\n",
        "oH, oW = targetSize, targetSize\n",
        "iH, iW = resizedImg.shape[0], resizedImg.shape[1]\n",
        "anchorH, anchorW = int(math.ceil((iH - oH)/2)), int(math.ceil((iW - oW) / 2))\n",
        "croppedImg = resizedImg[anchorH:anchorH+oH, anchorW:anchorW+oW]\n",
        "\n",
        "print(croppedImg.shape)"
      ],
      "execution_count": 8,
      "outputs": [
        {
          "output_type": "stream",
          "text": [
            "(224, 224, 3)\n"
          ],
          "name": "stdout"
        }
      ]
    },
    {
      "cell_type": "markdown",
      "metadata": {
        "id": "IJaJs5vadJmK"
      },
      "source": [
        "As you can see, we have resized and cropped our input image to the correct dimensions.\n",
        "\n",
        "Moving on, the VGG-Face network expects the shape of the input image to be $3 \\times 224 \\times 224$, which means that the 1st dimension corresponds to the image channel. On the other hand, what we have is an input image whose shape is $224 \\times 224 \\times 3$ where the last dimension is for the channel. Therefore, in order to make the shapes of the input Tensors consistent, we perform the necessary conversion."
      ]
    },
    {
      "cell_type": "code",
      "metadata": {
        "execution": {
          "iopub.execute_input": "2021-08-20T07:07:54.495719Z",
          "iopub.status.busy": "2021-08-20T07:07:54.495494Z",
          "iopub.status.idle": "2021-08-20T07:07:54.499753Z",
          "shell.execute_reply": "2021-08-20T07:07:54.499279Z",
          "shell.execute_reply.started": "2021-08-20T07:07:54.495697Z"
        },
        "jupyter": {
          "outputs_hidden": false
        },
        "tags": [],
        "id": "Kcc9cObjdJmL",
        "outputId": "810ddd1b-d536-4a00-dec5-b8b725a9f6e2",
        "colab": {
          "base_uri": "https://localhost:8080/"
        }
      },
      "source": [
        "# convert shape from (height, width, 3) to (3, width, height)\n",
        "channel_1, channel_2, channel_3 = croppedImg[:, :, 0], croppedImg[:, :, 1], croppedImg[:, :, 2]\n",
        "croppedImg = np.empty([3, croppedImg.shape[0], croppedImg.shape[1]])\n",
        "croppedImg[0], croppedImg[1], croppedImg[2] = channel_1, channel_2, channel_3\n",
        "\n",
        "print(croppedImg.shape)"
      ],
      "execution_count": 9,
      "outputs": [
        {
          "output_type": "stream",
          "text": [
            "(3, 224, 224)\n"
          ],
          "name": "stdout"
        }
      ]
    },
    {
      "cell_type": "markdown",
      "metadata": {
        "id": "pnSRJbQDdJmM"
      },
      "source": [
        "As a final step, we perform mean subtraction. You might be aware that the input data that is used for training deep CNNs is mean subtracted (this is critical for the stabiliity of the training process). Similarly, while training the VGG-Face network, the per-channel mean of the training images was computed and the same mean value now has to be subtracted for any face image that is used to test the network."
      ]
    },
    {
      "cell_type": "code",
      "metadata": {
        "execution": {
          "iopub.execute_input": "2021-08-20T07:08:00.197624Z",
          "iopub.status.busy": "2021-08-20T07:08:00.197386Z",
          "iopub.status.idle": "2021-08-20T07:08:00.203992Z",
          "shell.execute_reply": "2021-08-20T07:08:00.203494Z",
          "shell.execute_reply.started": "2021-08-20T07:08:00.197602Z"
        },
        "tags": [],
        "id": "w23LLn63dJmO"
      },
      "source": [
        "# subtract training mean\n",
        "inputImg = inputImg.astype(float)\n",
        "trainingMean = [129.1863, 104.7624, 93.5940]\n",
        "for i in range(3): croppedImg[i] = croppedImg[i] - trainingMean[i]"
      ],
      "execution_count": 10,
      "outputs": []
    },
    {
      "cell_type": "markdown",
      "metadata": {
        "id": "_sbWYlWEdJmP"
      },
      "source": [
        "Before we proceed, a quick recap. We have pre-processed our input face images by performing the following steps:\n",
        "1. Resize (to a slightly bigger size) while maintaining aspect ratio\n",
        "2. Crop a face patch from the center of the required dimensions\n",
        "3. Convert to an appropriate shape\n",
        "4. Subtract the training mean\n",
        "\n",
        "Moving forward, let us load the pre-trained network and see it's structure."
      ]
    },
    {
      "cell_type": "code",
      "metadata": {
        "execution": {
          "iopub.execute_input": "2021-08-20T07:30:35.493514Z",
          "iopub.status.busy": "2021-08-20T07:30:35.493285Z",
          "iopub.status.idle": "2021-08-20T07:30:38.565696Z",
          "shell.execute_reply": "2021-08-20T07:30:38.565084Z",
          "shell.execute_reply.started": "2021-08-20T07:30:35.493491Z"
        },
        "jupyter": {
          "outputs_hidden": false
        },
        "tags": [],
        "id": "nQfDWhbKdJmQ",
        "outputId": "1bfc8743-2136-4387-f642-b2a41cc50e39",
        "colab": {
          "base_uri": "https://localhost:8080/"
        }
      },
      "source": [
        "def loadVGGModel( filename):\n",
        "\tdat2 = torch.load(filename)\n",
        "\t# copy dictionary\n",
        "\tif str.split(list(dat2.keys())[0],'.')[0] == 'module':\n",
        "\t\tdat = {}\n",
        "\t\tfor key in dat2.keys():\n",
        "\t\t\tk = '.'.join(str.split(key,'.')[1:])\n",
        "\t\t\tdat[k] = dat2[key]\n",
        "\telse:\n",
        "\t\tdat = dat2\n",
        "\t\t\n",
        "\tn_classes = dat['classifier.6.bias'].shape[0]\n",
        "\tmodel = torchvision.models.vgg16(pretrained = False)\n",
        "\tlastlayer = torch.nn.Linear(in_features = model.classifier[-1].in_features, \\\n",
        "\t\t\t\t\t\t\t   out_features = n_classes, \\\n",
        "\t\t\t\t\t\t\t   bias = True)\n",
        "\tmodel.classifier[-1] = lastlayer\n",
        "\tmodel.load_state_dict(dat)\n",
        "\treturn model\n",
        "\n",
        "# load pre-trained VGG-Face network\n",
        "vggFace = loadVGGModel(os.path.join(root, 'VGGFace16.pth'))\n",
        "vggFace = vggFace.to(device)\n",
        "print(vggFace)\n"
      ],
      "execution_count": 11,
      "outputs": [
        {
          "output_type": "stream",
          "text": [
            "VGG(\n",
            "  (features): Sequential(\n",
            "    (0): Conv2d(3, 64, kernel_size=(3, 3), stride=(1, 1), padding=(1, 1))\n",
            "    (1): ReLU(inplace=True)\n",
            "    (2): Conv2d(64, 64, kernel_size=(3, 3), stride=(1, 1), padding=(1, 1))\n",
            "    (3): ReLU(inplace=True)\n",
            "    (4): MaxPool2d(kernel_size=2, stride=2, padding=0, dilation=1, ceil_mode=False)\n",
            "    (5): Conv2d(64, 128, kernel_size=(3, 3), stride=(1, 1), padding=(1, 1))\n",
            "    (6): ReLU(inplace=True)\n",
            "    (7): Conv2d(128, 128, kernel_size=(3, 3), stride=(1, 1), padding=(1, 1))\n",
            "    (8): ReLU(inplace=True)\n",
            "    (9): MaxPool2d(kernel_size=2, stride=2, padding=0, dilation=1, ceil_mode=False)\n",
            "    (10): Conv2d(128, 256, kernel_size=(3, 3), stride=(1, 1), padding=(1, 1))\n",
            "    (11): ReLU(inplace=True)\n",
            "    (12): Conv2d(256, 256, kernel_size=(3, 3), stride=(1, 1), padding=(1, 1))\n",
            "    (13): ReLU(inplace=True)\n",
            "    (14): Conv2d(256, 256, kernel_size=(3, 3), stride=(1, 1), padding=(1, 1))\n",
            "    (15): ReLU(inplace=True)\n",
            "    (16): MaxPool2d(kernel_size=2, stride=2, padding=0, dilation=1, ceil_mode=False)\n",
            "    (17): Conv2d(256, 512, kernel_size=(3, 3), stride=(1, 1), padding=(1, 1))\n",
            "    (18): ReLU(inplace=True)\n",
            "    (19): Conv2d(512, 512, kernel_size=(3, 3), stride=(1, 1), padding=(1, 1))\n",
            "    (20): ReLU(inplace=True)\n",
            "    (21): Conv2d(512, 512, kernel_size=(3, 3), stride=(1, 1), padding=(1, 1))\n",
            "    (22): ReLU(inplace=True)\n",
            "    (23): MaxPool2d(kernel_size=2, stride=2, padding=0, dilation=1, ceil_mode=False)\n",
            "    (24): Conv2d(512, 512, kernel_size=(3, 3), stride=(1, 1), padding=(1, 1))\n",
            "    (25): ReLU(inplace=True)\n",
            "    (26): Conv2d(512, 512, kernel_size=(3, 3), stride=(1, 1), padding=(1, 1))\n",
            "    (27): ReLU(inplace=True)\n",
            "    (28): Conv2d(512, 512, kernel_size=(3, 3), stride=(1, 1), padding=(1, 1))\n",
            "    (29): ReLU(inplace=True)\n",
            "    (30): MaxPool2d(kernel_size=2, stride=2, padding=0, dilation=1, ceil_mode=False)\n",
            "  )\n",
            "  (avgpool): AdaptiveAvgPool2d(output_size=(7, 7))\n",
            "  (classifier): Sequential(\n",
            "    (0): Linear(in_features=25088, out_features=4096, bias=True)\n",
            "    (1): ReLU(inplace=True)\n",
            "    (2): Dropout(p=0.5, inplace=False)\n",
            "    (3): Linear(in_features=4096, out_features=4096, bias=True)\n",
            "    (4): ReLU(inplace=True)\n",
            "    (5): Dropout(p=0.5, inplace=False)\n",
            "    (6): Linear(in_features=4096, out_features=2622, bias=True)\n",
            "  )\n",
            ")\n"
          ],
          "name": "stdout"
        }
      ]
    },
    {
      "cell_type": "markdown",
      "metadata": {
        "id": "rSbj9vA1dJmR"
      },
      "source": [
        "As you can see, there are 40 layers in total. The architecture can be divided into 5 Convolutional blocks followed by 2 fc layers and a classification layer. Each convolutional block consists of multiple Conv+ReLU layers followed by a pooling layer.\n",
        "\n",
        "Let us now send our pre-processed input image through the network i.e. we are going to do a forward pass through the pre-trained VGG-Face network."
      ]
    },
    {
      "cell_type": "code",
      "metadata": {
        "execution": {
          "iopub.execute_input": "2021-08-20T07:30:48.674321Z",
          "iopub.status.busy": "2021-08-20T07:30:48.672429Z",
          "iopub.status.idle": "2021-08-20T07:30:48.688286Z",
          "shell.execute_reply": "2021-08-20T07:30:48.687805Z",
          "shell.execute_reply.started": "2021-08-20T07:30:48.674287Z"
        },
        "jupyter": {
          "outputs_hidden": false
        },
        "tags": [],
        "id": "eutRFfGYdJmS",
        "outputId": "6c421fbc-0ac1-4f8b-efb8-b703fe8b17d9",
        "colab": {
          "base_uri": "https://localhost:8080/"
        }
      },
      "source": [
        "# forward pass\n",
        "img = torch.Tensor(croppedImg).unsqueeze(0)\n",
        "output = vggFace.forward(img.to(device))\n",
        "output = output.detach().cpu().numpy()\n",
        "\n",
        "print(output.shape)"
      ],
      "execution_count": 12,
      "outputs": [
        {
          "output_type": "stream",
          "text": [
            "(1, 2622)\n"
          ],
          "name": "stdout"
        },
        {
          "output_type": "stream",
          "text": [
            "/usr/local/lib/python3.7/dist-packages/torch/nn/functional.py:718: UserWarning: Named tensors and all their associated APIs are an experimental feature and subject to change. Please do not use them for anything important until they are released as stable. (Triggered internally at  /pytorch/c10/core/TensorImpl.h:1156.)\n",
            "  return torch.max_pool2d(input, kernel_size, stride, padding, dilation, ceil_mode)\n"
          ],
          "name": "stderr"
        }
      ]
    },
    {
      "cell_type": "markdown",
      "metadata": {
        "id": "Tb1u_JoudJmT"
      },
      "source": [
        "The network has returned a single row of 2,622 entries. These values are the normalized log probabilities of our input face image belonging to each of the 2,622 celebrity IDs in the training set. So, in order to know which ID is the most likely (as per the network), we figure out the one which has the maximum probability.\n",
        "\n",
        "To get the name of the ID from the index, we use the list of ID names that we had loaded at the start of the tutorial. As you can guess, the order of names in the list is important and serves as a mapping between the index number and the name."
      ]
    },
    {
      "cell_type": "code",
      "metadata": {
        "execution": {
          "iopub.execute_input": "2021-08-20T07:30:52.315328Z",
          "iopub.status.busy": "2021-08-20T07:30:52.314945Z",
          "iopub.status.idle": "2021-08-20T07:30:52.320197Z",
          "shell.execute_reply": "2021-08-20T07:30:52.319638Z",
          "shell.execute_reply.started": "2021-08-20T07:30:52.315305Z"
        },
        "jupyter": {
          "outputs_hidden": false
        },
        "tags": [],
        "id": "l2B1J_ghdJmT",
        "outputId": "b3a50060-35a6-4447-bea7-4224153d8780",
        "colab": {
          "base_uri": "https://localhost:8080/"
        }
      },
      "source": [
        "print(\"ID = \", idNames[np.argmax(output)])"
      ],
      "execution_count": 13,
      "outputs": [
        {
          "output_type": "stream",
          "text": [
            "ID =  Kit_Harington\n"
          ],
          "name": "stdout"
        }
      ]
    },
    {
      "cell_type": "markdown",
      "metadata": {
        "id": "XcXzpqF9dJmV"
      },
      "source": [
        "What are the top-k predictions made by the network for our input image?"
      ]
    },
    {
      "cell_type": "code",
      "metadata": {
        "execution": {
          "iopub.execute_input": "2021-08-20T07:30:54.087609Z",
          "iopub.status.busy": "2021-08-20T07:30:54.087233Z",
          "iopub.status.idle": "2021-08-20T07:30:54.091821Z",
          "shell.execute_reply": "2021-08-20T07:30:54.091252Z",
          "shell.execute_reply.started": "2021-08-20T07:30:54.087586Z"
        },
        "jupyter": {
          "outputs_hidden": false
        },
        "tags": [],
        "id": "1HmsJpjVdJmV",
        "outputId": "f9155197-aa0b-473b-aaf3-bf06221660f5",
        "colab": {
          "base_uri": "https://localhost:8080/"
        }
      },
      "source": [
        "# top-k predictions\n",
        "ind = output[0].argsort()[-5:][::-1]\n",
        "for idx in ind:\n",
        "    print(idNames[idx])"
      ],
      "execution_count": 14,
      "outputs": [
        {
          "output_type": "stream",
          "text": [
            "Kit_Harington\n",
            "Richard_Madden\n",
            "Gaspard_Ulliel\n",
            "Christopher_Abbott\n",
            "Joe_Lando\n"
          ],
          "name": "stdout"
        }
      ]
    },
    {
      "cell_type": "markdown",
      "metadata": {
        "id": "dS-JvglSdJmW"
      },
      "source": [
        "We have seen how to use the pre-trained net to make predictions (face recognition). The VGG-Face net can also be used as a fixed feature extractor for face images. We simply ignore the outputs of the classification layer and take the output of the last fc-layer instead."
      ]
    },
    {
      "cell_type": "code",
      "metadata": {
        "execution": {
          "iopub.execute_input": "2021-08-20T07:31:39.402027Z",
          "iopub.status.busy": "2021-08-20T07:31:39.401817Z",
          "iopub.status.idle": "2021-08-20T07:31:39.434104Z",
          "shell.execute_reply": "2021-08-20T07:31:39.433635Z",
          "shell.execute_reply.started": "2021-08-20T07:31:39.402006Z"
        },
        "jupyter": {
          "outputs_hidden": false
        },
        "tags": [],
        "id": "HJLkfq4HdJmX",
        "outputId": "59f9d6ca-14a0-44ae-c0dc-8ea49c954658",
        "colab": {
          "base_uri": "https://localhost:8080/"
        }
      },
      "source": [
        "def extractfeatures(x):\n",
        "\t# replicate the forward function\n",
        "\tx = vggFace.features(x)\n",
        "\tx = vggFace.avgpool(x)\n",
        "\tx = torch.flatten(x, 1)\n",
        "\t# forward pass only through the first 4 layers of the classifier\n",
        "\tfor ii in range(4):\n",
        "\t\tx = vggFace.classifier[ii](x)\n",
        "\treturn x\n",
        "\t\n",
        "\n",
        "features = extractfeatures(img.to(device)).detach().cpu().numpy()\n",
        "print(features.shape)\n",
        "print(features)"
      ],
      "execution_count": 15,
      "outputs": [
        {
          "output_type": "stream",
          "text": [
            "(1, 4096)\n",
            "[[-36.762955  -9.518785 -51.612198 ...  -9.854067 -40.440628 -26.074224]]\n"
          ],
          "name": "stdout"
        }
      ]
    },
    {
      "cell_type": "markdown",
      "metadata": {
        "id": "OmVto3hqdJmY"
      },
      "source": [
        "\n",
        "The 4096-d face features that we obtain in this fashion can used for a variety of face-related tasks, as we will see in the subsequent tutorials."
      ]
    },
    {
      "cell_type": "markdown",
      "metadata": {
        "id": "Sko9_a8BdJmY"
      },
      "source": [
        "### Exercises\n",
        "\n",
        "1. Are all the 10 images in the dataset classified correctly?\n",
        "2. Modify the code to support batch mode of operation -- get predictions (top-1 and top-k) for multiple face images at once.\n",
        "3. Along with the predicted ID name, also print the probability of prediction."
      ]
    },
    {
      "cell_type": "code",
      "metadata": {
        "id": "hEgn5uLwdJmZ"
      },
      "source": [
        ""
      ],
      "execution_count": null,
      "outputs": []
    }
  ]
}