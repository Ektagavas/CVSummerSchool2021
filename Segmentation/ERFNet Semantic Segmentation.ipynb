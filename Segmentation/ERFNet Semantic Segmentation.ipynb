{
  "nbformat": 4,
  "nbformat_minor": 0,
  "metadata": {
    "kernelspec": {
      "display_name": "Python 3",
      "language": "python",
      "name": "python3"
    },
    "language_info": {
      "codemirror_mode": {
        "name": "ipython",
        "version": 3
      },
      "file_extension": ".py",
      "mimetype": "text/x-python",
      "name": "python",
      "nbconvert_exporter": "python",
      "pygments_lexer": "ipython3",
      "version": "3.8.5"
    },
    "colab": {
      "name": "ERFNet Semantic Segmentation.ipynb",
      "provenance": [],
      "include_colab_link": true
    },
    "accelerator": "GPU"
  },
  "cells": [
    {
      "cell_type": "markdown",
      "metadata": {
        "id": "view-in-github",
        "colab_type": "text"
      },
      "source": [
        "<a href=\"https://colab.research.google.com/github/Ektagavas/CVSummerSchool2021/blob/main/Segmentation/ERFNet%20Semantic%20Segmentation.ipynb\" target=\"_parent\"><img src=\"https://colab.research.google.com/assets/colab-badge.svg\" alt=\"Open In Colab\"/></a>"
      ]
    },
    {
      "cell_type": "markdown",
      "metadata": {
        "id": "9Tujbk0D5e1H"
      },
      "source": [
        "<h1><center>Semantic Segmentation: Let's classify each pixel</center></h1>\n",
        " "
      ]
    },
    {
      "cell_type": "markdown",
      "metadata": {
        "id": "Ltga7lRC5e1I"
      },
      "source": [
        "Q.) What is segmentation ?\n",
        "\n",
        "The aim of **segmentation** is to partition an image into a collection of set of pixels. \n",
        "\n",
        "What could be such a collection of pixels:\n",
        "\n",
        "* Meaningful regions (coherent objects)\n",
        "\n",
        "* Linear Structures (line, curve,...)\n",
        "\n",
        "* Shapes (circles, ellipses,...)\n",
        "\n",
        "<img src=\"https://github.com/Ektagavas/CVSummerSchool2021/blob/main/Segmentation/img/seg.png?raw=1\">"
      ]
    },
    {
      "cell_type": "markdown",
      "metadata": {
        "id": "9mY_pcrW5e1J"
      },
      "source": [
        "But that's not all. What if we want to explore more and want know pixels which occupy which category amongst the defined ones.\n",
        "\n",
        "**Semantic Segmentation:** Semantic Segmentation of an image is the task to assign each pixel in the input image a semantic class in order to get a pixel-wise dense classification. \n",
        "<img src=\"https://github.com/Ektagavas/CVSummerSchool2021/blob/main/Segmentation/img/ss_tot.png?raw=1\">\n",
        "\n",
        "Traditonal methods do feature representation and go up in a hierarchial way to do the segmentation.With the popularity of deep learning in recent years, many semantic segmentation problems are being tackled using deep architectures, most often Convolutional Neural Nets, which surpass other approaches by a large margin in terms of accuracy and efficiency. Breakthrough came in this field of semantic segmentation when **Fully Convolutional Networks** were first introduced in 2014 **Long et. al.** to perform end-to-end segmentation of natural images.\n",
        "<img src=\"https://github.com/Ektagavas/CVSummerSchool2021/blob/main/Segmentation/img/fcn.png?raw=1\">\n"
      ]
    },
    {
      "cell_type": "markdown",
      "metadata": {
        "id": "GBDfmR2e5e1K"
      },
      "source": [
        "<h1><center>Applications of Semantic Segmentation</center></h1>"
      ]
    },
    {
      "cell_type": "markdown",
      "metadata": {
        "id": "Dag4Tp5U5e1L"
      },
      "source": [
        "Semantic segmentation is generally used for:\n",
        "\n",
        "-  Autonomous driving (Scene understanding)\n",
        "-  Medical image segmentation\n",
        "-  Robot Vision and Understanding\n",
        "\n",
        "The importance of scene understanding as a core computer vision problem is highlighted by the fact that an increasing number of applications nourish from inferring knowledge from imagery. Some of those applications include self-driving vehicles, human-computer interaction, virtual reality etc.\n",
        "\n",
        "We are going to look at some of the dataset which is widely used for the task of scene understanding and hence apply our semantic segmnetation algorithm on the same.\n",
        "\n"
      ]
    },
    {
      "cell_type": "markdown",
      "metadata": {
        "id": "YGiN6O2h5e1M"
      },
      "source": [
        "## Cityscapes Dataset"
      ]
    },
    {
      "cell_type": "markdown",
      "metadata": {
        "id": "tRnbSeYw5e1N"
      },
      "source": [
        "**The Cityscapes Dataset** focuses on semantic understanding of urban street scenes. This dataset has been collected over 50 cities of Germany in different settings. It contains 2975 training and 500 validation images with publicly available annotations, as well as 1525 test images. The dataset contains fine and coarse annotations that have been manually annotated. \n",
        "\n",
        "The authors came up with 30 visual classes for annotation, which are grouped  into  eight  categories: flat, construction, nature, vehicle, sky, object, human, and void. (Please see the image below from their paper!!)\n",
        "\n",
        "<img src=\"https://github.com/Ektagavas/CVSummerSchool2021/blob/main/Segmentation/img/class.png?raw=1\">\n",
        "\n",
        "Image | Color Mask\n",
        "- | - \n",
        "![alt](https://github.com/Ektagavas/CVSummerSchool2021/blob/main/Segmentation/img/aachen.png?raw=1) | ![alt](https://github.com/Ektagavas/CVSummerSchool2021/blob/main/Segmentation/img/aachen_color.png?raw=1)\n",
        "![alt](https://github.com/Ektagavas/CVSummerSchool2021/blob/main/Segmentation/img/zurich.png?raw=1) | ![alt](https://github.com/Ektagavas/CVSummerSchool2021/blob/main/Segmentation/img/zurich_color.png?raw=1)\n",
        "\n"
      ]
    },
    {
      "cell_type": "markdown",
      "metadata": {
        "id": "f5ztS-3G5e1O"
      },
      "source": [
        "## Indian Driving Dataset"
      ]
    },
    {
      "cell_type": "markdown",
      "metadata": {
        "id": "b_Gk5ZIU5e1P"
      },
      "source": [
        "**Indian Driving Dataset: Lite** or abbreviated IDD is a dataset targetted to acquire images in natural unconstrained setting available in India. It comprises 10,003 images from 182 driving sequences, divided in 6,993/981/2,029 images for training, validation and test, respectively. The dataset has multi label level hierarchy to report results respectively.\n",
        "  * L4: 30 labels\n",
        "  * L3: 26 labels\n",
        "  * L2: 16 labels\n",
        "  * L1: 7 labels\n",
        "  \n",
        "Group of labels can be groupped together to form one form of label.\n",
        "\n",
        "<img src=\"https://github.com/Ektagavas/CVSummerSchool2021/blob/main/Segmentation/img/label_idd.png?raw=1\">\n",
        "\n",
        "\n",
        "<img src=\"https://github.com/Ektagavas/CVSummerSchool2021/blob/main/Segmentation/img/idd_img.png?raw=1\">\n",
        "<img src=\"https://github.com/Ektagavas/CVSummerSchool2021/blob/main/Segmentation/img/idd_lab_2.png?raw=1\">\n",
        "\n",
        "We will be training and testing our code on IDD Lite which is a subsampled version of the dataset. We believe that this\n",
        "will enable quick prototyping useful in optimum parameter and architecture search, and encourage deployment on low\n",
        "resource hardware."
      ]
    },
    {
      "cell_type": "markdown",
      "metadata": {
        "id": "4Wzzr1GK5e1Q"
      },
      "source": [
        "### Metrics used in evaluation of Semantic Segmentation algorithm"
      ]
    },
    {
      "cell_type": "markdown",
      "metadata": {
        "id": "Szb_DeUK5e1R"
      },
      "source": [
        "The different metrics used for evaluating semantic segmenatation algorithm are given below in the picture: \n",
        "<center> Pixel Accuracy </center> | <center> Mean Accuracy </center>\n",
        "- | -\n",
        "![alt](https://github.com/Ektagavas/CVSummerSchool2021/blob/main/Segmentation/img/pa_ss.png?raw=1) | ![alt](https://github.com/Ektagavas/CVSummerSchool2021/blob/main/Segmentation/img/ma_ss.png?raw=1)\n",
        "\n",
        "<center> Mean IOU </center> | <center> Frequency Weighted IOU </center>\n",
        "- | -\n",
        "![alt](https://github.com/Ektagavas/CVSummerSchool2021/blob/main/Segmentation/img/miou_ss.png?raw=1) | ![alt](https://github.com/Ektagavas/CVSummerSchool2021/blob/main/Segmentation/img/fiou_ss.png?raw=1)\n"
      ]
    },
    {
      "cell_type": "markdown",
      "metadata": {
        "id": "gj370i9-5e1R"
      },
      "source": [
        "\n",
        "<h1><center> Model Architectures for Semantic Segmentation</h1></center>"
      ]
    },
    {
      "cell_type": "markdown",
      "metadata": {
        "id": "J51AKIRq5e1R"
      },
      "source": [
        "In a nutshell, there are two types of architectures that are prominent in semantic segmentation.\n",
        "\n",
        "* Encoder Decoder Based Architecture\n",
        "\n",
        "**Encoder**: A pre-trained classification network like VGG/ResNet followed by a decoder network. \n",
        "\n",
        "**Decoder**: The task of the decoder is to semantically project the discriminative features (lower resolution) learnt by the encoder onto the pixel space (higher resolution) to get a dense classification. This is where most architectures differ. Some architectures directly upsample the feature map and some use complex architecture to get more refined outputs. \n",
        "\n",
        "\n",
        "* Spatial Pyramid Pooling Based Architecture\n",
        "\n",
        "  **Extract features from CNN based architecture**\n",
        "\n",
        "  **Sub region pooling** \n",
        "\n",
        "  **1X1 Convolution for feature concatenation/ dimension reduction**\n",
        "\n",
        "  **Interpolation for upsampling**\n",
        "\n",
        "Take a look at the architectures !!\n",
        "\n",
        "<center> Spatial Pyramid Pooling Architecture</center> | <center> Encoder Decoder Architecture </center>\n",
        "- | -\n",
        "![alt](https://github.com/Ektagavas/CVSummerSchool2021/blob/main/Segmentation/img/spp.png?raw=1) | ![alt](https://github.com/Ektagavas/CVSummerSchool2021/blob/main/Segmentation/img/enc.png?raw=1)\n",
        "\n",
        "\n",
        "<img src=\"https://github.com/Ektagavas/CVSummerSchool2021/blob/main/Segmentation/img/spp_2.png?raw=1\">\n",
        "<img src=\"https://github.com/Ektagavas/CVSummerSchool2021/blob/main/Segmentation/img/encode_ss.jpeg?raw=1\">\n"
      ]
    },
    {
      "cell_type": "code",
      "metadata": {
        "execution": {
          "iopub.execute_input": "2021-08-23T06:38:57.176429Z",
          "iopub.status.busy": "2021-08-23T06:38:57.176181Z",
          "iopub.status.idle": "2021-08-23T06:38:58.162500Z",
          "shell.execute_reply": "2021-08-23T06:38:58.161640Z",
          "shell.execute_reply.started": "2021-08-23T06:38:57.176360Z"
        },
        "tags": [],
        "id": "0675nuG05e1S"
      },
      "source": [
        "#Importing the necessary libraries needed for processing\n",
        "\n",
        "import random\n",
        "import time\n",
        "import numpy as np\n",
        "import torch\n",
        "print(torch.__version__)\n",
        "import math\n",
        "#Importing library to do image related operations\n",
        "from PIL import Image, ImageOps\n",
        "\n",
        "#Importing the important functionalities of Pytorch such as the dataloader, Variable, transform's \n",
        "#and optimizer related functions.\n",
        "from torch.optim import SGD, Adam, lr_scheduler\n",
        "from torch.utils.data import DataLoader\n",
        "from torchvision.transforms import  Resize\n",
        "from torchvision.transforms import ToTensor, ToPILImage"
      ],
      "execution_count": null,
      "outputs": []
    },
    {
      "cell_type": "code",
      "metadata": {
        "id": "knW2A7RL5uWT"
      },
      "source": [
        "! wget --load-cookies /tmp/cookies.txt \"https://docs.google.com/uc?export=download&confirm=$(wget --quiet --save-cookies /tmp/cookies.txt --keep-session-cookies --no-check-certificate 'https://docs.google.com/uc?export=download&id=1aBRpnvqL6mkhzX0tXk7OECS6BjsmaUNZ' -O- | sed -rn 's/.*confirm=([0-9A-Za-z_]+).*/\\1\\n/p')&id=1aBRpnvqL6mkhzX0tXk7OECS6BjsmaUNZ\" -O data.zip && rm -rf /tmp/cookies.txt\n",
        "! unzip -q data.zip\n",
        "! cp -rf data/* ."
      ],
      "execution_count": null,
      "outputs": []
    },
    {
      "cell_type": "code",
      "metadata": {
        "execution": {
          "iopub.execute_input": "2021-08-23T06:42:25.927796Z",
          "iopub.status.busy": "2021-08-23T06:42:25.927587Z",
          "iopub.status.idle": "2021-08-23T06:42:26.258321Z",
          "shell.execute_reply": "2021-08-23T06:42:26.257803Z",
          "shell.execute_reply.started": "2021-08-23T06:42:25.927773Z"
        },
        "tags": [],
        "id": "pKZD_vV35e1V"
      },
      "source": [
        "\n",
        "from dataset import idd_lite\n",
        "\n",
        "import sys\n",
        "print(sys.executable)\n",
        "\n",
        "#Importing the Relabel, ToLabel and Colorize class from transform.py file\n",
        "from transform import Relabel, ToLabel, Colorize\n",
        "import matplotlib\n",
        "from matplotlib import pyplot as plt\n",
        "%matplotlib inline\n",
        "\n"
      ],
      "execution_count": null,
      "outputs": []
    },
    {
      "cell_type": "code",
      "metadata": {
        "execution": {
          "iopub.execute_input": "2021-08-23T06:42:26.375858Z",
          "iopub.status.busy": "2021-08-23T06:42:26.375594Z",
          "iopub.status.idle": "2021-08-23T06:42:26.380418Z",
          "shell.execute_reply": "2021-08-23T06:42:26.379785Z",
          "shell.execute_reply.started": "2021-08-23T06:42:26.375833Z"
        },
        "tags": [],
        "id": "KK-oKpF85e1W"
      },
      "source": [
        "import importlib\n",
        "from iouEval import iouEval, getColorEntry #importing iouEval class from the iouEval.py file\n",
        "from shutil import copyfile"
      ],
      "execution_count": null,
      "outputs": []
    },
    {
      "cell_type": "markdown",
      "metadata": {
        "id": "uc6cbXwF5e1W"
      },
      "source": [
        "### A few global parameters ###"
      ]
    },
    {
      "cell_type": "code",
      "metadata": {
        "execution": {
          "iopub.execute_input": "2021-08-23T06:42:26.978682Z",
          "iopub.status.busy": "2021-08-23T06:42:26.978444Z",
          "iopub.status.idle": "2021-08-23T06:42:27.591320Z",
          "shell.execute_reply": "2021-08-23T06:42:27.590547Z",
          "shell.execute_reply.started": "2021-08-23T06:42:26.978659Z"
        },
        "tags": [],
        "id": "aCEllXO75e1W"
      },
      "source": [
        "NUM_CHANNELS = 3 #RGB Images\n",
        "NUM_CLASSES = 8 #IDD Lite has 8 labels or Level1 hierarchy of labels\n",
        "USE_CUDA = torch.cuda.is_available() \n",
        "IMAGE_HEIGHT = 160\n",
        "DATA_ROOT = 'idd1_lite'\n",
        "BATCH_SIZE = 2\n",
        "NUM_WORKERS = 4\n",
        "NUM_EPOCHS = 1\n",
        "ENCODER_ONLY = True\n",
        "device = torch.device(\"cuda\" )\n",
        "#device = 'cuda'\n",
        "color_transform = Colorize(NUM_CLASSES)\n",
        "image_transform = ToPILImage()\n"
      ],
      "execution_count": null,
      "outputs": []
    },
    {
      "cell_type": "code",
      "metadata": {
        "execution": {
          "iopub.execute_input": "2021-08-23T06:42:27.593136Z",
          "iopub.status.busy": "2021-08-23T06:42:27.592751Z",
          "iopub.status.idle": "2021-08-23T06:42:27.596857Z",
          "shell.execute_reply": "2021-08-23T06:42:27.596202Z",
          "shell.execute_reply.started": "2021-08-23T06:42:27.593098Z"
        },
        "tags": [],
        "id": "stddDRCp5e1X"
      },
      "source": [
        "IOUTRAIN = False\n",
        "IOUVAL = True"
      ],
      "execution_count": null,
      "outputs": []
    },
    {
      "cell_type": "code",
      "metadata": {
        "execution": {
          "iopub.execute_input": "2021-08-23T06:42:27.598146Z",
          "iopub.status.busy": "2021-08-23T06:42:27.597956Z",
          "iopub.status.idle": "2021-08-23T06:42:27.607747Z",
          "shell.execute_reply": "2021-08-23T06:42:27.607186Z",
          "shell.execute_reply.started": "2021-08-23T06:42:27.598123Z"
        },
        "tags": [],
        "id": "-Zb88Yao5e1X"
      },
      "source": [
        "#Augmentations - different function implemented to perform random augments on both image and target\n",
        "class MyCoTransform(object):\n",
        "    def __init__(self, enc, augment=True, height=160):\n",
        "        self.enc=enc\n",
        "        self.augment = augment\n",
        "        self.height = height\n",
        "        pass\n",
        "    def __call__(self, input, target):\n",
        "        # Resizing data to required size\n",
        "        input =  Resize((self.height,320), Image.BILINEAR)(input)\n",
        "        target = Resize((self.height,320), Image.NEAREST)(target)\n",
        "\n",
        "        if(self.augment):\n",
        "            # Random horizontal flip\n",
        "            hflip = random.random()\n",
        "            if (hflip < 0.5):\n",
        "                input = input.transpose(Image.FLIP_LEFT_RIGHT)\n",
        "                target = target.transpose(Image.FLIP_LEFT_RIGHT)\n",
        "            \n",
        "            #Random translation 0-2 pixels (fill rest with padding)\n",
        "            transX = random.randint(0, 2) \n",
        "            transY = random.randint(0, 2)\n",
        "\n",
        "            input = ImageOps.expand(input, border=(transX,transY,0,0), fill=0)\n",
        "            target = ImageOps.expand(target, border=(transX,transY,0,0), fill=7) #pad label filling with 7\n",
        "            input = input.crop((0, 0, input.size[0]-transX, input.size[1]-transY))\n",
        "            target = target.crop((0, 0, target.size[0]-transX, target.size[1]-transY))   \n",
        "\n",
        "        input = ToTensor()(input)\n",
        "        \n",
        "        target = ToLabel()(target)\n",
        "        \n",
        "        target = Relabel(255,7)(target)\n",
        "        return input, target\n"
      ],
      "execution_count": null,
      "outputs": []
    },
    {
      "cell_type": "markdown",
      "metadata": {
        "id": "XglB5U3c5e1X"
      },
      "source": [
        "### Loading Data\n",
        "\n",
        "We'll follow pytorch recommended semantics, and use a dataloader to load the data. "
      ]
    },
    {
      "cell_type": "code",
      "metadata": {
        "execution": {
          "iopub.execute_input": "2021-08-23T06:42:27.823527Z",
          "iopub.status.busy": "2021-08-23T06:42:27.823307Z",
          "iopub.status.idle": "2021-08-23T06:42:27.840020Z",
          "shell.execute_reply": "2021-08-23T06:42:27.839404Z",
          "shell.execute_reply.started": "2021-08-23T06:42:27.823504Z"
        },
        "scrolled": true,
        "tags": [],
        "id": "38vwtHuG5e1X"
      },
      "source": [
        "best_acc = 0\n",
        "\n",
        "co_transform = MyCoTransform(ENCODER_ONLY, augment=True, height=IMAGE_HEIGHT)\n",
        "co_transform_val = MyCoTransform(ENCODER_ONLY, augment=False, height=IMAGE_HEIGHT)\n",
        "\n",
        "#train data\n",
        "dataset_train = idd_lite(DATA_ROOT, co_transform, 'train')\n",
        "print(len(dataset_train))\n",
        "#test data\n",
        "dataset_val = idd_lite(DATA_ROOT, co_transform_val, 'val')\n",
        "print(len(dataset_val))\n",
        "\n",
        "\n",
        "# NOTE: PLEASE DON'T CHANGE batch_size and num_workers here. We have limited resources.\n",
        "loader_train = DataLoader(dataset_train, num_workers=NUM_WORKERS, batch_size=BATCH_SIZE, shuffle=True)\n",
        "loader_val = DataLoader(dataset_val, num_workers=NUM_WORKERS, batch_size=BATCH_SIZE, shuffle=False)\n"
      ],
      "execution_count": null,
      "outputs": []
    },
    {
      "cell_type": "markdown",
      "metadata": {
        "id": "F8ZDesSd5e1Y"
      },
      "source": [
        "## Cross Entropy  Loss ##\n",
        "Negative Log Loss   |Plot of -log(x) vs x\n",
        "- | - \n",
        "![alt](https://github.com/Ektagavas/CVSummerSchool2021/blob/main/Segmentation/img/nll.png?raw=1) | ![alt](https://github.com/Ektagavas/CVSummerSchool2021/blob/main/Segmentation/img/nll-log.png?raw=1)\n",
        "\n",
        "The negative log-likelihood becomes unhappy at smaller values, where it can reach infinite unhappiness (that’s too sad), and becomes less unhappy at larger values. Because we are summing the loss function to all the correct classes, what’s actually happening is that whenever the network assigns high confidence at the correct class, the unhappiness is low, but when the network assigns low confidence at the correct class, the unhappiness is high."
      ]
    },
    {
      "cell_type": "code",
      "metadata": {
        "execution": {
          "iopub.execute_input": "2021-08-23T06:42:28.254919Z",
          "iopub.status.busy": "2021-08-23T06:42:28.254667Z",
          "iopub.status.idle": "2021-08-23T06:42:28.258101Z",
          "shell.execute_reply": "2021-08-23T06:42:28.257426Z",
          "shell.execute_reply.started": "2021-08-23T06:42:28.254894Z"
        },
        "tags": [],
        "id": "OQRpZhi_5e1Z"
      },
      "source": [
        "criterion = torch.nn.CrossEntropyLoss()"
      ],
      "execution_count": null,
      "outputs": []
    },
    {
      "cell_type": "markdown",
      "metadata": {
        "id": "a8bXRsQv5e1Z"
      },
      "source": [
        "### Take a look at the data? ###"
      ]
    },
    {
      "cell_type": "code",
      "metadata": {
        "execution": {
          "iopub.execute_input": "2021-08-23T06:42:28.684897Z",
          "iopub.status.busy": "2021-08-23T06:42:28.684632Z",
          "iopub.status.idle": "2021-08-23T06:42:29.332849Z",
          "shell.execute_reply": "2021-08-23T06:42:29.332108Z",
          "shell.execute_reply.started": "2021-08-23T06:42:28.684872Z"
        },
        "tags": [],
        "id": "RCkeOwpp5e1Z"
      },
      "source": [
        "#get some random training images\n",
        "print(len(loader_train))\n",
        "#print(len(loader_val))\n",
        "dataiter = iter(loader_train)\n",
        "#print(dataiter.next())\n",
        "(images, labels) = dataiter.next()\n",
        "#for step, (images, labels) in enumerate(loader_train):\n",
        "plt.figure()\n",
        "plt.imshow(ToPILImage()(images[0].cpu()))\n",
        "plt.figure()\n",
        "plt.imshow(ToPILImage()(Colorize()(labels[0].cpu())))  \n",
        "#break"
      ],
      "execution_count": null,
      "outputs": []
    },
    {
      "cell_type": "code",
      "metadata": {
        "id": "xhiB0GWT5e1Z"
      },
      "source": [
        ""
      ],
      "execution_count": null,
      "outputs": []
    },
    {
      "cell_type": "markdown",
      "metadata": {
        "id": "DRm1tZnU5e1Z"
      },
      "source": [
        "## Model ##"
      ]
    },
    {
      "cell_type": "markdown",
      "metadata": {
        "id": "g_8YI6tw5e1Z"
      },
      "source": [
        "In this lab, we would be using [ERFNET](http://www.robesafe.uah.es/personal/eduardo.romera/pdfs/Romera17iv.pdf)\n",
        "model, which is an encoder-decoder architecture. Please see the image below !!\n",
        "<img src=\"https://github.com/Ektagavas/CVSummerSchool2021/blob/main/Segmentation/img/erfnet.png?raw=1\">\n",
        "<img src=\"https://github.com/Ektagavas/CVSummerSchool2021/blob/main/Segmentation/img/erfnet-model.png?raw=1\">\n",
        "\n",
        "\n",
        "We show two ways to train the **ERFNET architecture** on a standard dataset:\n",
        "\n",
        "-  Training the encoder and decoder from the scratch.\n",
        "-  Just training the encoder and then bilinearly upsampling the encoder's output to match input image size .\n",
        "\n",
        "ERFNET reformulates the **Resnet architecture** into novel 1-d bottleneck and non bottleneck 1-d blocks (See more in the paper). Because of the ResNet architecture, the information of semantic boundary is passed through the residual mappings and hence the need for explicit skip connections is not required.   \n",
        "\n",
        "Downsampling (reducing the spatial resolution) has the drawback of reducing the accuracy (coarser outputs), but it\n",
        "also  has  two  benefits:  it  lets  the  deeper  layers  gather  more context  (to  improve  classification)  and  it  helps  to  reduce computation.\n",
        "\n",
        "Power vs FPS | Category MIOU vs FPS\n",
        "- | - \n",
        "![alt](https://github.com/Ektagavas/CVSummerSchool2021/blob/main/Segmentation/img/comp_ss.png?raw=1) | ![alt](https://github.com/Ektagavas/CVSummerSchool2021/blob/main/Segmentation/img/comp_ss_2.png?raw=1)"
      ]
    },
    {
      "cell_type": "code",
      "metadata": {
        "execution": {
          "iopub.execute_input": "2021-08-23T06:42:29.961656Z",
          "iopub.status.busy": "2021-08-23T06:42:29.961383Z",
          "iopub.status.idle": "2021-08-23T06:42:31.920912Z",
          "shell.execute_reply": "2021-08-23T06:42:31.920018Z",
          "shell.execute_reply.started": "2021-08-23T06:42:29.961621Z"
        },
        "tags": [],
        "id": "qCHK7MVe5e1a"
      },
      "source": [
        "model_file = importlib.import_module('erfnet')\n",
        "model = model_file.Net(NUM_CLASSES).to(device)\n",
        "    "
      ],
      "execution_count": null,
      "outputs": []
    },
    {
      "cell_type": "markdown",
      "metadata": {
        "id": "2daK8NMN5e1a"
      },
      "source": [
        "### Optimizer ###"
      ]
    },
    {
      "cell_type": "code",
      "metadata": {
        "execution": {
          "iopub.execute_input": "2021-08-23T06:42:31.922392Z",
          "iopub.status.busy": "2021-08-23T06:42:31.922173Z",
          "iopub.status.idle": "2021-08-23T06:42:31.928355Z",
          "shell.execute_reply": "2021-08-23T06:42:31.927746Z",
          "shell.execute_reply.started": "2021-08-23T06:42:31.922369Z"
        },
        "tags": [],
        "id": "KKqk76R55e1a"
      },
      "source": [
        "# We use adam optimizer. It can be replaced with SGD and other optimizers\n",
        "optimizer = Adam(model.parameters(), 5e-4, (0.9, 0.999),  eps=1e-08, weight_decay=1e-4) \n",
        "start_epoch = 1"
      ],
      "execution_count": null,
      "outputs": []
    },
    {
      "cell_type": "code",
      "metadata": {
        "execution": {
          "iopub.execute_input": "2021-08-23T06:42:31.930243Z",
          "iopub.status.busy": "2021-08-23T06:42:31.929836Z",
          "iopub.status.idle": "2021-08-23T06:42:31.935339Z",
          "shell.execute_reply": "2021-08-23T06:42:31.934665Z",
          "shell.execute_reply.started": "2021-08-23T06:42:31.930210Z"
        },
        "tags": [],
        "id": "Qp2Z2FJQ5e1a"
      },
      "source": [
        "print(device)"
      ],
      "execution_count": null,
      "outputs": []
    },
    {
      "cell_type": "markdown",
      "metadata": {
        "id": "RE1995315e1a"
      },
      "source": [
        "### Training Procedure ###"
      ]
    },
    {
      "cell_type": "code",
      "metadata": {
        "execution": {
          "iopub.execute_input": "2021-08-23T06:42:31.936763Z",
          "iopub.status.busy": "2021-08-23T06:42:31.936483Z",
          "iopub.status.idle": "2021-08-23T06:42:52.731015Z",
          "shell.execute_reply": "2021-08-23T06:42:52.730030Z",
          "shell.execute_reply.started": "2021-08-23T06:42:31.936717Z"
        },
        "tags": [],
        "id": "R1BDZU3p5e1a"
      },
      "source": [
        "import os\n",
        "steps_loss = 50\n",
        "my_start_time = time.time()\n",
        "for epoch in range(start_epoch, NUM_EPOCHS+1):\n",
        "    print(\"----- TRAINING - EPOCH\", epoch, \"-----\")\n",
        "\n",
        "    epoch_loss = []\n",
        "    time_train = []\n",
        "\n",
        "    doIouTrain = IOUTRAIN   \n",
        "    doIouVal =  IOUVAL      \n",
        "\n",
        "    if (doIouTrain):\n",
        "        iouEvalTrain = iouEval(NUM_CLASSES)\n",
        "\n",
        "    model.train()\n",
        "    for step, (images, labels) in enumerate(loader_train):\n",
        "\n",
        "        start_time = time.time()\n",
        "        inputs = images.to(device)\n",
        "        targets = labels.to(device)\n",
        "    \n",
        "        outputs = model(inputs, only_encode=ENCODER_ONLY)\n",
        "\n",
        "        # zero the parameter gradients\n",
        "        optimizer.zero_grad()\n",
        "        \n",
        "        # forward + backward + optimize\n",
        "        loss = criterion(outputs, targets[:, 0])\n",
        "        loss.backward()\n",
        "        optimizer.step()\n",
        "\n",
        "        epoch_loss.append(loss.item())\n",
        "        time_train.append(time.time() - start_time)\n",
        "\n",
        "        if (doIouTrain):\n",
        "            #start_time_iou = time.time()\n",
        "            iouEvalTrain.addBatch(outputs.max(1)[1].unsqueeze(1).data, targets.data)\n",
        "            #print (\"Time to add confusion matrix: \", time.time() - start_time_iou)      \n",
        "\n",
        "        # print statistics\n",
        "        if steps_loss > 0 and step % steps_loss == 0:\n",
        "            average = sum(epoch_loss) / len(epoch_loss)\n",
        "            print('loss: {average:0.4} (epoch: {epoch}, step: {step})', \"// Avg time/img: %.4f s\" % (sum(time_train) / len(time_train) / BATCH_SIZE))\n",
        "\n",
        "\n",
        "    average_epoch_loss_train = sum(epoch_loss) / len(epoch_loss)\n",
        "\n",
        "    iouTrain = 0\n",
        "    if (doIouTrain):\n",
        "        iouTrain, iou_classes = iouEvalTrain.getIoU()\n",
        "        iouStr = getColorEntry(iouTrain)+'{:0.2f}'.format(iouTrain*100) + '\\033[0m'\n",
        "        print (\"EPOCH IoU on TRAIN set: \", iouStr, \"%\")  \n",
        "my_end_time = time.time()\n",
        "print(my_end_time - my_start_time)\n"
      ],
      "execution_count": null,
      "outputs": []
    },
    {
      "cell_type": "markdown",
      "metadata": {
        "id": "_3UYE46s5e1b"
      },
      "source": [
        "### Validation ###"
      ]
    },
    {
      "cell_type": "code",
      "metadata": {
        "execution": {
          "iopub.execute_input": "2021-08-23T06:42:52.733065Z",
          "iopub.status.busy": "2021-08-23T06:42:52.732835Z",
          "iopub.status.idle": "2021-08-23T06:42:56.494995Z",
          "shell.execute_reply": "2021-08-23T06:42:56.493812Z",
          "shell.execute_reply.started": "2021-08-23T06:42:52.733031Z"
        },
        "tags": [],
        "id": "XU_OkCE35e1b"
      },
      "source": [
        "#Validate on val images after each epoch of training\n",
        "print(\"----- VALIDATING - EPOCH\", epoch, \"-----\")\n",
        "model.eval()\n",
        "epoch_loss_val = []\n",
        "time_val = []\n",
        "\n",
        "if (doIouVal):\n",
        "    iouEvalVal = iouEval(NUM_CLASSES)\n",
        "\n",
        "for step, (images, labels) in enumerate(loader_val):\n",
        "    start_time = time.time()\n",
        "\n",
        "    inputs = images.to(device)    \n",
        "    targets = labels.to(device)\n",
        "    \n",
        "    with torch.no_grad():\n",
        "        outputs = model(inputs, only_encode=ENCODER_ONLY) \n",
        "        #outputs = model(inputs)\n",
        "    loss = criterion(outputs, targets[:, 0])\n",
        "    epoch_loss_val.append(loss.item())\n",
        "    time_val.append(time.time() - start_time)\n",
        "\n",
        "\n",
        "    #Add batch to calculate TP, FP and FN for iou estimation\n",
        "    if (doIouVal):\n",
        "        #start_time_iou = time.time()\n",
        "        iouEvalVal.addBatch(outputs.max(1)[1].unsqueeze(1).data, targets.data)\n",
        "        #print (\"Time to add confusion matrix: \", time.time() - start_time_iou)\n",
        "        \n",
        "    if steps_loss > 0 and step % steps_loss == 0:\n",
        "        average = sum(epoch_loss_val) / len(epoch_loss_val)\n",
        "        print('VAL loss: {average:0.4} (epoch: {epoch}, step: {step})', \n",
        "                \"// Avg time/img: %.4f s\" % (sum(time_val) / len(time_val) / BATCH_SIZE))\n",
        "\n",
        "\n",
        "average_epoch_loss_val = sum(epoch_loss_val) / len(epoch_loss_val)\n",
        "\n",
        "iouVal = 0\n",
        "if (doIouVal):\n",
        "\n",
        "    iouVal, iou_classes = iouEvalVal.getIoU()\n",
        "    print(iou_classes)\n",
        "    iouStr = getColorEntry(iouVal)+'{:0.2f}'.format(iouVal*100) + '\\033[0m'\n",
        "    print (\"EPOCH IoU on VAL set: \", iouStr, \"%\") \n",
        "\n"
      ],
      "execution_count": null,
      "outputs": []
    },
    {
      "cell_type": "markdown",
      "metadata": {
        "id": "6vc5Z-bX5e1b"
      },
      "source": [
        " ### Visualizing the Output###"
      ]
    },
    {
      "cell_type": "code",
      "metadata": {
        "execution": {
          "iopub.execute_input": "2021-08-23T06:42:56.497947Z",
          "iopub.status.busy": "2021-08-23T06:42:56.497405Z",
          "iopub.status.idle": "2021-08-23T06:42:57.451687Z",
          "shell.execute_reply": "2021-08-23T06:42:57.450911Z",
          "shell.execute_reply.started": "2021-08-23T06:42:56.497902Z"
        },
        "tags": [],
        "id": "ixoGei-b5e1b"
      },
      "source": [
        "# Qualitative Analysis\n",
        "dataiter = iter(loader_val)\n",
        "images, labels = dataiter.next()\n",
        "\n",
        "if USE_CUDA:\n",
        "    images = images.to(device)\n",
        "\n",
        "inputs = images.to(device)\n",
        "\n",
        "with torch.no_grad():\n",
        "    outputs = model(inputs, only_encode=ENCODER_ONLY)\n",
        "\n",
        "label = outputs[0].max(0)[1].byte().cpu().data\n",
        "\n",
        "label_color = Colorize()(label.unsqueeze(0))\n",
        "\n",
        "label_save = ToPILImage()(label_color)\n",
        "plt.figure()\n",
        "plt.imshow(ToPILImage()(images[0].cpu()))\n",
        "plt.figure()\n",
        "plt.imshow(label_save)\n"
      ],
      "execution_count": null,
      "outputs": []
    },
    {
      "cell_type": "code",
      "metadata": {
        "id": "hod_C9Cn5e1c"
      },
      "source": [
        ""
      ],
      "execution_count": null,
      "outputs": []
    },
    {
      "cell_type": "code",
      "metadata": {
        "id": "CZlW9oVK5e1c"
      },
      "source": [
        ""
      ],
      "execution_count": null,
      "outputs": []
    },
    {
      "cell_type": "code",
      "metadata": {
        "id": "JRlhlRLb5e1c"
      },
      "source": [
        ""
      ],
      "execution_count": null,
      "outputs": []
    }
  ]
}