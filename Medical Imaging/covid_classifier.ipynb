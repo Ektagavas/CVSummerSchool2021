{
  "nbformat": 4,
  "nbformat_minor": 0,
  "metadata": {
    "colab": {
      "name": "covid_classifier.ipynb",
      "provenance": []
    },
    "kernelspec": {
      "name": "python3",
      "display_name": "Python 3"
    },
    "language_info": {
      "name": "python"
    },
    "accelerator": "GPU",
    "widgets": {
      "application/vnd.jupyter.widget-state+json": {
        "8a3527621cff4b90ad32117e3c6b2131": {
          "model_module": "@jupyter-widgets/controls",
          "model_name": "HBoxModel",
          "model_module_version": "1.5.0",
          "state": {
            "_view_name": "HBoxView",
            "_dom_classes": [],
            "_model_name": "HBoxModel",
            "_view_module": "@jupyter-widgets/controls",
            "_model_module_version": "1.5.0",
            "_view_count": null,
            "_view_module_version": "1.5.0",
            "box_style": "",
            "layout": "IPY_MODEL_ab2cd097091f4acdad321d0496afdd2c",
            "_model_module": "@jupyter-widgets/controls",
            "children": [
              "IPY_MODEL_e332fc4e90dd4a8bb21e269469b12fb5",
              "IPY_MODEL_164f1c9f17c14ca89ca1a0c1336b679c",
              "IPY_MODEL_36de8942b8ec4419a6a3f1151c9f0fbc"
            ]
          }
        },
        "ab2cd097091f4acdad321d0496afdd2c": {
          "model_module": "@jupyter-widgets/base",
          "model_name": "LayoutModel",
          "model_module_version": "1.2.0",
          "state": {
            "_view_name": "LayoutView",
            "grid_template_rows": null,
            "right": null,
            "justify_content": null,
            "_view_module": "@jupyter-widgets/base",
            "overflow": null,
            "_model_module_version": "1.2.0",
            "_view_count": null,
            "flex_flow": null,
            "width": null,
            "min_width": null,
            "border": null,
            "align_items": null,
            "bottom": null,
            "_model_module": "@jupyter-widgets/base",
            "top": null,
            "grid_column": null,
            "overflow_y": null,
            "overflow_x": null,
            "grid_auto_flow": null,
            "grid_area": null,
            "grid_template_columns": null,
            "flex": null,
            "_model_name": "LayoutModel",
            "justify_items": null,
            "grid_row": null,
            "max_height": null,
            "align_content": null,
            "visibility": null,
            "align_self": null,
            "height": null,
            "min_height": null,
            "padding": null,
            "grid_auto_rows": null,
            "grid_gap": null,
            "max_width": null,
            "order": null,
            "_view_module_version": "1.2.0",
            "grid_template_areas": null,
            "object_position": null,
            "object_fit": null,
            "grid_auto_columns": null,
            "margin": null,
            "display": null,
            "left": null
          }
        },
        "e332fc4e90dd4a8bb21e269469b12fb5": {
          "model_module": "@jupyter-widgets/controls",
          "model_name": "HTMLModel",
          "model_module_version": "1.5.0",
          "state": {
            "_view_name": "HTMLView",
            "style": "IPY_MODEL_e3863f9410bc4e1c9b9d07796e3e55d6",
            "_dom_classes": [],
            "description": "",
            "_model_name": "HTMLModel",
            "placeholder": "​",
            "_view_module": "@jupyter-widgets/controls",
            "_model_module_version": "1.5.0",
            "value": "100%",
            "_view_count": null,
            "_view_module_version": "1.5.0",
            "description_tooltip": null,
            "_model_module": "@jupyter-widgets/controls",
            "layout": "IPY_MODEL_6265f04124584a2f82c46cb7afbf5e0e"
          }
        },
        "164f1c9f17c14ca89ca1a0c1336b679c": {
          "model_module": "@jupyter-widgets/controls",
          "model_name": "FloatProgressModel",
          "model_module_version": "1.5.0",
          "state": {
            "_view_name": "ProgressView",
            "style": "IPY_MODEL_c17237acfb3245eda4545122a90d139d",
            "_dom_classes": [],
            "description": "",
            "_model_name": "FloatProgressModel",
            "bar_style": "success",
            "max": 46830571,
            "_view_module": "@jupyter-widgets/controls",
            "_model_module_version": "1.5.0",
            "value": 46830571,
            "_view_count": null,
            "_view_module_version": "1.5.0",
            "orientation": "horizontal",
            "min": 0,
            "description_tooltip": null,
            "_model_module": "@jupyter-widgets/controls",
            "layout": "IPY_MODEL_8a508a81675044ae99366604a6ce10e6"
          }
        },
        "36de8942b8ec4419a6a3f1151c9f0fbc": {
          "model_module": "@jupyter-widgets/controls",
          "model_name": "HTMLModel",
          "model_module_version": "1.5.0",
          "state": {
            "_view_name": "HTMLView",
            "style": "IPY_MODEL_bf30b62c4ee042b9bd218564ecd9d3d7",
            "_dom_classes": [],
            "description": "",
            "_model_name": "HTMLModel",
            "placeholder": "​",
            "_view_module": "@jupyter-widgets/controls",
            "_model_module_version": "1.5.0",
            "value": " 44.7M/44.7M [00:00&lt;00:00, 112MB/s]",
            "_view_count": null,
            "_view_module_version": "1.5.0",
            "description_tooltip": null,
            "_model_module": "@jupyter-widgets/controls",
            "layout": "IPY_MODEL_23e05e0ee14b4ba3bece8a711c9a195b"
          }
        },
        "e3863f9410bc4e1c9b9d07796e3e55d6": {
          "model_module": "@jupyter-widgets/controls",
          "model_name": "DescriptionStyleModel",
          "model_module_version": "1.5.0",
          "state": {
            "_view_name": "StyleView",
            "_model_name": "DescriptionStyleModel",
            "description_width": "",
            "_view_module": "@jupyter-widgets/base",
            "_model_module_version": "1.5.0",
            "_view_count": null,
            "_view_module_version": "1.2.0",
            "_model_module": "@jupyter-widgets/controls"
          }
        },
        "6265f04124584a2f82c46cb7afbf5e0e": {
          "model_module": "@jupyter-widgets/base",
          "model_name": "LayoutModel",
          "model_module_version": "1.2.0",
          "state": {
            "_view_name": "LayoutView",
            "grid_template_rows": null,
            "right": null,
            "justify_content": null,
            "_view_module": "@jupyter-widgets/base",
            "overflow": null,
            "_model_module_version": "1.2.0",
            "_view_count": null,
            "flex_flow": null,
            "width": null,
            "min_width": null,
            "border": null,
            "align_items": null,
            "bottom": null,
            "_model_module": "@jupyter-widgets/base",
            "top": null,
            "grid_column": null,
            "overflow_y": null,
            "overflow_x": null,
            "grid_auto_flow": null,
            "grid_area": null,
            "grid_template_columns": null,
            "flex": null,
            "_model_name": "LayoutModel",
            "justify_items": null,
            "grid_row": null,
            "max_height": null,
            "align_content": null,
            "visibility": null,
            "align_self": null,
            "height": null,
            "min_height": null,
            "padding": null,
            "grid_auto_rows": null,
            "grid_gap": null,
            "max_width": null,
            "order": null,
            "_view_module_version": "1.2.0",
            "grid_template_areas": null,
            "object_position": null,
            "object_fit": null,
            "grid_auto_columns": null,
            "margin": null,
            "display": null,
            "left": null
          }
        },
        "c17237acfb3245eda4545122a90d139d": {
          "model_module": "@jupyter-widgets/controls",
          "model_name": "ProgressStyleModel",
          "model_module_version": "1.5.0",
          "state": {
            "_view_name": "StyleView",
            "_model_name": "ProgressStyleModel",
            "description_width": "",
            "_view_module": "@jupyter-widgets/base",
            "_model_module_version": "1.5.0",
            "_view_count": null,
            "_view_module_version": "1.2.0",
            "bar_color": null,
            "_model_module": "@jupyter-widgets/controls"
          }
        },
        "8a508a81675044ae99366604a6ce10e6": {
          "model_module": "@jupyter-widgets/base",
          "model_name": "LayoutModel",
          "model_module_version": "1.2.0",
          "state": {
            "_view_name": "LayoutView",
            "grid_template_rows": null,
            "right": null,
            "justify_content": null,
            "_view_module": "@jupyter-widgets/base",
            "overflow": null,
            "_model_module_version": "1.2.0",
            "_view_count": null,
            "flex_flow": null,
            "width": null,
            "min_width": null,
            "border": null,
            "align_items": null,
            "bottom": null,
            "_model_module": "@jupyter-widgets/base",
            "top": null,
            "grid_column": null,
            "overflow_y": null,
            "overflow_x": null,
            "grid_auto_flow": null,
            "grid_area": null,
            "grid_template_columns": null,
            "flex": null,
            "_model_name": "LayoutModel",
            "justify_items": null,
            "grid_row": null,
            "max_height": null,
            "align_content": null,
            "visibility": null,
            "align_self": null,
            "height": null,
            "min_height": null,
            "padding": null,
            "grid_auto_rows": null,
            "grid_gap": null,
            "max_width": null,
            "order": null,
            "_view_module_version": "1.2.0",
            "grid_template_areas": null,
            "object_position": null,
            "object_fit": null,
            "grid_auto_columns": null,
            "margin": null,
            "display": null,
            "left": null
          }
        },
        "bf30b62c4ee042b9bd218564ecd9d3d7": {
          "model_module": "@jupyter-widgets/controls",
          "model_name": "DescriptionStyleModel",
          "model_module_version": "1.5.0",
          "state": {
            "_view_name": "StyleView",
            "_model_name": "DescriptionStyleModel",
            "description_width": "",
            "_view_module": "@jupyter-widgets/base",
            "_model_module_version": "1.5.0",
            "_view_count": null,
            "_view_module_version": "1.2.0",
            "_model_module": "@jupyter-widgets/controls"
          }
        },
        "23e05e0ee14b4ba3bece8a711c9a195b": {
          "model_module": "@jupyter-widgets/base",
          "model_name": "LayoutModel",
          "model_module_version": "1.2.0",
          "state": {
            "_view_name": "LayoutView",
            "grid_template_rows": null,
            "right": null,
            "justify_content": null,
            "_view_module": "@jupyter-widgets/base",
            "overflow": null,
            "_model_module_version": "1.2.0",
            "_view_count": null,
            "flex_flow": null,
            "width": null,
            "min_width": null,
            "border": null,
            "align_items": null,
            "bottom": null,
            "_model_module": "@jupyter-widgets/base",
            "top": null,
            "grid_column": null,
            "overflow_y": null,
            "overflow_x": null,
            "grid_auto_flow": null,
            "grid_area": null,
            "grid_template_columns": null,
            "flex": null,
            "_model_name": "LayoutModel",
            "justify_items": null,
            "grid_row": null,
            "max_height": null,
            "align_content": null,
            "visibility": null,
            "align_self": null,
            "height": null,
            "min_height": null,
            "padding": null,
            "grid_auto_rows": null,
            "grid_gap": null,
            "max_width": null,
            "order": null,
            "_view_module_version": "1.2.0",
            "grid_template_areas": null,
            "object_position": null,
            "object_fit": null,
            "grid_auto_columns": null,
            "margin": null,
            "display": null,
            "left": null
          }
        }
      }
    }
  },
  "cells": [
    {
      "cell_type": "markdown",
      "metadata": {
        "id": "TdnDOtCa5KEQ"
      },
      "source": [
        "# COVID detection from Chest X-Ray\n",
        "---\n",
        "In this module, normal vs COVID classification is performed using Chest X-ray images.\n",
        "The COVIDx dataset is used for this task. For details see [COVIDNet open source initiative](https://github.com/lindawangg/COVID-Net)."
      ]
    },
    {
      "cell_type": "code",
      "metadata": {
        "colab": {
          "base_uri": "https://localhost:8080/"
        },
        "id": "_j1yXasiZT3E",
        "outputId": "ba24faa1-6197-4d8e-a976-1d9406395f02"
      },
      "source": [
        "# Connect data\n",
        "from google.colab import drive\n",
        "drive.mount('/content/gdrive')"
      ],
      "execution_count": null,
      "outputs": [
        {
          "output_type": "stream",
          "text": [
            "Mounted at /content/gdrive\n"
          ],
          "name": "stdout"
        }
      ]
    },
    {
      "cell_type": "code",
      "metadata": {
        "id": "vqUD4FC7jvDL"
      },
      "source": [
        "! tar -xzf /content/gdrive/MyDrive/covidx.tar.gz"
      ],
      "execution_count": null,
      "outputs": []
    },
    {
      "cell_type": "code",
      "metadata": {
        "colab": {
          "base_uri": "https://localhost:8080/"
        },
        "id": "sLmY7UZwZppq",
        "outputId": "cc0c3ced-e0ee-48d2-889c-c4f6375ca33d"
      },
      "source": [
        "! ls"
      ],
      "execution_count": null,
      "outputs": [
        {
          "output_type": "stream",
          "text": [
            "covidx\tgdrive\tsample_data\n"
          ],
          "name": "stdout"
        }
      ]
    },
    {
      "cell_type": "code",
      "metadata": {
        "id": "_syGMRhgov9x"
      },
      "source": [
        "import os\n",
        "import cv2\n",
        "import numpy as np\n",
        "from PIL import Image\n",
        "import torch\n",
        "import torch.nn as nn\n",
        "from torchvision import transforms\n",
        "from torchvision.models import resnet18\n",
        "from torch.utils.data import Dataset, DataLoader\n",
        "from torch.optim import Adam\n",
        "from tqdm import trange\n",
        "from sklearn.model_selection import train_test_split\n",
        "from sklearn.metrics import accuracy_score, f1_score"
      ],
      "execution_count": null,
      "outputs": []
    },
    {
      "cell_type": "markdown",
      "metadata": {
        "id": "5npcVLQEl-aJ"
      },
      "source": [
        "## Dataloader"
      ]
    },
    {
      "cell_type": "code",
      "metadata": {
        "id": "x0lSQbSAlFlk"
      },
      "source": [
        "class ImageLoader(Dataset):\n",
        "  \"\"\" Data loader class \"\"\"\n",
        "  def __init__(self, path, file_list, aug_list=None, aug_prob=None):\n",
        "    \"\"\"\n",
        "    Args:\n",
        "      path (str): path where images stored\n",
        "      file_list (List[str]): list of images in current split\n",
        "      aug_list (List[str]): list of torchvision transforms\n",
        "      aug_prob (float): Probability of applying random aug (if aug_list != None)\n",
        "    \"\"\"\n",
        "    self.path = path\n",
        "    self.file_list = file_list\n",
        "    self.aug_list = aug_list\n",
        "    self.aug_prob = aug_prob\n",
        "\n",
        "  def __len__(self):\n",
        "    return len(self.file_list)\n",
        "  \n",
        "  def __getitem__(self, idx):\n",
        "    \"\"\" Preprocess and return a single sample & label \"\"\"\n",
        "    img_name = os.path.join(self.path, self.file_list[idx])\n",
        "    img = Image.open(img_name)\n",
        "    # Resize to 256, 256 with LANCZOS interpolation\n",
        "    img = img.resize((256, 256), Image.LANCZOS)\n",
        "    img = np.array(img)\n",
        "    if len(img.shape) < 3:\n",
        "      img = cv2.cvtColor(img, cv2.COLOR_GRAY2RGB)\n",
        "    if img.shape[2] == 4:\n",
        "      img = img[:, :, :3]\n",
        "    # file names are in format covidx_(label)_(name)\n",
        "    label = int(img_name.split('_')[1])\n",
        "    if label == 2:\n",
        "      label -= 1  # as COVID is 2 in file names\n",
        "    label = torch.Tensor([label])\n",
        "\n",
        "    # convert to Tensor and change order to channels first  \n",
        "    img = torch.Tensor(img)\n",
        "    img = img.permute(2, 0, 1)\n",
        "\n",
        "    # select and apply random augmentation (if passed)\n",
        "    if self.aug_list:\n",
        "      do_aug = np.random.choice([True, False], 1, p=[self.aug_prob,\n",
        "                                                     1-self.aug_prob])\n",
        "      if do_aug:\n",
        "        aug_name = np.random.choice(self.aug_list, 1)\n",
        "        img = aug_name[0](img)\n",
        "    img = (img - torch.mean(img)) / torch.std(img)\n",
        "    return img, label"
      ],
      "execution_count": null,
      "outputs": []
    },
    {
      "cell_type": "code",
      "metadata": {
        "id": "0pU9_SjM0pax"
      },
      "source": [
        "def get_data_loaders(categories, path, file_lists,\n",
        "                     augment, aug_prob, batch_size):\n",
        "  \"\"\"\n",
        "  Wrapper function to return dataloader(s)\n",
        "  Args:\n",
        "    categories (List[str]): names of processes for which dataloader needed\n",
        "    path (str): path where images stored\n",
        "    file_lists (List[List[str]]): list of file lists\n",
        "    augment (boolean): whether to apply augmentation\n",
        "    aug_prob (float): Probability of applying random aug\n",
        "    batch_size (int): batch size\n",
        "  Returns:\n",
        "    torch.utils.data.DataLoader object\n",
        "  \"\"\"\n",
        "  loaders = []\n",
        "  for i, category in enumerate(categories):\n",
        "    if category == 'train' and augment:\n",
        "      aug_list = [\n",
        "          transforms.RandomAffine(0, translate=(0.2, 0.2)),\n",
        "          transforms.RandomHorizontalFlip(p=1),\n",
        "          transforms.RandomRotation(degrees=(-10, 10), fill=(0,)),\n",
        "          transforms.GaussianBlur((17, 17), (11, 11))\n",
        "      ]\n",
        "    else:\n",
        "      aug_list = None\n",
        "    loader = DataLoader(\n",
        "        ImageLoader(path, file_lists[i], aug_list, aug_prob),\n",
        "        batch_size,\n",
        "        num_workers=1\n",
        "        )\n",
        "    loaders.append(loader)\n",
        "  return loaders"
      ],
      "execution_count": null,
      "outputs": []
    },
    {
      "cell_type": "markdown",
      "metadata": {
        "id": "xPhL86aF4sjb"
      },
      "source": [
        "## Train/val/test loop"
      ]
    },
    {
      "cell_type": "code",
      "metadata": {
        "id": "yLnI2nmj2XZK"
      },
      "source": [
        "def learn(model, loader, optimizer, loss_fn, process):\n",
        "  \"\"\" main function for single epoch of train, val or test \"\"\"\n",
        "  all_labels = []\n",
        "  all_preds = []\n",
        "  running_loss = 0\n",
        "  num_batches = len(loader)\n",
        "  with trange(num_batches, desc=process, ncols=100) as t:\n",
        "    for batch_num, sample in enumerate(loader):\n",
        "      img_batch, labels = sample\n",
        "      if process == 'train':\n",
        "        model.train()\n",
        "        optimizer.zero_grad()\n",
        "        preds = model(img_batch.cuda())\n",
        "        loss = loss_fn(preds, labels.cuda())\n",
        "        loss.backward()\n",
        "        optimizer.step()\n",
        "      else:\n",
        "        model.eval()\n",
        "        with torch.no_grad():\n",
        "          preds = model(img_batch.cuda())\n",
        "          loss = loss_fn(preds, labels.cuda())\n",
        "      hard_preds = torch.round(torch.sigmoid(preds))\n",
        "      all_labels += labels.numpy().tolist()\n",
        "      all_preds += hard_preds.detach().cpu().numpy().tolist()\n",
        "      running_loss += loss  \n",
        "      t.set_postfix(loss=running_loss.item()/(float(batch_num+1)*batch_size))\n",
        "      t.update()\n",
        "  acc = accuracy_score(all_labels, all_preds)\n",
        "  f1 = f1_score(all_labels, all_preds)\n",
        "  final_loss = running_loss.item()/(num_batches*batch_size)\n",
        "  return acc, f1, final_loss"
      ],
      "execution_count": null,
      "outputs": []
    },
    {
      "cell_type": "code",
      "metadata": {
        "id": "1QjMxW-3C41l"
      },
      "source": [
        "def get_splits(all_names, train_size, val_size, test_size, all_labels):\n",
        "  split1_size = (val_size+test_size)\n",
        "  split2_size = test_size / (val_size+test_size)\n",
        "  trn_names, valtst_names, trn_y, valtst_y = train_test_split(\n",
        "      all_names, all_labels, test_size=split1_size,\n",
        "      stratify=all_labels, random_state=0)\n",
        "  val_names, tst_names = train_test_split(valtst_names, test_size=split2_size,\n",
        "                              stratify=valtst_y, random_state=0)\n",
        "  return trn_names, val_names, tst_names "
      ],
      "execution_count": null,
      "outputs": []
    },
    {
      "cell_type": "code",
      "metadata": {
        "id": "6SsSa05k__2U"
      },
      "source": [
        "def perform_learning(model, optimizer, loss_fn, path, all_names, batch_size,\n",
        "                     splits, num_epochs):\n",
        "  \"\"\" Wrapper function to run train, val, test loops \"\"\"\n",
        "  all_labels = [int(name.split('_')[1]) for name in all_names]\n",
        "  train_size, val_size, test_size = splits\n",
        "  trn_names, val_names, tst_names = get_splits(all_names, train_size, val_size,\n",
        "                                               test_size, all_labels)\n",
        "  train_loader, val_loader, test_loader = get_data_loaders(\n",
        "      ['train', 'val', 'test'],\n",
        "      path, [trn_names, val_names, tst_names],\n",
        "      augment=True,\n",
        "      aug_prob=0.5,\n",
        "      batch_size=batch_size\n",
        "      )\n",
        "  for epoch_num in range(num_epochs):\n",
        "    trn_acc, trn_f1, trn_loss = learn(model, train_loader, optimizer, loss_fn,\n",
        "                                      'train')\n",
        "    print(f'Training Epoch {epoch_num} - Loss: {trn_loss} ; Accuracy: {trn_acc}'\n",
        "          f' ; F1 Score: {trn_f1}')\n",
        "    val_acc, val_f1, val_loss = learn(model, val_loader, optimizer, loss_fn,\n",
        "                                      'val')\n",
        "    print(f'Validation Epoch {epoch_num} - Loss: {val_loss} ; Accuracy: {val_acc}'\n",
        "          f' ; F1 Score: {val_f1}')\n",
        "  tst_acc, tst_f1, tst_loss = learn(model, test_loader, optimizer, loss_fn,\n",
        "                                    'test')\n",
        "  print(f'Test - Loss: {tst_loss} ; Accuracy: {tst_acc}'\n",
        "        f' ; F1 Score: {tst_f1}')  "
      ],
      "execution_count": null,
      "outputs": []
    },
    {
      "cell_type": "markdown",
      "metadata": {
        "id": "n4llZPlvHbxa"
      },
      "source": [
        "## Let's run!"
      ]
    },
    {
      "cell_type": "code",
      "metadata": {
        "colab": {
          "base_uri": "https://localhost:8080/",
          "height": 503,
          "referenced_widgets": [
            "8a3527621cff4b90ad32117e3c6b2131",
            "ab2cd097091f4acdad321d0496afdd2c",
            "e332fc4e90dd4a8bb21e269469b12fb5",
            "164f1c9f17c14ca89ca1a0c1336b679c",
            "36de8942b8ec4419a6a3f1151c9f0fbc",
            "e3863f9410bc4e1c9b9d07796e3e55d6",
            "6265f04124584a2f82c46cb7afbf5e0e",
            "c17237acfb3245eda4545122a90d139d",
            "8a508a81675044ae99366604a6ce10e6",
            "bf30b62c4ee042b9bd218564ecd9d3d7",
            "23e05e0ee14b4ba3bece8a711c9a195b"
          ]
        },
        "id": "-WMbMigmHVhn",
        "outputId": "dcbdd90c-4a8e-4ad1-86b4-9d48715229fa"
      },
      "source": [
        "path = '/content/gdrive/MyDrive/COVIDx'\n",
        "all_names = os.listdir(path)[:500]\n",
        "\n",
        "lr = 1e-4\n",
        "wt_dec = 1e-4\n",
        "num_epochs = 5\n",
        "batch_size = 32\n",
        "splits = [0.8, 0.1, 0.1]\n",
        "\n",
        "model = resnet18(pretrained=True)\n",
        "model.fc = nn.Linear(512, 1)\n",
        "model = model.cuda()\n",
        "\n",
        "loss_fn = nn.BCEWithLogitsLoss(reduction='sum')\n",
        "optimizer = Adam(model.parameters(), lr=lr, weight_decay=wt_dec)\n",
        "\n",
        "perform_learning(model, optimizer, loss_fn, path, all_names, batch_size,\n",
        "                 splits, num_epochs)"
      ],
      "execution_count": null,
      "outputs": [
        {
          "metadata": {
            "tags": null
          },
          "name": "stderr",
          "output_type": "stream",
          "text": [
            "Downloading: \"https://download.pytorch.org/models/resnet18-f37072fd.pth\" to /root/.cache/torch/hub/checkpoints/resnet18-f37072fd.pth\n"
          ]
        },
        {
          "data": {
            "application/vnd.jupyter.widget-view+json": {
              "model_id": "8a3527621cff4b90ad32117e3c6b2131",
              "version_major": 2,
              "version_minor": 0
            },
            "text/plain": [
              "  0%|          | 0.00/44.7M [00:00<?, ?B/s]"
            ]
          },
          "metadata": {},
          "output_type": "display_data"
        },
        {
          "metadata": {
            "tags": null
          },
          "name": "stderr",
          "output_type": "stream",
          "text": [
            "train:   0%|                                                                 | 0/13 [00:00<?, ?it/s]/usr/local/lib/python3.7/dist-packages/torch/nn/functional.py:718: UserWarning: Named tensors and all their associated APIs are an experimental feature and subject to change. Please do not use them for anything important until they are released as stable. (Triggered internally at  /pytorch/c10/core/TensorImpl.h:1156.)\n",
            "  return torch.max_pool2d(input, kernel_size, stride, padding, dilation, ceil_mode)\n",
            "train: 100%|████████████████████████████████████████████| 13/13 [02:44<00:00, 12.67s/it, loss=0.555]\n"
          ]
        },
        {
          "metadata": {
            "tags": null
          },
          "name": "stdout",
          "output_type": "stream",
          "text": [
            "Training Epoch 0 - Loss: 0.555163676922138 ; Accuracy: 0.6575 ; F1 Score: 0.5418060200668897\n"
          ]
        },
        {
          "metadata": {
            "tags": null
          },
          "name": "stderr",
          "output_type": "stream",
          "text": [
            "val: 100%|████████████████████████████████████████████████| 2/2 [00:20<00:00, 10.01s/it, loss=0.181]\n"
          ]
        },
        {
          "metadata": {
            "tags": null
          },
          "name": "stdout",
          "output_type": "stream",
          "text": [
            "Validation Epoch 0 - Loss: 0.18111154437065125 ; Accuracy: 0.96 ; F1 Score: 0.9\n"
          ]
        },
        {
          "metadata": {
            "tags": null
          },
          "name": "stderr",
          "output_type": "stream",
          "text": [
            "train: 100%|█████████████████████████████████████████████| 13/13 [00:12<00:00,  1.04it/s, loss=0.18]\n"
          ]
        },
        {
          "metadata": {
            "tags": null
          },
          "name": "stdout",
          "output_type": "stream",
          "text": [
            "Training Epoch 1 - Loss: 0.1795494006230281 ; Accuracy: 0.9425 ; F1 Score: 0.8700564971751412\n"
          ]
        },
        {
          "metadata": {
            "tags": null
          },
          "name": "stderr",
          "output_type": "stream",
          "text": [
            "val: 100%|████████████████████████████████████████████████| 2/2 [00:01<00:00,  1.20it/s, loss=0.141]\n"
          ]
        },
        {
          "metadata": {
            "tags": null
          },
          "name": "stdout",
          "output_type": "stream",
          "text": [
            "Validation Epoch 1 - Loss: 0.14081236720085144 ; Accuracy: 0.94 ; F1 Score: 0.8695652173913043\n"
          ]
        },
        {
          "output_type": "stream",
          "text": [
            "train: 100%|███████████████████████████████████████████| 13/13 [00:12<00:00,  1.04it/s, loss=0.0886]\n"
          ],
          "name": "stderr"
        },
        {
          "output_type": "stream",
          "text": [
            "Training Epoch 2 - Loss: 0.08855653726137601 ; Accuracy: 0.97 ; F1 Score: 0.9302325581395349\n"
          ],
          "name": "stdout"
        },
        {
          "output_type": "stream",
          "text": [
            "val: 100%|████████████████████████████████████████████████| 2/2 [00:01<00:00,  1.17it/s, loss=0.275]\n"
          ],
          "name": "stderr"
        },
        {
          "output_type": "stream",
          "text": [
            "Validation Epoch 2 - Loss: 0.27523982524871826 ; Accuracy: 0.88 ; F1 Score: 0.7857142857142858\n"
          ],
          "name": "stdout"
        },
        {
          "output_type": "stream",
          "text": [
            "train: 100%|███████████████████████████████████████████| 13/13 [00:12<00:00,  1.04it/s, loss=0.0635]\n"
          ],
          "name": "stderr"
        },
        {
          "output_type": "stream",
          "text": [
            "Training Epoch 3 - Loss: 0.06347772708305946 ; Accuracy: 0.98 ; F1 Score: 0.9545454545454545\n"
          ],
          "name": "stdout"
        },
        {
          "output_type": "stream",
          "text": [
            "val: 100%|████████████████████████████████████████████████| 2/2 [00:01<00:00,  1.16it/s, loss=0.187]\n"
          ],
          "name": "stderr"
        },
        {
          "output_type": "stream",
          "text": [
            "Validation Epoch 3 - Loss: 0.18677273392677307 ; Accuracy: 0.94 ; F1 Score: 0.88\n"
          ],
          "name": "stdout"
        },
        {
          "output_type": "stream",
          "text": [
            "train: 100%|███████████████████████████████████████████| 13/13 [00:12<00:00,  1.04it/s, loss=0.0535]\n"
          ],
          "name": "stderr"
        },
        {
          "output_type": "stream",
          "text": [
            "Training Epoch 4 - Loss: 0.05348442150996281 ; Accuracy: 0.985 ; F1 Score: 0.9642857142857143\n"
          ],
          "name": "stdout"
        },
        {
          "output_type": "stream",
          "text": [
            "val: 100%|███████████████████████████████████████████████| 2/2 [00:01<00:00,  1.16it/s, loss=0.0846]\n"
          ],
          "name": "stderr"
        },
        {
          "output_type": "stream",
          "text": [
            "Validation Epoch 4 - Loss: 0.0845804512500763 ; Accuracy: 0.96 ; F1 Score: 0.9\n"
          ],
          "name": "stdout"
        },
        {
          "output_type": "stream",
          "text": [
            "test: 100%|███████████████████████████████████████████████| 2/2 [00:19<00:00,  9.75s/it, loss=0.222]"
          ],
          "name": "stderr"
        },
        {
          "output_type": "stream",
          "text": [
            "Test - Loss: 0.2221614420413971 ; Accuracy: 0.9 ; F1 Score: 0.7058823529411764\n"
          ],
          "name": "stdout"
        },
        {
          "output_type": "stream",
          "text": [
            "\n"
          ],
          "name": "stderr"
        }
      ]
    },
    {
      "cell_type": "code",
      "metadata": {
        "id": "fqP6HROCiKr7"
      },
      "source": [
        "torch.save(model.state_dict(), '/content/gdrive/My Drive/covidx_500subset.pt')"
      ],
      "execution_count": null,
      "outputs": []
    },
    {
      "cell_type": "code",
      "metadata": {
        "id": "owro90xgJyXi"
      },
      "source": [
        "# confusion matrix"
      ],
      "execution_count": null,
      "outputs": []
    },
    {
      "cell_type": "code",
      "metadata": {
        "id": "i2MJH5efdRi3"
      },
      "source": [
        "! pip install captum"
      ],
      "execution_count": null,
      "outputs": []
    },
    {
      "cell_type": "code",
      "metadata": {
        "id": "DHvoPhto3kp7",
        "colab": {
          "base_uri": "https://localhost:8080/",
          "height": 1000
        },
        "outputId": "2d41302a-bfde-4846-f668-02311398e07f"
      },
      "source": [
        "# Interpretation\n",
        "import captum.attr\n",
        "import matplotlib.pyplot as plt\n",
        "\n",
        "all_labels = [int(name.split('_')[1]) for name in all_names]\n",
        "train_size, val_size, test_size = splits\n",
        "trn_names, val_names, tst_names = get_splits(all_names, train_size, val_size,\n",
        "                                              test_size, all_labels)\n",
        "_, _, test_loader = get_data_loaders(\n",
        "    ['train', 'val', 'test'],\n",
        "    path, [trn_names, val_names, tst_names],\n",
        "    augment=True,\n",
        "    aug_prob=0.5,\n",
        "    batch_size=1\n",
        "    )\n",
        "\n",
        "cnt = 0\n",
        "for batch_num, sample in enumerate(test_loader):\n",
        "  X, label = sample\n",
        "\n",
        "  gcObj = captum.attr.LayerGradCam(model.forward, model.layer4)     \n",
        "  if label.item() == 0:\n",
        "    continue           \n",
        "  import pdb\n",
        "  pdb.set_trace()                 \n",
        "  attr = gcObj.attribute(X.cuda(), int(label.item()))                                                                     \n",
        "  attr = torch.abs(attr)                                                                                  \n",
        "  attrRescaled = Image.fromarray(attr.detach().cpu()                                                      \n",
        "                                 .numpy()[0, 0, :, :]).resize(                                            \n",
        "                                 (X.shape[3], X.shape[2]))\n",
        "  plt.imshow(img, cmap='gray')\n",
        "  plt.imshow(attr_map, cmap='jet', alpha=0.3)     \n",
        "  plt.title('Overlayed Attributions')\n",
        "  plt.axis('off')\n",
        "  plt.colorbar()\n",
        "  plt.show()                 \n",
        "  cnt += 1\n",
        "  if cnt >= 10:\n",
        "    break"
      ],
      "execution_count": null,
      "outputs": [
        {
          "output_type": "stream",
          "text": [
            "\n",
            "PYDEV DEBUGGER WARNING:\n",
            "sys.settrace() should not be used when the debugger is being used.\n",
            "This may cause the debugger to stop working correctly.\n",
            "If this is needed, please check: \n",
            "http://pydev.blogspot.com/2007/06/why-cant-pydev-debugger-work-with.html\n",
            "to see how to restore the debug tracing back correctly.\n",
            "Call Location:\n",
            "  File \"/usr/lib/python3.7/bdb.py\", line 332, in set_trace\n",
            "    sys.settrace(self.trace_dispatch)\n",
            "\n"
          ],
          "name": "stderr"
        },
        {
          "output_type": "stream",
          "text": [
            "> <ipython-input-34-2072b74a31b7>(26)<module>()\n",
            "-> attr = gcObj.attribute(X.cuda(), int(label.item()))\n",
            "(Pdb) X.shape\n",
            "torch.Size([1, 3, 256, 256])\n",
            "(Pdb) attr = gcObj.attribute(X[0].cuda(), int(label.item()))\n",
            "*** RuntimeError: Expected 4-dimensional input for 4-dimensional weight [64, 3, 7, 7], but got 3-dimensional input of size [3, 256, 256] instead\n",
            "(Pdb) attr = gcObj.attribute(X.cuda(), int(label.item()))\n",
            "*** IndexError: index 1 is out of bounds for dimension 1 with size 1\n",
            "(Pdb) model.layer4\n",
            "Sequential(\n",
            "  (0): BasicBlock(\n",
            "    (conv1): Conv2d(256, 512, kernel_size=(3, 3), stride=(2, 2), padding=(1, 1), bias=False)\n",
            "    (bn1): BatchNorm2d(512, eps=1e-05, momentum=0.1, affine=True, track_running_stats=True)\n",
            "    (relu): ReLU(inplace=True)\n",
            "    (conv2): Conv2d(512, 512, kernel_size=(3, 3), stride=(1, 1), padding=(1, 1), bias=False)\n",
            "    (bn2): BatchNorm2d(512, eps=1e-05, momentum=0.1, affine=True, track_running_stats=True)\n",
            "    (downsample): Sequential(\n",
            "      (0): Conv2d(256, 512, kernel_size=(1, 1), stride=(2, 2), bias=False)\n",
            "      (1): BatchNorm2d(512, eps=1e-05, momentum=0.1, affine=True, track_running_stats=True)\n",
            "    )\n",
            "  )\n",
            "  (1): BasicBlock(\n",
            "    (conv1): Conv2d(512, 512, kernel_size=(3, 3), stride=(1, 1), padding=(1, 1), bias=False)\n",
            "    (bn1): BatchNorm2d(512, eps=1e-05, momentum=0.1, affine=True, track_running_stats=True)\n",
            "    (relu): ReLU(inplace=True)\n",
            "    (conv2): Conv2d(512, 512, kernel_size=(3, 3), stride=(1, 1), padding=(1, 1), bias=False)\n",
            "    (bn2): BatchNorm2d(512, eps=1e-05, momentum=0.1, affine=True, track_running_stats=True)\n",
            "  )\n",
            ")\n",
            "(Pdb) model\n",
            "ResNet(\n",
            "  (conv1): Conv2d(3, 64, kernel_size=(7, 7), stride=(2, 2), padding=(3, 3), bias=False)\n",
            "  (bn1): BatchNorm2d(64, eps=1e-05, momentum=0.1, affine=True, track_running_stats=True)\n",
            "  (relu): ReLU(inplace=True)\n",
            "  (maxpool): MaxPool2d(kernel_size=3, stride=2, padding=1, dilation=1, ceil_mode=False)\n",
            "  (layer1): Sequential(\n",
            "    (0): BasicBlock(\n",
            "      (conv1): Conv2d(64, 64, kernel_size=(3, 3), stride=(1, 1), padding=(1, 1), bias=False)\n",
            "      (bn1): BatchNorm2d(64, eps=1e-05, momentum=0.1, affine=True, track_running_stats=True)\n",
            "      (relu): ReLU(inplace=True)\n",
            "      (conv2): Conv2d(64, 64, kernel_size=(3, 3), stride=(1, 1), padding=(1, 1), bias=False)\n",
            "      (bn2): BatchNorm2d(64, eps=1e-05, momentum=0.1, affine=True, track_running_stats=True)\n",
            "    )\n",
            "    (1): BasicBlock(\n",
            "      (conv1): Conv2d(64, 64, kernel_size=(3, 3), stride=(1, 1), padding=(1, 1), bias=False)\n",
            "      (bn1): BatchNorm2d(64, eps=1e-05, momentum=0.1, affine=True, track_running_stats=True)\n",
            "      (relu): ReLU(inplace=True)\n",
            "      (conv2): Conv2d(64, 64, kernel_size=(3, 3), stride=(1, 1), padding=(1, 1), bias=False)\n",
            "      (bn2): BatchNorm2d(64, eps=1e-05, momentum=0.1, affine=True, track_running_stats=True)\n",
            "    )\n",
            "  )\n",
            "  (layer2): Sequential(\n",
            "    (0): BasicBlock(\n",
            "      (conv1): Conv2d(64, 128, kernel_size=(3, 3), stride=(2, 2), padding=(1, 1), bias=False)\n",
            "      (bn1): BatchNorm2d(128, eps=1e-05, momentum=0.1, affine=True, track_running_stats=True)\n",
            "      (relu): ReLU(inplace=True)\n",
            "      (conv2): Conv2d(128, 128, kernel_size=(3, 3), stride=(1, 1), padding=(1, 1), bias=False)\n",
            "      (bn2): BatchNorm2d(128, eps=1e-05, momentum=0.1, affine=True, track_running_stats=True)\n",
            "      (downsample): Sequential(\n",
            "        (0): Conv2d(64, 128, kernel_size=(1, 1), stride=(2, 2), bias=False)\n",
            "        (1): BatchNorm2d(128, eps=1e-05, momentum=0.1, affine=True, track_running_stats=True)\n",
            "      )\n",
            "    )\n",
            "    (1): BasicBlock(\n",
            "      (conv1): Conv2d(128, 128, kernel_size=(3, 3), stride=(1, 1), padding=(1, 1), bias=False)\n",
            "      (bn1): BatchNorm2d(128, eps=1e-05, momentum=0.1, affine=True, track_running_stats=True)\n",
            "      (relu): ReLU(inplace=True)\n",
            "      (conv2): Conv2d(128, 128, kernel_size=(3, 3), stride=(1, 1), padding=(1, 1), bias=False)\n",
            "      (bn2): BatchNorm2d(128, eps=1e-05, momentum=0.1, affine=True, track_running_stats=True)\n",
            "    )\n",
            "  )\n",
            "  (layer3): Sequential(\n",
            "    (0): BasicBlock(\n",
            "      (conv1): Conv2d(128, 256, kernel_size=(3, 3), stride=(2, 2), padding=(1, 1), bias=False)\n",
            "      (bn1): BatchNorm2d(256, eps=1e-05, momentum=0.1, affine=True, track_running_stats=True)\n",
            "      (relu): ReLU(inplace=True)\n",
            "      (conv2): Conv2d(256, 256, kernel_size=(3, 3), stride=(1, 1), padding=(1, 1), bias=False)\n",
            "      (bn2): BatchNorm2d(256, eps=1e-05, momentum=0.1, affine=True, track_running_stats=True)\n",
            "      (downsample): Sequential(\n",
            "        (0): Conv2d(128, 256, kernel_size=(1, 1), stride=(2, 2), bias=False)\n",
            "        (1): BatchNorm2d(256, eps=1e-05, momentum=0.1, affine=True, track_running_stats=True)\n",
            "      )\n",
            "    )\n",
            "    (1): BasicBlock(\n",
            "      (conv1): Conv2d(256, 256, kernel_size=(3, 3), stride=(1, 1), padding=(1, 1), bias=False)\n",
            "      (bn1): BatchNorm2d(256, eps=1e-05, momentum=0.1, affine=True, track_running_stats=True)\n",
            "      (relu): ReLU(inplace=True)\n",
            "      (conv2): Conv2d(256, 256, kernel_size=(3, 3), stride=(1, 1), padding=(1, 1), bias=False)\n",
            "      (bn2): BatchNorm2d(256, eps=1e-05, momentum=0.1, affine=True, track_running_stats=True)\n",
            "    )\n",
            "  )\n",
            "  (layer4): Sequential(\n",
            "    (0): BasicBlock(\n",
            "      (conv1): Conv2d(256, 512, kernel_size=(3, 3), stride=(2, 2), padding=(1, 1), bias=False)\n",
            "      (bn1): BatchNorm2d(512, eps=1e-05, momentum=0.1, affine=True, track_running_stats=True)\n",
            "      (relu): ReLU(inplace=True)\n",
            "      (conv2): Conv2d(512, 512, kernel_size=(3, 3), stride=(1, 1), padding=(1, 1), bias=False)\n",
            "      (bn2): BatchNorm2d(512, eps=1e-05, momentum=0.1, affine=True, track_running_stats=True)\n",
            "      (downsample): Sequential(\n",
            "        (0): Conv2d(256, 512, kernel_size=(1, 1), stride=(2, 2), bias=False)\n",
            "        (1): BatchNorm2d(512, eps=1e-05, momentum=0.1, affine=True, track_running_stats=True)\n",
            "      )\n",
            "    )\n",
            "    (1): BasicBlock(\n",
            "      (conv1): Conv2d(512, 512, kernel_size=(3, 3), stride=(1, 1), padding=(1, 1), bias=False)\n",
            "      (bn1): BatchNorm2d(512, eps=1e-05, momentum=0.1, affine=True, track_running_stats=True)\n",
            "      (relu): ReLU(inplace=True)\n",
            "      (conv2): Conv2d(512, 512, kernel_size=(3, 3), stride=(1, 1), padding=(1, 1), bias=False)\n",
            "      (bn2): BatchNorm2d(512, eps=1e-05, momentum=0.1, affine=True, track_running_stats=True)\n",
            "    )\n",
            "  )\n",
            "  (avgpool): AdaptiveAvgPool2d(output_size=(1, 1))\n",
            "  (fc): Linear(in_features=512, out_features=1, bias=True)\n",
            ")\n",
            "(Pdb) model(X)\n",
            "*** RuntimeError: Input type (torch.FloatTensor) and weight type (torch.cuda.FloatTensor) should be the same or input should be a MKLDNN tensor and weight is a dense tensor\n",
            "(Pdb) model(X.cuda())\n",
            "tensor([[-3.8695]], device='cuda:0', grad_fn=<AddmmBackward>)\n",
            "(Pdb) F.softmax(X.cuda())\n",
            "*** NameError: name 'F' is not defined\n",
            "(Pdb) torch.sigmoid(X.cuda())\n",
            "tensor([[[[0.1059, 0.1059, 0.1059,  ..., 0.1059, 0.1059, 0.1059],\n",
            "          [0.1059, 0.1059, 0.1059,  ..., 0.1059, 0.1059, 0.1059],\n",
            "          [0.1059, 0.1059, 0.1059,  ..., 0.1059, 0.1059, 0.1059],\n",
            "          ...,\n",
            "          [0.1059, 0.1059, 0.1059,  ..., 0.1269, 0.1269, 0.1249],\n",
            "          [0.1059, 0.1059, 0.1059,  ..., 0.1269, 0.1269, 0.1249],\n",
            "          [0.1059, 0.1059, 0.1059,  ..., 0.1209, 0.1229, 0.1189]],\n",
            "\n",
            "         [[0.1059, 0.1059, 0.1059,  ..., 0.1059, 0.1059, 0.1059],\n",
            "          [0.1059, 0.1059, 0.1059,  ..., 0.1059, 0.1059, 0.1059],\n",
            "          [0.1059, 0.1059, 0.1059,  ..., 0.1059, 0.1059, 0.1059],\n",
            "          ...,\n",
            "          [0.1059, 0.1059, 0.1059,  ..., 0.1269, 0.1269, 0.1249],\n",
            "          [0.1059, 0.1059, 0.1059,  ..., 0.1269, 0.1269, 0.1249],\n",
            "          [0.1059, 0.1059, 0.1059,  ..., 0.1209, 0.1229, 0.1189]],\n",
            "\n",
            "         [[0.1059, 0.1059, 0.1059,  ..., 0.1059, 0.1059, 0.1059],\n",
            "          [0.1059, 0.1059, 0.1059,  ..., 0.1059, 0.1059, 0.1059],\n",
            "          [0.1059, 0.1059, 0.1059,  ..., 0.1059, 0.1059, 0.1059],\n",
            "          ...,\n",
            "          [0.1059, 0.1059, 0.1059,  ..., 0.1269, 0.1269, 0.1249],\n",
            "          [0.1059, 0.1059, 0.1059,  ..., 0.1269, 0.1269, 0.1249],\n",
            "          [0.1059, 0.1059, 0.1059,  ..., 0.1209, 0.1229, 0.1189]]]],\n",
            "       device='cuda:0')\n",
            "(Pdb) torch.sigmoid(model(X.cuda()))\n",
            "tensor([[0.0204]], device='cuda:0', grad_fn=<SigmoidBackward>)\n",
            "(Pdb) label\n",
            "tensor([[1.]])\n",
            "(Pdb) q\n"
          ],
          "name": "stdout"
        },
        {
          "output_type": "stream",
          "text": [
            "\n",
            "PYDEV DEBUGGER WARNING:\n",
            "sys.settrace() should not be used when the debugger is being used.\n",
            "This may cause the debugger to stop working correctly.\n",
            "If this is needed, please check: \n",
            "http://pydev.blogspot.com/2007/06/why-cant-pydev-debugger-work-with.html\n",
            "to see how to restore the debug tracing back correctly.\n",
            "Call Location:\n",
            "  File \"/usr/lib/python3.7/bdb.py\", line 357, in set_quit\n",
            "    sys.settrace(None)\n",
            "\n"
          ],
          "name": "stderr"
        },
        {
          "output_type": "error",
          "ename": "BdbQuit",
          "evalue": "ignored",
          "traceback": [
            "\u001b[0;31m---------------------------------------------------------------------------\u001b[0m",
            "\u001b[0;31mBdbQuit\u001b[0m                                   Traceback (most recent call last)",
            "\u001b[0;32m<ipython-input-34-2072b74a31b7>\u001b[0m in \u001b[0;36m<module>\u001b[0;34m()\u001b[0m\n\u001b[1;32m     24\u001b[0m   \u001b[0;32mimport\u001b[0m \u001b[0mpdb\u001b[0m\u001b[0;34m\u001b[0m\u001b[0;34m\u001b[0m\u001b[0m\n\u001b[1;32m     25\u001b[0m   \u001b[0mpdb\u001b[0m\u001b[0;34m.\u001b[0m\u001b[0mset_trace\u001b[0m\u001b[0;34m(\u001b[0m\u001b[0;34m)\u001b[0m\u001b[0;34m\u001b[0m\u001b[0;34m\u001b[0m\u001b[0m\n\u001b[0;32m---> 26\u001b[0;31m   \u001b[0mattr\u001b[0m \u001b[0;34m=\u001b[0m \u001b[0mgcObj\u001b[0m\u001b[0;34m.\u001b[0m\u001b[0mattribute\u001b[0m\u001b[0;34m(\u001b[0m\u001b[0mX\u001b[0m\u001b[0;34m.\u001b[0m\u001b[0mcuda\u001b[0m\u001b[0;34m(\u001b[0m\u001b[0;34m)\u001b[0m\u001b[0;34m,\u001b[0m \u001b[0mint\u001b[0m\u001b[0;34m(\u001b[0m\u001b[0mlabel\u001b[0m\u001b[0;34m.\u001b[0m\u001b[0mitem\u001b[0m\u001b[0;34m(\u001b[0m\u001b[0;34m)\u001b[0m\u001b[0;34m)\u001b[0m\u001b[0;34m)\u001b[0m\u001b[0;34m\u001b[0m\u001b[0;34m\u001b[0m\u001b[0m\n\u001b[0m\u001b[1;32m     27\u001b[0m   \u001b[0mattr\u001b[0m \u001b[0;34m=\u001b[0m \u001b[0mtorch\u001b[0m\u001b[0;34m.\u001b[0m\u001b[0mabs\u001b[0m\u001b[0;34m(\u001b[0m\u001b[0mattr\u001b[0m\u001b[0;34m)\u001b[0m\u001b[0;34m\u001b[0m\u001b[0;34m\u001b[0m\u001b[0m\n\u001b[1;32m     28\u001b[0m   attrRescaled = Image.fromarray(attr.detach().cpu()                                                      \n",
            "\u001b[0;32m<ipython-input-34-2072b74a31b7>\u001b[0m in \u001b[0;36m<module>\u001b[0;34m()\u001b[0m\n\u001b[1;32m     24\u001b[0m   \u001b[0;32mimport\u001b[0m \u001b[0mpdb\u001b[0m\u001b[0;34m\u001b[0m\u001b[0;34m\u001b[0m\u001b[0m\n\u001b[1;32m     25\u001b[0m   \u001b[0mpdb\u001b[0m\u001b[0;34m.\u001b[0m\u001b[0mset_trace\u001b[0m\u001b[0;34m(\u001b[0m\u001b[0;34m)\u001b[0m\u001b[0;34m\u001b[0m\u001b[0;34m\u001b[0m\u001b[0m\n\u001b[0;32m---> 26\u001b[0;31m   \u001b[0mattr\u001b[0m \u001b[0;34m=\u001b[0m \u001b[0mgcObj\u001b[0m\u001b[0;34m.\u001b[0m\u001b[0mattribute\u001b[0m\u001b[0;34m(\u001b[0m\u001b[0mX\u001b[0m\u001b[0;34m.\u001b[0m\u001b[0mcuda\u001b[0m\u001b[0;34m(\u001b[0m\u001b[0;34m)\u001b[0m\u001b[0;34m,\u001b[0m \u001b[0mint\u001b[0m\u001b[0;34m(\u001b[0m\u001b[0mlabel\u001b[0m\u001b[0;34m.\u001b[0m\u001b[0mitem\u001b[0m\u001b[0;34m(\u001b[0m\u001b[0;34m)\u001b[0m\u001b[0;34m)\u001b[0m\u001b[0;34m)\u001b[0m\u001b[0;34m\u001b[0m\u001b[0;34m\u001b[0m\u001b[0m\n\u001b[0m\u001b[1;32m     27\u001b[0m   \u001b[0mattr\u001b[0m \u001b[0;34m=\u001b[0m \u001b[0mtorch\u001b[0m\u001b[0;34m.\u001b[0m\u001b[0mabs\u001b[0m\u001b[0;34m(\u001b[0m\u001b[0mattr\u001b[0m\u001b[0;34m)\u001b[0m\u001b[0;34m\u001b[0m\u001b[0;34m\u001b[0m\u001b[0m\n\u001b[1;32m     28\u001b[0m   attrRescaled = Image.fromarray(attr.detach().cpu()                                                      \n",
            "\u001b[0;32m/usr/lib/python3.7/bdb.py\u001b[0m in \u001b[0;36mtrace_dispatch\u001b[0;34m(self, frame, event, arg)\u001b[0m\n\u001b[1;32m     86\u001b[0m             \u001b[0;32mreturn\u001b[0m \u001b[0;31m# None\u001b[0m\u001b[0;34m\u001b[0m\u001b[0;34m\u001b[0m\u001b[0m\n\u001b[1;32m     87\u001b[0m         \u001b[0;32mif\u001b[0m \u001b[0mevent\u001b[0m \u001b[0;34m==\u001b[0m \u001b[0;34m'line'\u001b[0m\u001b[0;34m:\u001b[0m\u001b[0;34m\u001b[0m\u001b[0;34m\u001b[0m\u001b[0m\n\u001b[0;32m---> 88\u001b[0;31m             \u001b[0;32mreturn\u001b[0m \u001b[0mself\u001b[0m\u001b[0;34m.\u001b[0m\u001b[0mdispatch_line\u001b[0m\u001b[0;34m(\u001b[0m\u001b[0mframe\u001b[0m\u001b[0;34m)\u001b[0m\u001b[0;34m\u001b[0m\u001b[0;34m\u001b[0m\u001b[0m\n\u001b[0m\u001b[1;32m     89\u001b[0m         \u001b[0;32mif\u001b[0m \u001b[0mevent\u001b[0m \u001b[0;34m==\u001b[0m \u001b[0;34m'call'\u001b[0m\u001b[0;34m:\u001b[0m\u001b[0;34m\u001b[0m\u001b[0;34m\u001b[0m\u001b[0m\n\u001b[1;32m     90\u001b[0m             \u001b[0;32mreturn\u001b[0m \u001b[0mself\u001b[0m\u001b[0;34m.\u001b[0m\u001b[0mdispatch_call\u001b[0m\u001b[0;34m(\u001b[0m\u001b[0mframe\u001b[0m\u001b[0;34m,\u001b[0m \u001b[0marg\u001b[0m\u001b[0;34m)\u001b[0m\u001b[0;34m\u001b[0m\u001b[0;34m\u001b[0m\u001b[0m\n",
            "\u001b[0;32m/usr/lib/python3.7/bdb.py\u001b[0m in \u001b[0;36mdispatch_line\u001b[0;34m(self, frame)\u001b[0m\n\u001b[1;32m    111\u001b[0m         \u001b[0;32mif\u001b[0m \u001b[0mself\u001b[0m\u001b[0;34m.\u001b[0m\u001b[0mstop_here\u001b[0m\u001b[0;34m(\u001b[0m\u001b[0mframe\u001b[0m\u001b[0;34m)\u001b[0m \u001b[0;32mor\u001b[0m \u001b[0mself\u001b[0m\u001b[0;34m.\u001b[0m\u001b[0mbreak_here\u001b[0m\u001b[0;34m(\u001b[0m\u001b[0mframe\u001b[0m\u001b[0;34m)\u001b[0m\u001b[0;34m:\u001b[0m\u001b[0;34m\u001b[0m\u001b[0;34m\u001b[0m\u001b[0m\n\u001b[1;32m    112\u001b[0m             \u001b[0mself\u001b[0m\u001b[0;34m.\u001b[0m\u001b[0muser_line\u001b[0m\u001b[0;34m(\u001b[0m\u001b[0mframe\u001b[0m\u001b[0;34m)\u001b[0m\u001b[0;34m\u001b[0m\u001b[0;34m\u001b[0m\u001b[0m\n\u001b[0;32m--> 113\u001b[0;31m             \u001b[0;32mif\u001b[0m \u001b[0mself\u001b[0m\u001b[0;34m.\u001b[0m\u001b[0mquitting\u001b[0m\u001b[0;34m:\u001b[0m \u001b[0;32mraise\u001b[0m \u001b[0mBdbQuit\u001b[0m\u001b[0;34m\u001b[0m\u001b[0;34m\u001b[0m\u001b[0m\n\u001b[0m\u001b[1;32m    114\u001b[0m         \u001b[0;32mreturn\u001b[0m \u001b[0mself\u001b[0m\u001b[0;34m.\u001b[0m\u001b[0mtrace_dispatch\u001b[0m\u001b[0;34m\u001b[0m\u001b[0;34m\u001b[0m\u001b[0m\n\u001b[1;32m    115\u001b[0m \u001b[0;34m\u001b[0m\u001b[0m\n",
            "\u001b[0;31mBdbQuit\u001b[0m: "
          ]
        }
      ]
    },
    {
      "cell_type": "code",
      "metadata": {
        "id": "8B80bImaC7zy",
        "colab": {
          "base_uri": "https://localhost:8080/"
        },
        "outputId": "cfad3694-dbda-48c6-893a-626ea96373ec"
      },
      "source": [
        "len(tst_names)"
      ],
      "execution_count": null,
      "outputs": [
        {
          "output_type": "execute_result",
          "data": {
            "text/plain": [
              "50"
            ]
          },
          "metadata": {},
          "execution_count": 25
        }
      ]
    },
    {
      "cell_type": "code",
      "metadata": {
        "id": "G17iNUh8eSby"
      },
      "source": [
        ""
      ],
      "execution_count": null,
      "outputs": []
    }
  ]
}