{
 "cells": [
  {
   "cell_type": "markdown",
   "metadata": {},
   "source": [
    "# Student Teacher Networks\n",
    "\n",
    "Training thin deep networks following the student-teacher learning paradigm has received intensive attention because of its excellent performance. In such a paradigm, there is a huge neural network known as the teacher network which is expert at performing a certain task. There is also a much smaller student network which learns to perform the same task using some form of guidance from the teacher. \n",
    "\n",
    "The student can be small in terms of 1) Depth 2) Number of parameters.\n",
    "\n",
    "The guidance is provided by the teacher network based on hints in some form or the other. In this notebook we will see one such setup where the guidance is provided by the outputs of the teacher network.\n",
    "\n",
    "Here are the imports."
   ]
  },
  {
   "cell_type": "code",
   "execution_count": 1,
   "metadata": {
    "execution": {
     "iopub.execute_input": "2021-08-22T04:13:11.914637Z",
     "iopub.status.busy": "2021-08-22T04:13:11.914375Z",
     "iopub.status.idle": "2021-08-22T04:13:13.033072Z",
     "shell.execute_reply": "2021-08-22T04:13:13.032261Z",
     "shell.execute_reply.started": "2021-08-22T04:13:11.914569Z"
    },
    "tags": []
   },
   "outputs": [],
   "source": [
    "import numpy as np\n",
    "import torch \n",
    "import torchvision\n",
    "import torch.nn as nn\n",
    "import torchvision.datasets as dsets\n",
    "import torchvision.transforms as transforms\n"
   ]
  },
  {
   "cell_type": "markdown",
   "metadata": {},
   "source": [
    "### Hyperparameters"
   ]
  },
  {
   "cell_type": "code",
   "execution_count": 2,
   "metadata": {
    "execution": {
     "iopub.execute_input": "2021-08-22T04:13:13.037993Z",
     "iopub.status.busy": "2021-08-22T04:13:13.036464Z",
     "iopub.status.idle": "2021-08-22T04:13:13.657615Z",
     "shell.execute_reply": "2021-08-22T04:13:13.657052Z",
     "shell.execute_reply.started": "2021-08-22T04:13:13.037964Z"
    },
    "tags": []
   },
   "outputs": [
    {
     "name": "stdout",
     "output_type": "stream",
     "text": [
      "Using cuda device\n"
     ]
    }
   ],
   "source": [
    "num_epochs = 5\n",
    "batch_size = 100\n",
    "learning_rate = 0.001\n",
    "device = \"cuda\" if torch.cuda.is_available() else \"cpu\"\n",
    "print(f\"Using {device} device\")"
   ]
  },
  {
   "cell_type": "markdown",
   "metadata": {},
   "source": [
    "### Downloading MNIST data"
   ]
  },
  {
   "cell_type": "code",
   "execution_count": 5,
   "metadata": {
    "collapsed": false,
    "execution": {
     "iopub.execute_input": "2021-08-22T04:13:43.008419Z",
     "iopub.status.busy": "2021-08-22T04:13:43.008031Z",
     "iopub.status.idle": "2021-08-22T04:13:43.048883Z",
     "shell.execute_reply": "2021-08-22T04:13:43.048376Z",
     "shell.execute_reply.started": "2021-08-22T04:13:43.008395Z"
    },
    "jupyter": {
     "outputs_hidden": false
    },
    "tags": []
   },
   "outputs": [],
   "source": [
    "train_dataset = dsets.MNIST(root='.',\n",
    "                            train=True, \n",
    "                            transform=transforms.ToTensor(),\n",
    "                            download=True)\n",
    "\n",
    "test_dataset = dsets.MNIST(root='.',\n",
    "                           train=False, \n",
    "                           transform=transforms.ToTensor())\n"
   ]
  },
  {
   "cell_type": "markdown",
   "metadata": {},
   "source": [
    "### Dataloader"
   ]
  },
  {
   "cell_type": "code",
   "execution_count": 6,
   "metadata": {
    "execution": {
     "iopub.execute_input": "2021-08-22T04:13:44.858845Z",
     "iopub.status.busy": "2021-08-22T04:13:44.857365Z",
     "iopub.status.idle": "2021-08-22T04:13:44.863154Z",
     "shell.execute_reply": "2021-08-22T04:13:44.862610Z",
     "shell.execute_reply.started": "2021-08-22T04:13:44.858819Z"
    },
    "tags": []
   },
   "outputs": [],
   "source": [
    "train_loader = torch.utils.data.DataLoader(dataset=train_dataset,\n",
    "                                           batch_size=batch_size, \n",
    "                                           shuffle=True)\n",
    "\n",
    "test_loader = torch.utils.data.DataLoader(dataset=test_dataset,\n",
    "                                          batch_size=batch_size, \n",
    "                                          shuffle=False)"
   ]
  },
  {
   "cell_type": "markdown",
   "metadata": {},
   "source": [
    "### Defining the Teacher Network\n",
    "\n",
    "A comparitively bigger and deeper network as compared to the student network defined later."
   ]
  },
  {
   "cell_type": "code",
   "execution_count": 7,
   "metadata": {
    "execution": {
     "iopub.execute_input": "2021-08-22T04:13:45.829655Z",
     "iopub.status.busy": "2021-08-22T04:13:45.828110Z",
     "iopub.status.idle": "2021-08-22T04:13:45.836930Z",
     "shell.execute_reply": "2021-08-22T04:13:45.836314Z",
     "shell.execute_reply.started": "2021-08-22T04:13:45.829629Z"
    },
    "tags": []
   },
   "outputs": [],
   "source": [
    "class Teacher(nn.Module):\n",
    "    def __init__(self):\n",
    "        super(Teacher, self).__init__()\n",
    "        self.layer1 = nn.Sequential(\n",
    "            nn.Conv2d(1, 16, kernel_size=5, padding=2),\n",
    "            nn.BatchNorm2d(16),\n",
    "            nn.ReLU())\n",
    "        self.layer2 = nn.Sequential(\n",
    "            nn.Conv2d(16, 16, kernel_size=3, padding=1),\n",
    "            nn.BatchNorm2d(16),\n",
    "            nn.ReLU(),\n",
    "            nn.MaxPool2d(2))\n",
    "        self.layer3 = nn.Sequential(\n",
    "            nn.Conv2d(16, 32, kernel_size=3, padding=1),\n",
    "            nn.BatchNorm2d(32),\n",
    "            nn.ReLU(),\n",
    "            nn.MaxPool2d(2))\n",
    "        self.fc1 = nn.Linear(7*7*32, 300)\n",
    "        self.fc2 = nn.Linear(300, 10)\n",
    "        \n",
    "    def forward(self, x):\n",
    "        out = self.layer1(x)\n",
    "        out = self.layer2(out)\n",
    "        out = self.layer3(out)\n",
    "        out = out.view(out.size(0), -1)\n",
    "        out = self.fc1(out)\n",
    "        out = self.fc2(out)\n",
    "        return out\n",
    "    "
   ]
  },
  {
   "cell_type": "markdown",
   "metadata": {},
   "source": [
    "### Defining the student network\n",
    "\n",
    "A comparitively smaller and shallower network than the teacher."
   ]
  },
  {
   "cell_type": "code",
   "execution_count": 8,
   "metadata": {
    "execution": {
     "iopub.execute_input": "2021-08-22T04:13:46.315949Z",
     "iopub.status.busy": "2021-08-22T04:13:46.314480Z",
     "iopub.status.idle": "2021-08-22T04:13:46.321480Z",
     "shell.execute_reply": "2021-08-22T04:13:46.320946Z",
     "shell.execute_reply.started": "2021-08-22T04:13:46.315923Z"
    },
    "tags": []
   },
   "outputs": [],
   "source": [
    "class Student(nn.Module):\n",
    "    def __init__(self):\n",
    "        super(Student, self).__init__()\n",
    "        self.layer1 = nn.Sequential(\n",
    "            nn.Conv2d(1, 16, kernel_size=3, padding=1),\n",
    "            nn.BatchNorm2d(16),\n",
    "            nn.ReLU(),\n",
    "            nn.MaxPool2d(2))\n",
    "        self.fc1 = nn.Linear(14*14*16, 10)\n",
    "        \n",
    "    def forward(self, x):\n",
    "        out = self.layer1(x)\n",
    "        out = out.view(out.size(0), -1)\n",
    "        out = self.fc1(out)\n",
    "        return out\n",
    "    "
   ]
  },
  {
   "cell_type": "markdown",
   "metadata": {},
   "source": [
    "<b>The below function is called to reinitialize the weights of the network and define the required loss criterion and the optimizer.</b> "
   ]
  },
  {
   "cell_type": "code",
   "execution_count": 9,
   "metadata": {
    "collapsed": false,
    "execution": {
     "iopub.execute_input": "2021-08-22T04:13:46.933642Z",
     "iopub.status.busy": "2021-08-22T04:13:46.932099Z",
     "iopub.status.idle": "2021-08-22T04:13:46.938082Z",
     "shell.execute_reply": "2021-08-22T04:13:46.937560Z",
     "shell.execute_reply.started": "2021-08-22T04:13:46.933615Z"
    },
    "jupyter": {
     "outputs_hidden": false
    }
   },
   "outputs": [],
   "source": [
    "def reset_model(is_teacher = True):\n",
    "    if is_teacher == True:\n",
    "        net = Teacher()\n",
    "    else:\n",
    "        net = Student()\n",
    "    net = net.to(device)\n",
    "\n",
    "\n",
    "    # Loss and Optimizer\n",
    "    criterion = nn.CrossEntropyLoss()\n",
    "    optimizer = torch.optim.Adam(net.parameters(), lr=learning_rate)\n",
    "    return net,criterion,optimizer"
   ]
  },
  {
   "cell_type": "markdown",
   "metadata": {},
   "source": [
    "### Training the teacher network\n",
    "\n",
    "The first step is to train the teacher network to become an expert. We move ahead with regular training procedure using the cross entropy loss and the Adam optimizer."
   ]
  },
  {
   "cell_type": "code",
   "execution_count": 10,
   "metadata": {
    "execution": {
     "iopub.execute_input": "2021-08-22T04:13:47.470467Z",
     "iopub.status.busy": "2021-08-22T04:13:47.468976Z",
     "iopub.status.idle": "2021-08-22T04:13:49.736649Z",
     "shell.execute_reply": "2021-08-22T04:13:49.735790Z",
     "shell.execute_reply.started": "2021-08-22T04:13:47.470440Z"
    },
    "tags": []
   },
   "outputs": [],
   "source": [
    "teacher, criterion, optimizer = reset_model()"
   ]
  },
  {
   "cell_type": "code",
   "execution_count": 11,
   "metadata": {
    "collapsed": false,
    "execution": {
     "iopub.execute_input": "2021-08-22T04:13:49.741290Z",
     "iopub.status.busy": "2021-08-22T04:13:49.740011Z",
     "iopub.status.idle": "2021-08-22T04:13:49.748636Z",
     "shell.execute_reply": "2021-08-22T04:13:49.747991Z",
     "shell.execute_reply.started": "2021-08-22T04:13:49.741260Z"
    },
    "jupyter": {
     "outputs_hidden": false
    }
   },
   "outputs": [],
   "source": [
    "# Train the Model\n",
    "\n",
    "def training(net, reset = True):\n",
    "    if reset == True:\n",
    "        net, criterion, optimizer = reset_model()\n",
    "    else:\n",
    "        criterion = nn.CrossEntropyLoss()\n",
    "        optimizer = torch.optim.Adam(net.parameters(), lr=learning_rate)\n",
    "    \n",
    "    net.train()\n",
    "    for epoch in range(num_epochs):\n",
    "        total_loss = 0\n",
    "        accuracy = []\n",
    "        for i, (images, labels) in enumerate(train_loader):\n",
    "            images = images.to(device)\n",
    "            labels = labels.to(device)\n",
    "            temp_labels = labels\n",
    "\n",
    "            # Forward + Backward + Optimize\n",
    "            optimizer.zero_grad()\n",
    "            outputs = net(images)\n",
    "            loss = criterion(outputs, labels)\n",
    "            loss.backward()\n",
    "            optimizer.step()\n",
    "\n",
    "            total_loss += loss.item()\n",
    "            _, predicted = torch.max(outputs.data, 1)\n",
    "            correct = (predicted == temp_labels).sum()\n",
    "            accuracy.append(correct/float(batch_size))\n",
    "\n",
    "        print('Epoch: %d, Loss: %.4f, Accuracy: %.4f' %(epoch+1,total_loss, (sum(accuracy)/float(len(accuracy)))))\n",
    "    \n",
    "    return net"
   ]
  },
  {
   "cell_type": "markdown",
   "metadata": {},
   "source": [
    "### Testing the teacher network"
   ]
  },
  {
   "cell_type": "code",
   "execution_count": 12,
   "metadata": {
    "collapsed": false,
    "execution": {
     "iopub.execute_input": "2021-08-22T04:13:49.753735Z",
     "iopub.status.busy": "2021-08-22T04:13:49.752267Z",
     "iopub.status.idle": "2021-08-22T04:13:49.758896Z",
     "shell.execute_reply": "2021-08-22T04:13:49.758380Z",
     "shell.execute_reply.started": "2021-08-22T04:13:49.753708Z"
    },
    "jupyter": {
     "outputs_hidden": false
    }
   },
   "outputs": [],
   "source": [
    "# Test the Model\n",
    "def testing(net):\n",
    "    net.eval() \n",
    "    correct = 0\n",
    "    total = 0\n",
    "    for images, labels in test_loader:\n",
    "        images = images.to(device)\n",
    "        labels = labels.to(device)\n",
    "        outputs = net(images)\n",
    "        _, predicted = torch.max(outputs.data, 1)\n",
    "        total += labels.size(0)\n",
    "        correct += (predicted == labels).sum()\n",
    "\n",
    "    print('Test Accuracy of the network on the 10000 test images: %.2f %%' % (100.0 * correct / total))"
   ]
  },
  {
   "cell_type": "code",
   "execution_count": 13,
   "metadata": {
    "collapsed": false,
    "execution": {
     "iopub.execute_input": "2021-08-22T04:13:49.762900Z",
     "iopub.status.busy": "2021-08-22T04:13:49.761553Z",
     "iopub.status.idle": "2021-08-22T04:14:39.001796Z",
     "shell.execute_reply": "2021-08-22T04:14:39.001206Z",
     "shell.execute_reply.started": "2021-08-22T04:13:49.762870Z"
    },
    "jupyter": {
     "outputs_hidden": false
    }
   },
   "outputs": [
    {
     "name": "stdout",
     "output_type": "stream",
     "text": [
      "Epoch: 1, Loss: 91.7750, Accuracy: 0.9545\n",
      "Epoch: 2, Loss: 32.6967, Accuracy: 0.9830\n",
      "Epoch: 3, Loss: 26.7097, Accuracy: 0.9867\n",
      "Epoch: 4, Loss: 21.3550, Accuracy: 0.9886\n",
      "Epoch: 5, Loss: 19.3112, Accuracy: 0.9895\n",
      "Test Accuracy of the network on the 10000 test images: 98.89 %\n"
     ]
    }
   ],
   "source": [
    "reset = True\n",
    "teacher = training(teacher, reset)\n",
    "testing(teacher)"
   ]
  },
  {
   "cell_type": "markdown",
   "metadata": {},
   "source": [
    "## Parameters for Student Network\n",
    "\n",
    "Here, we define a few more parameters of the student network. In the student network, we will train with the soft targets as well the hard targets. The soft targets will be calculated by the following equation:\n",
    "\n",
    "$$\n",
    "f(z_{i}) = \\frac{\\exp(z_{i})}{\\sum_{j}\\exp(z_{j})}\n",
    "$$\n",
    "\n",
    "This results in softening out the outputs of the teacher and this can be used as hints for the student network.\n",
    "<img src='images/stud_teach.png', style=\"width: 350px;\">\n",
    "\n",
    "The loss doesn't need to get backpropagated accross the teacher network and therefore we make the corresponding modification.\n",
    "\n",
    "Also, for training witht he soft labels, we use mean square error loss since using a Cross Entropy loss for soft labels makes no sense."
   ]
  },
  {
   "cell_type": "code",
   "execution_count": 15,
   "metadata": {
    "collapsed": false,
    "execution": {
     "iopub.execute_input": "2021-08-22T04:15:43.526977Z",
     "iopub.status.busy": "2021-08-22T04:15:43.526705Z",
     "iopub.status.idle": "2021-08-22T04:15:43.554167Z",
     "shell.execute_reply": "2021-08-22T04:15:43.553675Z",
     "shell.execute_reply.started": "2021-08-22T04:15:43.526956Z"
    },
    "jupyter": {
     "outputs_hidden": false
    },
    "tags": []
   },
   "outputs": [
    {
     "name": "stdout",
     "output_type": "stream",
     "text": [
      "Student(\n",
      "  (layer1): Sequential(\n",
      "    (0): Conv2d(1, 16, kernel_size=(3, 3), stride=(1, 1), padding=(1, 1))\n",
      "    (1): BatchNorm2d(16, eps=1e-05, momentum=0.1, affine=True, track_running_stats=True)\n",
      "    (2): ReLU()\n",
      "    (3): MaxPool2d(kernel_size=2, stride=2, padding=0, dilation=1, ceil_mode=False)\n",
      "  )\n",
      "  (fc1): Linear(in_features=3136, out_features=10, bias=True)\n",
      ")\n"
     ]
    }
   ],
   "source": [
    "temperature = 1.5\n",
    "for p in teacher.parameters():\n",
    "    p.requires_grad= False\n",
    "\n",
    "student, criterion, optimizer = reset_model(is_teacher = False)\n",
    "alpha = 0.6\n",
    "\n",
    "mse_criterion = nn.MSELoss()\n",
    "softmax = nn.Softmax()\n",
    "\n",
    "print(student)"
   ]
  },
  {
   "cell_type": "markdown",
   "metadata": {},
   "source": [
    "### Training and testing the student network"
   ]
  },
  {
   "cell_type": "code",
   "execution_count": 16,
   "metadata": {
    "collapsed": false,
    "execution": {
     "iopub.execute_input": "2021-08-22T04:15:45.153936Z",
     "iopub.status.busy": "2021-08-22T04:15:45.152389Z",
     "iopub.status.idle": "2021-08-22T04:16:27.967657Z",
     "shell.execute_reply": "2021-08-22T04:16:27.967042Z",
     "shell.execute_reply.started": "2021-08-22T04:15:45.153910Z"
    },
    "jupyter": {
     "outputs_hidden": false
    }
   },
   "outputs": [
    {
     "name": "stderr",
     "output_type": "stream",
     "text": [
      "<ipython-input-16-df443729e675>:18: UserWarning: Implicit dimension choice for softmax has been deprecated. Change the call to include dim=X as an argument.\n",
      "  soft_outputs = softmax(soft_outputs)\n"
     ]
    },
    {
     "name": "stdout",
     "output_type": "stream",
     "text": [
      "Epoch: 1, Loss: 356.4775, Accuracy: 0.9368\n",
      "Epoch: 2, Loss: 318.3022, Accuracy: 0.9671\n",
      "Epoch: 3, Loss: 309.5857, Accuracy: 0.9717\n",
      "Epoch: 4, Loss: 304.1725, Accuracy: 0.9742\n",
      "Epoch: 5, Loss: 301.0831, Accuracy: 0.9759\n"
     ]
    }
   ],
   "source": [
    "#Train the Model\n",
    "\n",
    "for epoch in range(num_epochs):\n",
    "    total_loss = 0\n",
    "    accuracy = []\n",
    "    for i, (images, labels) in enumerate(train_loader):\n",
    "        images = images.to(device)\n",
    "        labels = labels.to(device)\n",
    "        temp_labels = labels\n",
    "        \n",
    "        # Forward + Backward + Optimize\n",
    "        optimizer.zero_grad()\n",
    "        \n",
    "        student_outputs = student(images)\n",
    "        \n",
    "        hard_outputs = teacher(images)\n",
    "        soft_outputs = hard_outputs/ temperature\n",
    "        soft_outputs = softmax(soft_outputs)\n",
    "        \n",
    "        hard_loss = criterion(student_outputs, labels)\n",
    "        soft_loss = mse_criterion(student_outputs, soft_outputs)\n",
    "        loss = alpha*hard_loss + (1-alpha)*soft_loss\n",
    "        loss.backward()\n",
    "        optimizer.step()\n",
    "        \n",
    "        total_loss += loss.item()\n",
    "        _, predicted = torch.max(student_outputs.data, 1)\n",
    "        correct = (predicted == temp_labels).sum()\n",
    "        accuracy.append(correct/float(batch_size))\n",
    "    \n",
    "    print('Epoch: %d, Loss: %.4f, Accuracy: %.4f' %(epoch+1,total_loss, (sum(accuracy)/float(len(accuracy)))))"
   ]
  },
  {
   "cell_type": "code",
   "execution_count": 17,
   "metadata": {
    "collapsed": false,
    "execution": {
     "iopub.execute_input": "2021-08-22T04:16:27.971689Z",
     "iopub.status.busy": "2021-08-22T04:16:27.970455Z",
     "iopub.status.idle": "2021-08-22T04:16:29.101892Z",
     "shell.execute_reply": "2021-08-22T04:16:29.101416Z",
     "shell.execute_reply.started": "2021-08-22T04:16:27.971661Z"
    },
    "jupyter": {
     "outputs_hidden": false
    }
   },
   "outputs": [
    {
     "name": "stdout",
     "output_type": "stream",
     "text": [
      "Test Accuracy of the network on the 10000 test images: 97.63 %\n"
     ]
    }
   ],
   "source": [
    "testing(student)"
   ]
  },
  {
   "cell_type": "markdown",
   "metadata": {},
   "source": [
    "### Excercise\n",
    "\n",
    "Try out the small student network on the CIFAR dataset. (Easy enough to load with the data loader!)"
   ]
  },
  {
   "cell_type": "code",
   "execution_count": null,
   "metadata": {
    "collapsed": true,
    "jupyter": {
     "outputs_hidden": true
    }
   },
   "outputs": [],
   "source": []
  },
  {
   "cell_type": "markdown",
   "metadata": {},
   "source": [
    "### References\n",
    "\n",
    "1. https://arxiv.org/abs/1412.6550\n",
    "2. https://www.cs.toronto.edu/~hinton/absps/distillation.pdf"
   ]
  },
  {
   "cell_type": "code",
   "execution_count": null,
   "metadata": {
    "collapsed": true,
    "jupyter": {
     "outputs_hidden": true
    }
   },
   "outputs": [],
   "source": []
  }
 ],
 "metadata": {
  "kernelspec": {
   "display_name": "Python 3",
   "language": "python",
   "name": "python3"
  },
  "language_info": {
   "codemirror_mode": {
    "name": "ipython",
    "version": 3
   },
   "file_extension": ".py",
   "mimetype": "text/x-python",
   "name": "python",
   "nbconvert_exporter": "python",
   "pygments_lexer": "ipython3",
   "version": "3.8.5"
  }
 },
 "nbformat": 4,
 "nbformat_minor": 4
}
