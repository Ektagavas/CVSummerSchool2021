{
  "nbformat": 4,
  "nbformat_minor": 0,
  "metadata": {
    "kernelspec": {
      "display_name": "Python 3",
      "language": "python",
      "name": "python3"
    },
    "language_info": {
      "codemirror_mode": {
        "name": "ipython",
        "version": 3
      },
      "file_extension": ".py",
      "mimetype": "text/x-python",
      "name": "python",
      "nbconvert_exporter": "python",
      "pygments_lexer": "ipython3",
      "version": "3.8.5"
    },
    "colab": {
      "name": "2.Quantization.ipynb",
      "provenance": [],
      "include_colab_link": true
    },
    "accelerator": "GPU"
  },
  "cells": [
    {
      "cell_type": "markdown",
      "metadata": {
        "id": "view-in-github",
        "colab_type": "text"
      },
      "source": [
        "<a href=\"https://colab.research.google.com/github/Ektagavas/CVSummerSchool2021/blob/main/Pruning/2.Quantization.ipynb\" target=\"_parent\"><img src=\"https://colab.research.google.com/assets/colab-badge.svg\" alt=\"Open In Colab\"/></a>"
      ]
    },
    {
      "cell_type": "markdown",
      "metadata": {
        "id": "ELIjupDve2wB"
      },
      "source": [
        "## Weight Quantization\n",
        "\n",
        "Neural network models can take up a lot of space on disk, with the original AlexNet being over 200 MB in float format for example. Almost all of that size is taken up with the weights for the neural connections, since there are often many millions of these in a single model. Because they're all slightly different floating point numbers, simple compression formats like zip don't compress them well.\n",
        "\n",
        "Training neural networks is done by applying many tiny nudges to the weights, and these small increments typically need floating point precision to work. Taking a pre-trained model and running inference is very different. If you think about recognizing an object in a photo you've just taken, the network has to ignore all the noise, lighting changes, and other non-essential differences between it and the training examples it's seen before, and focus on the important similarities instead. This ability means that they seem to treat low-precision calculations as just another source of noise, and still produce accurate results even with numerical formats that hold less information.\n",
        "\n",
        "Once again we do our regular imports.\n",
        "\n"
      ]
    },
    {
      "cell_type": "code",
      "metadata": {
        "execution": {
          "iopub.execute_input": "2021-08-22T04:06:05.974540Z",
          "iopub.status.busy": "2021-08-22T04:06:05.972961Z",
          "iopub.status.idle": "2021-08-22T04:06:08.379949Z",
          "shell.execute_reply": "2021-08-22T04:06:08.379411Z",
          "shell.execute_reply.started": "2021-08-22T04:06:05.974463Z"
        },
        "tags": [],
        "id": "chQWFDTfe2wM"
      },
      "source": [
        "import numpy as np\n",
        "np.random.seed(1337)  # for reproducibility\n",
        "from sklearn.cluster import KMeans\n",
        "import torch \n",
        "import torchvision\n",
        "import torch.nn as nn\n",
        "import torchvision.datasets as dsets\n",
        "import torchvision.transforms as transforms\n",
        "%matplotlib inline\n",
        "import matplotlib.pyplot as plt"
      ],
      "execution_count": null,
      "outputs": []
    },
    {
      "cell_type": "markdown",
      "metadata": {
        "id": "rFh5eNaCe2wR"
      },
      "source": [
        "### Hyperparameters"
      ]
    },
    {
      "cell_type": "code",
      "metadata": {
        "execution": {
          "iopub.execute_input": "2021-08-22T04:06:08.385870Z",
          "iopub.status.busy": "2021-08-22T04:06:08.384456Z",
          "iopub.status.idle": "2021-08-22T04:06:08.957055Z",
          "shell.execute_reply": "2021-08-22T04:06:08.956464Z",
          "shell.execute_reply.started": "2021-08-22T04:06:08.385843Z"
        },
        "tags": [],
        "id": "Hc3bfQU-e2wT"
      },
      "source": [
        "num_epochs = 5\n",
        "batch_size = 100\n",
        "learning_rate = 0.001\n",
        "use_reg = True\n",
        "device = \"cuda\" if torch.cuda.is_available() else \"cpu\"\n",
        "print(f\"Using {device} device\")"
      ],
      "execution_count": null,
      "outputs": []
    },
    {
      "cell_type": "markdown",
      "metadata": {
        "id": "10hAtU22e2wY"
      },
      "source": [
        "### Downloading the MNIST dataset"
      ]
    },
    {
      "cell_type": "code",
      "metadata": {
        "execution": {
          "iopub.execute_input": "2021-08-22T04:06:08.958140Z",
          "iopub.status.busy": "2021-08-22T04:06:08.957979Z",
          "iopub.status.idle": "2021-08-22T04:06:09.002591Z",
          "shell.execute_reply": "2021-08-22T04:06:09.002032Z",
          "shell.execute_reply.started": "2021-08-22T04:06:08.958119Z"
        },
        "jupyter": {
          "outputs_hidden": false
        },
        "tags": [],
        "id": "RqK60h4Be2wZ"
      },
      "source": [
        "train_dataset = dsets.MNIST(root='.',\n",
        "                            train=True, \n",
        "                            transform=transforms.ToTensor(),\n",
        "                            download=True)\n",
        "\n",
        "test_dataset = dsets.MNIST(root='.',\n",
        "                           train=False, \n",
        "                           transform=transforms.ToTensor(),\n",
        "\t\t\t\t\t\t  download=True)"
      ],
      "execution_count": null,
      "outputs": []
    },
    {
      "cell_type": "markdown",
      "metadata": {
        "id": "EKdukwa9e2wb"
      },
      "source": [
        "### Dataloader"
      ]
    },
    {
      "cell_type": "code",
      "metadata": {
        "execution": {
          "iopub.execute_input": "2021-08-22T04:06:09.006895Z",
          "iopub.status.busy": "2021-08-22T04:06:09.005649Z",
          "iopub.status.idle": "2021-08-22T04:06:09.011349Z",
          "shell.execute_reply": "2021-08-22T04:06:09.010621Z",
          "shell.execute_reply.started": "2021-08-22T04:06:09.006870Z"
        },
        "tags": [],
        "id": "q4VFFuoZe2we"
      },
      "source": [
        "train_loader = torch.utils.data.DataLoader(dataset=train_dataset,\n",
        "                                           batch_size=batch_size, \n",
        "                                           shuffle=True)\n",
        "\n",
        "test_loader = torch.utils.data.DataLoader(dataset=test_dataset,\n",
        "                                          batch_size=batch_size, \n",
        "                                          shuffle=False)"
      ],
      "execution_count": null,
      "outputs": []
    },
    {
      "cell_type": "markdown",
      "metadata": {
        "id": "uYaVxMJhe2wj"
      },
      "source": [
        "### Define the network"
      ]
    },
    {
      "cell_type": "code",
      "metadata": {
        "execution": {
          "iopub.execute_input": "2021-08-22T04:06:09.015638Z",
          "iopub.status.busy": "2021-08-22T04:06:09.014270Z",
          "iopub.status.idle": "2021-08-22T04:06:09.023531Z",
          "shell.execute_reply": "2021-08-22T04:06:09.022800Z",
          "shell.execute_reply.started": "2021-08-22T04:06:09.015611Z"
        },
        "tags": [],
        "id": "GTvCoF3ne2wm"
      },
      "source": [
        "class Net(nn.Module):\n",
        "    def __init__(self):\n",
        "        super(Net, self).__init__()\n",
        "        self.layer1 = nn.Sequential(\n",
        "            nn.Conv2d(1, 16, kernel_size=5, padding=2),\n",
        "            nn.BatchNorm2d(16),\n",
        "            nn.ReLU())\n",
        "        self.layer2 = nn.Sequential(\n",
        "            nn.Conv2d(16, 16, kernel_size=3, padding=1),\n",
        "            nn.BatchNorm2d(16),\n",
        "            nn.ReLU(),\n",
        "            nn.MaxPool2d(2))\n",
        "        self.layer3 = nn.Sequential(\n",
        "            nn.Conv2d(16, 32, kernel_size=3, padding=1),\n",
        "            nn.BatchNorm2d(32),\n",
        "            nn.ReLU(),\n",
        "            nn.MaxPool2d(2))\n",
        "        self.fc1 = nn.Linear(7*7*32, 300)\n",
        "        self.fc2 = nn.Linear(300, 10)\n",
        "        \n",
        "    def forward(self, x):\n",
        "        out = self.layer1(x)\n",
        "        out = self.layer2(out)\n",
        "        out = self.layer3(out)\n",
        "        out = out.view(out.size(0), -1)\n",
        "        out = self.fc1(out)\n",
        "        out = self.fc2(out)\n",
        "        return out"
      ],
      "execution_count": null,
      "outputs": []
    },
    {
      "cell_type": "markdown",
      "metadata": {
        "id": "GxpbfDake2wn"
      },
      "source": [
        "<b>The below function is called to reinitialize the weights of the network and define the required loss criterion and the optimizer.</b> "
      ]
    },
    {
      "cell_type": "code",
      "metadata": {
        "execution": {
          "iopub.execute_input": "2021-08-22T04:06:09.027952Z",
          "iopub.status.busy": "2021-08-22T04:06:09.026525Z",
          "iopub.status.idle": "2021-08-22T04:06:09.032481Z",
          "shell.execute_reply": "2021-08-22T04:06:09.031895Z",
          "shell.execute_reply.started": "2021-08-22T04:06:09.027920Z"
        },
        "tags": [],
        "id": "59X0Hjjwe2wp"
      },
      "source": [
        "def reset_model():\n",
        "    net = Net()\n",
        "    net = net.to(device)\n",
        "\n",
        "    # Loss and Optimizer\n",
        "    criterion = nn.CrossEntropyLoss()\n",
        "    optimizer = torch.optim.Adam(net.parameters(), lr=learning_rate)\n",
        "    return net,criterion,optimizer"
      ],
      "execution_count": null,
      "outputs": []
    },
    {
      "cell_type": "markdown",
      "metadata": {
        "id": "O06hscc2e2wq"
      },
      "source": [
        "### Initializing the model"
      ]
    },
    {
      "cell_type": "code",
      "metadata": {
        "execution": {
          "iopub.execute_input": "2021-08-22T04:06:09.036768Z",
          "iopub.status.busy": "2021-08-22T04:06:09.035359Z",
          "iopub.status.idle": "2021-08-22T04:06:11.245315Z",
          "shell.execute_reply": "2021-08-22T04:06:11.244757Z",
          "shell.execute_reply.started": "2021-08-22T04:06:09.036743Z"
        },
        "tags": [],
        "id": "9JTL2BoVe2ws"
      },
      "source": [
        "net, criterion, optimizer = reset_model()"
      ],
      "execution_count": null,
      "outputs": []
    },
    {
      "cell_type": "markdown",
      "metadata": {
        "id": "JoSFUBi_e2wt"
      },
      "source": [
        "### Defining a L1 Regularizer"
      ]
    },
    {
      "cell_type": "code",
      "metadata": {
        "execution": {
          "iopub.execute_input": "2021-08-22T04:06:11.249686Z",
          "iopub.status.busy": "2021-08-22T04:06:11.248457Z",
          "iopub.status.idle": "2021-08-22T04:06:11.253942Z",
          "shell.execute_reply": "2021-08-22T04:06:11.253442Z",
          "shell.execute_reply.started": "2021-08-22T04:06:11.249661Z"
        },
        "tags": [],
        "id": "W_0dJB07e2wu"
      },
      "source": [
        "def l1_regularizer(net, loss, beta):\n",
        "    l1_crit = nn.L1Loss(size_average=False)\n",
        "    reg_loss = 0\n",
        "    for param in net.parameters():\n",
        "        target = (torch.FloatTensor(param.size()).zero_()).to(device)\n",
        "        reg_loss += l1_crit(param, target)\n",
        "        \n",
        "    loss += beta * reg_loss\n",
        "    return loss"
      ],
      "execution_count": null,
      "outputs": []
    },
    {
      "cell_type": "markdown",
      "metadata": {
        "id": "5ncI4YzNe2wv"
      },
      "source": [
        "### Training function"
      ]
    },
    {
      "cell_type": "code",
      "metadata": {
        "execution": {
          "iopub.execute_input": "2021-08-22T04:06:11.258285Z",
          "iopub.status.busy": "2021-08-22T04:06:11.256779Z",
          "iopub.status.idle": "2021-08-22T04:06:11.265654Z",
          "shell.execute_reply": "2021-08-22T04:06:11.265130Z",
          "shell.execute_reply.started": "2021-08-22T04:06:11.258260Z"
        },
        "jupyter": {
          "outputs_hidden": false
        },
        "tags": [],
        "id": "sSU9sZXJe2wx"
      },
      "source": [
        "# Train the Model\n",
        "\n",
        "def training(net, reset = True):\n",
        "    if reset == True:\n",
        "        net, criterion, optimizer = reset_model()\n",
        "    else:\n",
        "        criterion = nn.CrossEntropyLoss()\n",
        "        optimizer = torch.optim.Adam(net.parameters(), lr=learning_rate)\n",
        "    \n",
        "    net.train()\n",
        "    for epoch in range(num_epochs):\n",
        "        total_loss = 0\n",
        "        accuracy = []\n",
        "        for i, (images, labels) in enumerate(train_loader):\n",
        "            images = images.to(device)\n",
        "            labels = labels.to(device)\n",
        "            temp_labels = labels\n",
        "\n",
        "            # Forward + Backward + Optimize\n",
        "            optimizer.zero_grad()\n",
        "            outputs = net(images)\n",
        "            loss = criterion(outputs, labels)\n",
        "\n",
        "            if use_reg == True :\n",
        "                loss = l1_regularizer(net,loss,beta=0.001)\n",
        "\n",
        "            loss.backward()\n",
        "            optimizer.step()\n",
        "\n",
        "            total_loss += loss.item()\n",
        "            _, predicted = torch.max(outputs.data, 1)\n",
        "            correct = (predicted == temp_labels).sum()\n",
        "            accuracy.append(correct/float(batch_size))\n",
        "\n",
        "        print('Epoch: %d, Loss: %.4f, Accuracy: %.4f' %(epoch+1,total_loss, (sum(accuracy)/float(len(accuracy)))))\n",
        "    \n",
        "    return net"
      ],
      "execution_count": null,
      "outputs": []
    },
    {
      "cell_type": "markdown",
      "metadata": {
        "id": "I9Lr4r08e2w0"
      },
      "source": [
        "### Testing function"
      ]
    },
    {
      "cell_type": "code",
      "metadata": {
        "execution": {
          "iopub.execute_input": "2021-08-22T04:06:11.269703Z",
          "iopub.status.busy": "2021-08-22T04:06:11.268318Z",
          "iopub.status.idle": "2021-08-22T04:06:11.275048Z",
          "shell.execute_reply": "2021-08-22T04:06:11.274534Z",
          "shell.execute_reply.started": "2021-08-22T04:06:11.269672Z"
        },
        "jupyter": {
          "outputs_hidden": false
        },
        "tags": [],
        "id": "l5Tch33xe2w0"
      },
      "source": [
        "# Test the Model\n",
        "def testing(net):\n",
        "    net.eval() \n",
        "    correct = 0\n",
        "    total = 0\n",
        "    for images, labels in test_loader:\n",
        "        images = images.to(device)\n",
        "        labels = labels.to(device)\n",
        "        outputs = net(images)\n",
        "        _, predicted = torch.max(outputs.data, 1)\n",
        "        total += labels.size(0)\n",
        "        correct += (predicted == labels).sum()\n",
        "\n",
        "    print('Test Accuracy of the network on the 10000 test images: %.2f %%' % (100.0 * correct / total))"
      ],
      "execution_count": null,
      "outputs": []
    },
    {
      "cell_type": "markdown",
      "metadata": {
        "id": "deuENirze2w2"
      },
      "source": [
        "### Training and testing the network"
      ]
    },
    {
      "cell_type": "code",
      "metadata": {
        "execution": {
          "iopub.execute_input": "2021-08-22T04:06:12.755718Z",
          "iopub.status.busy": "2021-08-22T04:06:12.754271Z",
          "iopub.status.idle": "2021-08-22T04:07:13.333526Z",
          "shell.execute_reply": "2021-08-22T04:07:13.332851Z",
          "shell.execute_reply.started": "2021-08-22T04:06:12.755691Z"
        },
        "jupyter": {
          "outputs_hidden": false
        },
        "tags": [],
        "id": "25AibMmUe2w3"
      },
      "source": [
        "reset = True\n",
        "net = training(net, reset)\n",
        "testing(net)"
      ],
      "execution_count": null,
      "outputs": []
    },
    {
      "cell_type": "markdown",
      "metadata": {
        "id": "r35rkyZve2w4"
      },
      "source": [
        "### Uniform Quantization\n",
        "\n",
        "The simplest motivation for quantization is to shrink file sizes by storing the min and max for each layer, and then compressing each float value to an eight-bit integer representing the closest real number in a linear set of 256 within the range.\n",
        "\n",
        "In the function below we send 8 bits as input which ressembles that the weights of the network should be represented with only 8 bits while storing to disk. In other words we use only 2^8 or 256 clusters. Hence each weight is represented as a 8-bit integer between 0-255.\n",
        "\n",
        "Thus before using the weights during test time they need to be projected into the original weight space by using the following equation:\n",
        "\n",
        "$$\n",
        "W_{i} = min + \\dfrac{max-min}{255}*W_{index}\n",
        "$$"
      ]
    },
    {
      "cell_type": "code",
      "metadata": {
        "execution": {
          "iopub.execute_input": "2021-08-22T04:07:13.337681Z",
          "iopub.status.busy": "2021-08-22T04:07:13.336335Z",
          "iopub.status.idle": "2021-08-22T04:07:13.343807Z",
          "shell.execute_reply": "2021-08-22T04:07:13.343148Z",
          "shell.execute_reply.started": "2021-08-22T04:07:13.337653Z"
        },
        "tags": [],
        "id": "v3ilEd9Pe2w6"
      },
      "source": [
        "def uniform_quantize(weight, bits):\n",
        "    print('-------------------------LAYER---------------------------')\n",
        "    print(\"Number of unique parameters before quantization: \" + str(len(np.unique(weight))))\n",
        "    n_clusters = 2**bits\n",
        "    \n",
        "    maxim = np.amax(weight)\n",
        "    minim = np.amin(weight)\n",
        "    step= (maxim-minim)/(n_clusters - 1)\n",
        "\n",
        "    clusters=[]\n",
        "\n",
        "    for i in range(0,n_clusters):\n",
        "        clusters.append(minim)\n",
        "        minim+=step\n",
        "\n",
        "    for i in range(0,len(weight)):\n",
        "        dist= (clusters-weight[i])**2     \n",
        "        weight[i]=clusters[np.argmin(dist)]\n",
        "        \n",
        "    print(\"Number of unique parameters after quantization: \" + str(len(np.unique(weight))))\n",
        "    \n",
        "    return weight  "
      ],
      "execution_count": null,
      "outputs": []
    },
    {
      "cell_type": "markdown",
      "metadata": {
        "id": "uVYrNoFCe2w7"
      },
      "source": [
        "### Uniform Quantization\n",
        "\n",
        "Different number of bits can be used for representing the weights and biases. The exact number of bits to use is a design choice and may depend on the complexity of the task at hand since using too less number of bits can result in poor performance. Here, we use 8 bits for quantizing the weights and 1 bit for the biases."
      ]
    },
    {
      "cell_type": "code",
      "metadata": {
        "execution": {
          "iopub.execute_input": "2021-08-22T04:07:22.775941Z",
          "iopub.status.busy": "2021-08-22T04:07:22.774469Z",
          "iopub.status.idle": "2021-08-22T04:07:35.920219Z",
          "shell.execute_reply": "2021-08-22T04:07:35.919706Z",
          "shell.execute_reply.started": "2021-08-22T04:07:22.775915Z"
        },
        "jupyter": {
          "outputs_hidden": false
        },
        "id": "UXAsS90ce2w7"
      },
      "source": [
        "for m in net.modules():\n",
        "    if isinstance(m,nn.Conv2d) or isinstance(m,nn.BatchNorm2d) or isinstance(m,nn.Linear):\n",
        "        temp_weight = m.weight.data.cpu().numpy()\n",
        "        dims = temp_weight.shape\n",
        "        temp_weight = temp_weight.flatten()\n",
        "        temp_weight = uniform_quantize(temp_weight, 8)\n",
        "        temp_weight=np.reshape(temp_weight,dims)\n",
        "        m.weight.data = (torch.FloatTensor(temp_weight).to(device))\n",
        "        \n",
        "        temp_bias = m.bias.data.cpu().numpy()\n",
        "        dims = temp_bias.shape\n",
        "        temp_bias = temp_bias.flatten()\n",
        "        temp_bias = uniform_quantize(temp_bias, 1)\n",
        "        temp_bias = np.reshape(temp_bias,dims)\n",
        "        m.bias.data = (torch.FloatTensor(temp_bias).to(device))"
      ],
      "execution_count": null,
      "outputs": []
    },
    {
      "cell_type": "markdown",
      "metadata": {
        "id": "PD7oRuzSe2w8"
      },
      "source": [
        "Now that we have replaced the weight matrix with the approximated weight of the nearest cluster, we can test the network with the modified weights."
      ]
    },
    {
      "cell_type": "code",
      "metadata": {
        "execution": {
          "iopub.execute_input": "2021-08-22T04:07:35.923836Z",
          "iopub.status.busy": "2021-08-22T04:07:35.922632Z",
          "iopub.status.idle": "2021-08-22T04:07:37.014763Z",
          "shell.execute_reply": "2021-08-22T04:07:37.014266Z",
          "shell.execute_reply.started": "2021-08-22T04:07:35.923811Z"
        },
        "jupyter": {
          "outputs_hidden": false
        },
        "id": "YU4vuY9ue2w9"
      },
      "source": [
        "testing(net)"
      ],
      "execution_count": null,
      "outputs": []
    },
    {
      "cell_type": "markdown",
      "metadata": {
        "id": "d_sOZxmVe2w-"
      },
      "source": [
        "## Non-uniform quantization\n",
        "\n",
        "We have seen in the previous method that we divide the weight space into equally partitioned cluster heads. However, instead of forcing the cluster heads to be equally spaced it would make more sense to learn them. A common and obvious practice is to learn the weight space as a distribution of cluseter centers using k-means clustering. Here, we define a function to perform k-means to the weight values.\n",
        "\n",
        "$$\n",
        "min\\sum_{i}^{mn}\\sum_{j}^{k}||w_{i}-c_{j}||_{2}^{2}\n",
        "$$"
      ]
    },
    {
      "cell_type": "code",
      "metadata": {
        "execution": {
          "iopub.execute_input": "2021-08-22T04:07:45.594898Z",
          "iopub.status.busy": "2021-08-22T04:07:45.593446Z",
          "iopub.status.idle": "2021-08-22T04:07:45.599097Z",
          "shell.execute_reply": "2021-08-22T04:07:45.598549Z",
          "shell.execute_reply.started": "2021-08-22T04:07:45.594872Z"
        },
        "tags": [],
        "id": "caat8_cze2xA"
      },
      "source": [
        "num_clusters = 8\n",
        "kmeans = KMeans(n_clusters=num_clusters, random_state=0,  max_iter=500, precompute_distances='auto', verbose=0)"
      ],
      "execution_count": null,
      "outputs": []
    },
    {
      "cell_type": "code",
      "metadata": {
        "execution": {
          "iopub.execute_input": "2021-08-22T04:07:46.555281Z",
          "iopub.status.busy": "2021-08-22T04:07:46.555056Z",
          "iopub.status.idle": "2021-08-22T04:07:46.559643Z",
          "shell.execute_reply": "2021-08-22T04:07:46.559054Z",
          "shell.execute_reply.started": "2021-08-22T04:07:46.555257Z"
        },
        "tags": [],
        "id": "i9lGUTgae2xC"
      },
      "source": [
        "def non_uniform_quantize(weights):\n",
        "    print(\"---------------------------Layer--------------------------------\")\n",
        "    print(\"Number of unique parameters before quantization: \" + str(len(np.unique(weights))))\n",
        "    weights = np.reshape(weights,[weights.shape[0],1])\n",
        "    print(weights.shape)\n",
        "    kmeans_fit = kmeans.fit(weights)\n",
        "    clusters = kmeans_fit.cluster_centers_\n",
        "    \n",
        "    for i in range(0,len(weights)):\n",
        "        dist= (clusters-weights[i])**2     \n",
        "        weights[i]=clusters[np.argmin(dist)]\n",
        "        \n",
        "    print(\"Number of unique parameters after quantization: \" + str(len(np.unique(weights))))\n",
        "    \n",
        "    return weights  "
      ],
      "execution_count": null,
      "outputs": []
    },
    {
      "cell_type": "markdown",
      "metadata": {
        "id": "-_334GDse2xD"
      },
      "source": [
        "We reset the model and train the network since we had earlier done uniform quantization on the weight already."
      ]
    },
    {
      "cell_type": "code",
      "metadata": {
        "execution": {
          "iopub.execute_input": "2021-08-22T04:07:48.522448Z",
          "iopub.status.busy": "2021-08-22T04:07:48.522217Z",
          "iopub.status.idle": "2021-08-22T04:08:48.602167Z",
          "shell.execute_reply": "2021-08-22T04:08:48.601558Z",
          "shell.execute_reply.started": "2021-08-22T04:07:48.522426Z"
        },
        "jupyter": {
          "outputs_hidden": false
        },
        "id": "bz35gcMce2xE"
      },
      "source": [
        "reset = True\n",
        "net = training(net, reset)\n",
        "testing(net)"
      ],
      "execution_count": null,
      "outputs": []
    },
    {
      "cell_type": "markdown",
      "metadata": {
        "id": "jj2eeCJGe2xF"
      },
      "source": [
        "Uniform quantization on the weights and biases"
      ]
    },
    {
      "cell_type": "code",
      "metadata": {
        "execution": {
          "iopub.execute_input": "2021-08-22T04:08:52.063671Z",
          "iopub.status.busy": "2021-08-22T04:08:52.062354Z",
          "iopub.status.idle": "2021-08-22T04:08:59.078655Z",
          "shell.execute_reply": "2021-08-22T04:08:59.078145Z",
          "shell.execute_reply.started": "2021-08-22T04:08:52.063646Z"
        },
        "jupyter": {
          "outputs_hidden": false
        },
        "id": "iUI_9olie2xG"
      },
      "source": [
        "for m in net.modules():\n",
        "    if isinstance(m,nn.Conv2d) or isinstance(m,nn.BatchNorm2d) or isinstance(m,nn.Linear):\n",
        "        temp_weight = m.weight.data.cpu().numpy()\n",
        "        dims = temp_weight.shape\n",
        "        temp_weight = temp_weight.flatten()\n",
        "        temp_weight = non_uniform_quantize(temp_weight)\n",
        "        temp_weight=np.reshape(temp_weight,dims)\n",
        "        m.weight.data = (torch.FloatTensor(temp_weight).to(device))\n",
        "        \n",
        "        temp_bias = m.bias.data.cpu().numpy()\n",
        "        dims = temp_bias.shape\n",
        "        temp_bias = temp_bias.flatten()\n",
        "        temp_bias = non_uniform_quantize(temp_bias)\n",
        "        temp_bias = np.reshape(temp_bias,dims)\n",
        "        m.bias.data = (torch.FloatTensor(temp_bias).to(device))"
      ],
      "execution_count": null,
      "outputs": []
    },
    {
      "cell_type": "code",
      "metadata": {
        "execution": {
          "iopub.execute_input": "2021-08-22T04:08:59.082565Z",
          "iopub.status.busy": "2021-08-22T04:08:59.081098Z",
          "iopub.status.idle": "2021-08-22T04:09:00.183568Z",
          "shell.execute_reply": "2021-08-22T04:09:00.183066Z",
          "shell.execute_reply.started": "2021-08-22T04:08:59.082535Z"
        },
        "jupyter": {
          "outputs_hidden": false
        },
        "id": "0gyc27tAe2xH"
      },
      "source": [
        "testing(net)"
      ],
      "execution_count": null,
      "outputs": []
    },
    {
      "cell_type": "markdown",
      "metadata": {
        "id": "B52VEdBae2xI"
      },
      "source": [
        "### Retraining the network\n",
        "\n",
        "Here we see that 8 clusters are too less in order to maintain the network at the same accuracy since we see almost a 3% drop in performance. One of the solutions is to retrain the network. This helps the other weights to compensate for those weights which on being rounded off to the nearest cluster center have resulted in a drop in performance. Accuracy can be recovered significantly on retraining the network and then non-uniformly quantizing the weights again.\n",
        "\n",
        "#### Excercise"
      ]
    },
    {
      "cell_type": "code",
      "metadata": {
        "jupyter": {
          "outputs_hidden": false
        },
        "id": "bgNrsgUwe2xI"
      },
      "source": [
        "# reset = False\n",
        "# net = training(net, reset)\n",
        "# perform non-uniform quantization\n",
        "# test(net)"
      ],
      "execution_count": null,
      "outputs": []
    },
    {
      "cell_type": "code",
      "metadata": {
        "collapsed": true,
        "jupyter": {
          "outputs_hidden": true
        },
        "id": "3NDMS2YIe2xJ"
      },
      "source": [
        ""
      ],
      "execution_count": null,
      "outputs": []
    },
    {
      "cell_type": "markdown",
      "metadata": {
        "id": "RpAn1I-6e2xK"
      },
      "source": [
        "### References\n",
        "\n",
        "1. https://arxiv.org/pdf/1412.6115.pdf"
      ]
    },
    {
      "cell_type": "code",
      "metadata": {
        "collapsed": true,
        "jupyter": {
          "outputs_hidden": true
        },
        "id": "BIMfE0_Le2xL"
      },
      "source": [
        ""
      ],
      "execution_count": null,
      "outputs": []
    }
  ]
}